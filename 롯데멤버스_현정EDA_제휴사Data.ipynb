{
  "cells": [
    {
      "cell_type": "markdown",
      "metadata": {
        "id": "view-in-github",
        "colab_type": "text"
      },
      "source": [
        "<a href=\"https://colab.research.google.com/github/H-jung/LPOINT_Contest/blob/main/%EB%A1%AF%EB%8D%B0%EB%A9%A4%EB%B2%84%EC%8A%A4_%ED%98%84%EC%A0%95EDA_%EC%A0%9C%ED%9C%B4%EC%82%ACData.ipynb\" target=\"_parent\"><img src=\"https://colab.research.google.com/assets/colab-badge.svg\" alt=\"Open In Colab\"/></a>"
      ]
    },
    {
      "cell_type": "markdown",
      "metadata": {
        "id": "Fjhq2X3JmJdh"
      },
      "source": [
        "# 롯데멤버스 빅데이터경진대회\n",
        "- 팀장 : 임현정\n",
        "- 팀원 : 하혜영, 김윤지"
      ]
    },
    {
      "cell_type": "markdown",
      "metadata": {
        "id": "f_Xz0tmqmAfi"
      },
      "source": [
        "## 사용 라이브러리"
      ]
    },
    {
      "cell_type": "code",
      "source": [
        "from google.colab import drive\n",
        "drive.mount('/content/drive')"
      ],
      "metadata": {
        "colab": {
          "base_uri": "https://localhost:8080/"
        },
        "id": "7X6dXvvUPC9k",
        "outputId": "ddc7134b-d7bd-4ab7-cfb2-a97387402029"
      },
      "execution_count": null,
      "outputs": [
        {
          "output_type": "stream",
          "name": "stdout",
          "text": [
            "Mounted at /content/drive\n"
          ]
        }
      ]
    },
    {
      "cell_type": "code",
      "execution_count": null,
      "metadata": {
        "id": "NdunLLa4l_8c"
      },
      "outputs": [],
      "source": [
        "import pandas as pd\n",
        "import numpy as np\n",
        "import matplotlib.pyplot as plt\n",
        "import seaborn as sns\n",
        "\n",
        "import matplotlib\n",
        "matplotlib.rc('font',family = 'Malgun Gothic')\n",
        "matplotlib.rc('axes',unicode_minus = False)\n",
        "\n",
        "import warnings\n",
        "warnings.filterwarnings('ignore')"
      ]
    },
    {
      "cell_type": "markdown",
      "metadata": {
        "id": "BHcMRlLEmHBj"
      },
      "source": [
        "## 데이터 불러오기"
      ]
    },
    {
      "cell_type": "code",
      "execution_count": null,
      "metadata": {
        "id": "7hhSVBgvGs0g"
      },
      "outputs": [],
      "source": [
        "# # 고객 데모 정보\n",
        "# data1 = pd.read_csv(\"LPOINT_BIG_COMP_01_DEMO.csv\")\n",
        "# data1.columns = ['고객번호','성별','연령대','거주지']\n",
        "\n",
        "# # 유통사 상품 구매 내역\n",
        "# data2 = pd.read_csv(\"/content/drive/MyDrive/백업파일/공모전/LPOINT_BIG_COMP/LPOINT_BIG_COMP_02_PDDE.csv\",parse_dates = ['de_dt'])\n",
        "# data2.columns = ['고객번호','영수증번호','채널','제휴사','점포코드','상품코드','구매일자','구매시간','구매금액','구매수량']\n",
        "# data2['채널'] = np.where(data2['채널'] == 1, \"오프라인\",\"온라인\")\n",
        "\n",
        "# # 제휴사 서비스 이용 내역\n",
        "# data3 = pd.read_csv(\"LPOINT_BIG_COMP_03_COP_U.csv\", parse_dates = ['de_dt','vst_dt'])\n",
        "# data3.columns = ['고객번호','영수증번호','제휴사','점포코드','채널','이용일자','방문일자','이용시간','이용금액']\n",
        "# data3['채널'] = np.where(data3['채널'] == 1, \"오프라인\",\"온라인\")\n",
        "\n",
        "# # 유통사 상품 카테고리 마스터\n",
        "# data4 = pd.read_csv(\"/content/drive/MyDrive/백업파일/공모전/LPOINT_BIG_COMP/LPOINT_BIG_COMP_04_PD_CLAC.csv\")\n",
        "# data4.columns = ['상품코드','소분류','대분류','중분류']\n",
        "\n",
        "# # 유통사/제휴사 점포 마스터\n",
        "# data5 = pd.read_csv(\"LPOINT_BIG_COMP_05_BR.csv\")\n",
        "# data5.columns = ['점포코드','제휴사','점포대분류','점포중분류']\n",
        "\n",
        "# # 엘페이 결제 내역\n",
        "# data6 = pd.read_csv(\"/content/drive/MyDrive/백업파일/공모전/LPOINT_BIG_COMP/LPOINT_BIG_COMP_06_LPAY.csv\",parse_dates = ['de_dt'])\n",
        "# data6.columns = ['고객번호','영수증번호','제휴사','채널','이용일자','이용시간','이용금액']\n",
        "# data6['채널'] = np.where(data6['채널'] == 1, \"오프라인\",\"온라인\")"
      ]
    },
    {
      "cell_type": "code",
      "source": [
        "# 고객 데모 정보\n",
        "data1 = pd.read_csv(\"/content/drive/MyDrive/백업파일/공모전/LPOINT_BIG_COMP/LPOINT_BIG_COMP_01_DEMO.csv\")\n",
        "data1.columns = ['고객번호','성별','연령대','거주지']\n",
        "\n",
        "# 유통사 상품 구매 내역\n",
        "data2 = pd.read_csv(\"/content/drive/MyDrive/백업파일/공모전/LPOINT_BIG_COMP/LPOINT_BIG_COMP_02_PDDE.csv\",parse_dates = ['de_dt'])\n",
        "data2.columns = ['고객번호','영수증번호','채널','제휴사','점포코드','상품코드','구매일자','구매시간','구매금액','구매수량']\n",
        "data2['채널'] = np.where(data2['채널'] == 1, \"오프라인\",\"온라인\")\n",
        "\n",
        "# 제휴사 서비스 이용 내역\n",
        "data3 = pd.read_csv(\"/content/drive/MyDrive/백업파일/공모전/LPOINT_BIG_COMP/LPOINT_BIG_COMP_03_COP_U.csv\", parse_dates = ['de_dt','vst_dt'])\n",
        "data3.columns = ['고객번호','영수증번호','제휴사','점포코드','채널','이용일자','방문일자','이용시간','이용금액']\n",
        "data3['채널'] = np.where(data3['채널'] == 1, \"오프라인\",\"온라인\")\n",
        "\n",
        "# 유통사 상품 카테고리 마스터\n",
        "data4 = pd.read_csv(\"/content/drive/MyDrive/백업파일/공모전/LPOINT_BIG_COMP/LPOINT_BIG_COMP_04_PD_CLAC.csv\")\n",
        "data4.columns = ['상품코드','소분류','대분류','중분류']\n",
        "\n",
        "# 유통사/제휴사 점포 마스터\n",
        "data5 = pd.read_csv(\"/content/drive/MyDrive/백업파일/공모전/LPOINT_BIG_COMP/LPOINT_BIG_COMP_05_BR.csv\")\n",
        "data5.columns = ['점포코드','제휴사','점포대분류','점포중분류']\n",
        "\n",
        "# 엘페이 결제 내역\n",
        "data6 = pd.read_csv(\"/content/drive/MyDrive/백업파일/공모전/LPOINT_BIG_COMP/LPOINT_BIG_COMP_06_LPAY.csv\",parse_dates = ['de_dt'])\n",
        "data6.columns = ['고객번호','영수증번호','제휴사','채널','이용일자','이용시간','이용금액']\n",
        "data6['채널'] = np.where(data6['채널'] == 1, \"오프라인\",\"온라인\")"
      ],
      "metadata": {
        "id": "UWRzvkuuOA0A"
      },
      "execution_count": null,
      "outputs": []
    },
    {
      "cell_type": "markdown",
      "source": [
        "### 고객분류"
      ],
      "metadata": {
        "id": "AfrfQDZ0jphG"
      }
    },
    {
      "cell_type": "code",
      "source": [
        "data3.이용일자.describe()"
      ],
      "metadata": {
        "colab": {
          "base_uri": "https://localhost:8080/"
        },
        "id": "L8hwlUC3x2h6",
        "outputId": "573972e0-db63-4a90-9f15-1fae616b0b11"
      },
      "execution_count": null,
      "outputs": [
        {
          "output_type": "execute_result",
          "data": {
            "text/plain": [
              "count                  248304\n",
              "unique                    369\n",
              "top       2021-05-05 00:00:00\n",
              "freq                     1146\n",
              "first     2020-12-27 00:00:00\n",
              "last      2021-12-31 00:00:00\n",
              "Name: 이용일자, dtype: object"
            ]
          },
          "metadata": {},
          "execution_count": 7
        }
      ]
    },
    {
      "cell_type": "code",
      "source": [
        "data2.구매일자.describe()"
      ],
      "metadata": {
        "colab": {
          "base_uri": "https://localhost:8080/"
        },
        "id": "q9WCbh3wPH9t",
        "outputId": "126066c5-5478-41be-f455-539ccd115b44"
      },
      "execution_count": null,
      "outputs": [
        {
          "output_type": "execute_result",
          "data": {
            "text/plain": [
              "count                 4381743\n",
              "unique                    365\n",
              "top       2021-01-09 00:00:00\n",
              "freq                    22072\n",
              "first     2021-01-01 00:00:00\n",
              "last      2021-12-31 00:00:00\n",
              "Name: 구매일자, dtype: object"
            ]
          },
          "metadata": {},
          "execution_count": 8
        }
      ]
    },
    {
      "cell_type": "code",
      "source": [
        "data6.이용일자.describe()"
      ],
      "metadata": {
        "colab": {
          "base_uri": "https://localhost:8080/"
        },
        "id": "wiN0tFXMPQ3p",
        "outputId": "acf2792f-6045-459c-ab56-83ca3b69337a"
      },
      "execution_count": null,
      "outputs": [
        {
          "output_type": "execute_result",
          "data": {
            "text/plain": [
              "count                  353184\n",
              "unique                    365\n",
              "top       2021-06-07 00:00:00\n",
              "freq                     1506\n",
              "first     2021-01-01 00:00:00\n",
              "last      2021-12-31 00:00:00\n",
              "Name: 이용일자, dtype: object"
            ]
          },
          "metadata": {},
          "execution_count": 9
        }
      ]
    },
    {
      "cell_type": "code",
      "source": [
        "data1.고객번호.nunique()"
      ],
      "metadata": {
        "colab": {
          "base_uri": "https://localhost:8080/"
        },
        "id": "-GFdRZpxiWN1",
        "outputId": "b7f1b42e-3f6c-4fff-a095-960ba4944d2c"
      },
      "execution_count": null,
      "outputs": [
        {
          "output_type": "execute_result",
          "data": {
            "text/plain": [
              "29913"
            ]
          },
          "metadata": {},
          "execution_count": 4
        }
      ]
    },
    {
      "cell_type": "code",
      "source": [
        "data2.고객번호.nunique()"
      ],
      "metadata": {
        "colab": {
          "base_uri": "https://localhost:8080/"
        },
        "id": "WrrYz1Mwibwv",
        "outputId": "13d62ee9-319c-4dce-e6fe-e8e6da2c1e84"
      },
      "execution_count": null,
      "outputs": [
        {
          "output_type": "execute_result",
          "data": {
            "text/plain": [
              "26917"
            ]
          },
          "metadata": {},
          "execution_count": 5
        }
      ]
    },
    {
      "cell_type": "code",
      "source": [
        "data3.고객번호.nunique()"
      ],
      "metadata": {
        "colab": {
          "base_uri": "https://localhost:8080/"
        },
        "id": "ZUsNhLxPieUE",
        "outputId": "10619fb1-6d1f-4fec-bc8f-6d358e8a5319"
      },
      "execution_count": null,
      "outputs": [
        {
          "output_type": "execute_result",
          "data": {
            "text/plain": [
              "21769"
            ]
          },
          "metadata": {},
          "execution_count": 6
        }
      ]
    },
    {
      "cell_type": "code",
      "source": [
        "data6.고객번호.nunique()"
      ],
      "metadata": {
        "colab": {
          "base_uri": "https://localhost:8080/"
        },
        "id": "6L0juFV_ighV",
        "outputId": "c3a82589-7877-4fb7-db3f-f9e3e9e56d07"
      },
      "execution_count": null,
      "outputs": [
        {
          "output_type": "execute_result",
          "data": {
            "text/plain": [
              "8906"
            ]
          },
          "metadata": {},
          "execution_count": 7
        }
      ]
    },
    {
      "cell_type": "markdown",
      "source": [
        "#### 유령고객 : 39명"
      ],
      "metadata": {
        "id": "avPkmpkhoWIS"
      }
    },
    {
      "cell_type": "code",
      "source": [
        "cust_all = data1.고객번호.unique().tolist()\n",
        "cust2 = data2.고객번호.unique().tolist()\n",
        "cust3 = data3.고객번호.unique().tolist()\n",
        "cust6 = data6.고객번호.unique().tolist()"
      ],
      "metadata": {
        "id": "5uMkI5QAiqaZ"
      },
      "execution_count": null,
      "outputs": []
    },
    {
      "cell_type": "code",
      "source": [
        "cust236 = list(set(cust2) | set(cust3) | set(cust6))\n",
        "# 유령고객\n",
        "ghost_cust = list(set(cust_all)-set(cust236));len(ghost_cust)"
      ],
      "metadata": {
        "colab": {
          "base_uri": "https://localhost:8080/"
        },
        "id": "ILnk8Yx6i1HU",
        "outputId": "172c5236-d7a4-48ab-f3b8-372b7859e4b3"
      },
      "execution_count": null,
      "outputs": [
        {
          "output_type": "execute_result",
          "data": {
            "text/plain": [
              "39"
            ]
          },
          "metadata": {},
          "execution_count": 42
        }
      ]
    },
    {
      "cell_type": "code",
      "source": [
        "data1[data1.고객번호.isin(ghost_cust)].연령대.value_counts()"
      ],
      "metadata": {
        "colab": {
          "base_uri": "https://localhost:8080/"
        },
        "id": "Pm1bRT9Uj0ty",
        "outputId": "56226134-9a31-4042-d48f-30e33c1cb764"
      },
      "execution_count": null,
      "outputs": [
        {
          "output_type": "execute_result",
          "data": {
            "text/plain": [
              "70대    20\n",
              "60대    11\n",
              "20대     4\n",
              "30대     3\n",
              "40대     1\n",
              "Name: 연령대, dtype: int64"
            ]
          },
          "metadata": {},
          "execution_count": 18
        }
      ]
    },
    {
      "cell_type": "markdown",
      "source": [
        "#### 유통사 + 제휴사 + 엘페이 다 쓰는 고객 : 7879명"
      ],
      "metadata": {
        "id": "B5VIs1AvoQzH"
      }
    },
    {
      "cell_type": "code",
      "source": [
        "vip_cust = list(set(cust2) & set(cust3) & set(cust6))"
      ],
      "metadata": {
        "id": "504ss6dbkcnH"
      },
      "execution_count": null,
      "outputs": []
    },
    {
      "cell_type": "code",
      "source": [
        "len(vip_cust)"
      ],
      "metadata": {
        "colab": {
          "base_uri": "https://localhost:8080/"
        },
        "id": "5ymFqqP9nWEu",
        "outputId": "efe1c907-5066-4878-d447-acb93f1536da"
      },
      "execution_count": null,
      "outputs": [
        {
          "output_type": "execute_result",
          "data": {
            "text/plain": [
              "7879"
            ]
          },
          "metadata": {},
          "execution_count": 27
        }
      ]
    },
    {
      "cell_type": "code",
      "source": [
        "vip1 = data2.loc[data2.고객번호.isin(vip_cust),['고객번호','구매금액']].groupby('고객번호')[['구매금액']].sum().reset_index()\n",
        "vip2 = data3.loc[data3.고객번호.isin(vip_cust),['고객번호','이용금액']].groupby('고객번호')[['이용금액']].sum().reset_index()\n",
        "vip3 = data6.loc[data6.고객번호.isin(vip_cust),['고객번호','이용금액']].groupby('고객번호')[['이용금액']].sum().reset_index()"
      ],
      "metadata": {
        "id": "v6kwKyQYk5CJ"
      },
      "execution_count": null,
      "outputs": []
    },
    {
      "cell_type": "code",
      "source": [
        "total_df = pd.merge(vip1,vip2,on='고객번호').merge(vip3,on='고객번호')\n",
        "total_df['총구매액'] = total_df.구매금액 + total_df.이용금액_x + total_df.이용금액_y\n",
        "total = total_df.loc[:,['고객번호','총구매액']];total"
      ],
      "metadata": {
        "colab": {
          "base_uri": "https://localhost:8080/",
          "height": 424
        },
        "id": "QzeFBa0MlaxK",
        "outputId": "aa59da86-5963-451c-e991-965abdbaa68f"
      },
      "execution_count": null,
      "outputs": [
        {
          "output_type": "execute_result",
          "data": {
            "text/plain": [
              "            고객번호        총구매액\n",
              "0     M000136117  28748531.0\n",
              "1     M000419293   5653101.0\n",
              "2     M000494848  30430065.0\n",
              "3     M000557840   3761418.0\n",
              "4     M000871427   2322180.0\n",
              "...          ...         ...\n",
              "7874  M999227380   4796170.0\n",
              "7875  M999268192   1827060.0\n",
              "7876  M999599111   5661659.0\n",
              "7877  M999770689   2087570.0\n",
              "7878  M999962961  15655434.0\n",
              "\n",
              "[7879 rows x 2 columns]"
            ],
            "text/html": [
              "\n",
              "  <div id=\"df-96271e55-53d2-4cdd-b213-c28508f78b9a\">\n",
              "    <div class=\"colab-df-container\">\n",
              "      <div>\n",
              "<style scoped>\n",
              "    .dataframe tbody tr th:only-of-type {\n",
              "        vertical-align: middle;\n",
              "    }\n",
              "\n",
              "    .dataframe tbody tr th {\n",
              "        vertical-align: top;\n",
              "    }\n",
              "\n",
              "    .dataframe thead th {\n",
              "        text-align: right;\n",
              "    }\n",
              "</style>\n",
              "<table border=\"1\" class=\"dataframe\">\n",
              "  <thead>\n",
              "    <tr style=\"text-align: right;\">\n",
              "      <th></th>\n",
              "      <th>고객번호</th>\n",
              "      <th>총구매액</th>\n",
              "    </tr>\n",
              "  </thead>\n",
              "  <tbody>\n",
              "    <tr>\n",
              "      <th>0</th>\n",
              "      <td>M000136117</td>\n",
              "      <td>28748531.0</td>\n",
              "    </tr>\n",
              "    <tr>\n",
              "      <th>1</th>\n",
              "      <td>M000419293</td>\n",
              "      <td>5653101.0</td>\n",
              "    </tr>\n",
              "    <tr>\n",
              "      <th>2</th>\n",
              "      <td>M000494848</td>\n",
              "      <td>30430065.0</td>\n",
              "    </tr>\n",
              "    <tr>\n",
              "      <th>3</th>\n",
              "      <td>M000557840</td>\n",
              "      <td>3761418.0</td>\n",
              "    </tr>\n",
              "    <tr>\n",
              "      <th>4</th>\n",
              "      <td>M000871427</td>\n",
              "      <td>2322180.0</td>\n",
              "    </tr>\n",
              "    <tr>\n",
              "      <th>...</th>\n",
              "      <td>...</td>\n",
              "      <td>...</td>\n",
              "    </tr>\n",
              "    <tr>\n",
              "      <th>7874</th>\n",
              "      <td>M999227380</td>\n",
              "      <td>4796170.0</td>\n",
              "    </tr>\n",
              "    <tr>\n",
              "      <th>7875</th>\n",
              "      <td>M999268192</td>\n",
              "      <td>1827060.0</td>\n",
              "    </tr>\n",
              "    <tr>\n",
              "      <th>7876</th>\n",
              "      <td>M999599111</td>\n",
              "      <td>5661659.0</td>\n",
              "    </tr>\n",
              "    <tr>\n",
              "      <th>7877</th>\n",
              "      <td>M999770689</td>\n",
              "      <td>2087570.0</td>\n",
              "    </tr>\n",
              "    <tr>\n",
              "      <th>7878</th>\n",
              "      <td>M999962961</td>\n",
              "      <td>15655434.0</td>\n",
              "    </tr>\n",
              "  </tbody>\n",
              "</table>\n",
              "<p>7879 rows × 2 columns</p>\n",
              "</div>\n",
              "      <button class=\"colab-df-convert\" onclick=\"convertToInteractive('df-96271e55-53d2-4cdd-b213-c28508f78b9a')\"\n",
              "              title=\"Convert this dataframe to an interactive table.\"\n",
              "              style=\"display:none;\">\n",
              "        \n",
              "  <svg xmlns=\"http://www.w3.org/2000/svg\" height=\"24px\"viewBox=\"0 0 24 24\"\n",
              "       width=\"24px\">\n",
              "    <path d=\"M0 0h24v24H0V0z\" fill=\"none\"/>\n",
              "    <path d=\"M18.56 5.44l.94 2.06.94-2.06 2.06-.94-2.06-.94-.94-2.06-.94 2.06-2.06.94zm-11 1L8.5 8.5l.94-2.06 2.06-.94-2.06-.94L8.5 2.5l-.94 2.06-2.06.94zm10 10l.94 2.06.94-2.06 2.06-.94-2.06-.94-.94-2.06-.94 2.06-2.06.94z\"/><path d=\"M17.41 7.96l-1.37-1.37c-.4-.4-.92-.59-1.43-.59-.52 0-1.04.2-1.43.59L10.3 9.45l-7.72 7.72c-.78.78-.78 2.05 0 2.83L4 21.41c.39.39.9.59 1.41.59.51 0 1.02-.2 1.41-.59l7.78-7.78 2.81-2.81c.8-.78.8-2.07 0-2.86zM5.41 20L4 18.59l7.72-7.72 1.47 1.35L5.41 20z\"/>\n",
              "  </svg>\n",
              "      </button>\n",
              "      \n",
              "  <style>\n",
              "    .colab-df-container {\n",
              "      display:flex;\n",
              "      flex-wrap:wrap;\n",
              "      gap: 12px;\n",
              "    }\n",
              "\n",
              "    .colab-df-convert {\n",
              "      background-color: #E8F0FE;\n",
              "      border: none;\n",
              "      border-radius: 50%;\n",
              "      cursor: pointer;\n",
              "      display: none;\n",
              "      fill: #1967D2;\n",
              "      height: 32px;\n",
              "      padding: 0 0 0 0;\n",
              "      width: 32px;\n",
              "    }\n",
              "\n",
              "    .colab-df-convert:hover {\n",
              "      background-color: #E2EBFA;\n",
              "      box-shadow: 0px 1px 2px rgba(60, 64, 67, 0.3), 0px 1px 3px 1px rgba(60, 64, 67, 0.15);\n",
              "      fill: #174EA6;\n",
              "    }\n",
              "\n",
              "    [theme=dark] .colab-df-convert {\n",
              "      background-color: #3B4455;\n",
              "      fill: #D2E3FC;\n",
              "    }\n",
              "\n",
              "    [theme=dark] .colab-df-convert:hover {\n",
              "      background-color: #434B5C;\n",
              "      box-shadow: 0px 1px 3px 1px rgba(0, 0, 0, 0.15);\n",
              "      filter: drop-shadow(0px 1px 2px rgba(0, 0, 0, 0.3));\n",
              "      fill: #FFFFFF;\n",
              "    }\n",
              "  </style>\n",
              "\n",
              "      <script>\n",
              "        const buttonEl =\n",
              "          document.querySelector('#df-96271e55-53d2-4cdd-b213-c28508f78b9a button.colab-df-convert');\n",
              "        buttonEl.style.display =\n",
              "          google.colab.kernel.accessAllowed ? 'block' : 'none';\n",
              "\n",
              "        async function convertToInteractive(key) {\n",
              "          const element = document.querySelector('#df-96271e55-53d2-4cdd-b213-c28508f78b9a');\n",
              "          const dataTable =\n",
              "            await google.colab.kernel.invokeFunction('convertToInteractive',\n",
              "                                                     [key], {});\n",
              "          if (!dataTable) return;\n",
              "\n",
              "          const docLinkHtml = 'Like what you see? Visit the ' +\n",
              "            '<a target=\"_blank\" href=https://colab.research.google.com/notebooks/data_table.ipynb>data table notebook</a>'\n",
              "            + ' to learn more about interactive tables.';\n",
              "          element.innerHTML = '';\n",
              "          dataTable['output_type'] = 'display_data';\n",
              "          await google.colab.output.renderOutput(dataTable, element);\n",
              "          const docLink = document.createElement('div');\n",
              "          docLink.innerHTML = docLinkHtml;\n",
              "          element.appendChild(docLink);\n",
              "        }\n",
              "      </script>\n",
              "    </div>\n",
              "  </div>\n",
              "  "
            ]
          },
          "metadata": {},
          "execution_count": 28
        }
      ]
    },
    {
      "cell_type": "code",
      "source": [
        "total.총구매액.describe()"
      ],
      "metadata": {
        "colab": {
          "base_uri": "https://localhost:8080/"
        },
        "id": "1iXAKrw3n_16",
        "outputId": "0427c320-41c1-4b1f-f9a3-7a6da7b96de3"
      },
      "execution_count": null,
      "outputs": [
        {
          "output_type": "execute_result",
          "data": {
            "text/plain": [
              "count    7.879000e+03\n",
              "mean     9.720863e+06\n",
              "std      2.218591e+07\n",
              "min      1.910000e+04\n",
              "25%      2.119898e+06\n",
              "50%      4.509420e+06\n",
              "75%      9.398489e+06\n",
              "max      7.119147e+08\n",
              "Name: 총구매액, dtype: float64"
            ]
          },
          "metadata": {},
          "execution_count": 35
        }
      ]
    },
    {
      "cell_type": "code",
      "source": [
        "total.총구매액.mean()"
      ],
      "metadata": {
        "colab": {
          "base_uri": "https://localhost:8080/"
        },
        "id": "OwT9LfvkkTPS",
        "outputId": "6a4866ec-99a7-4fef-dff9-3ffbb904121a"
      },
      "execution_count": null,
      "outputs": [
        {
          "output_type": "execute_result",
          "data": {
            "text/plain": [
              "9720863.271227313"
            ]
          },
          "metadata": {},
          "execution_count": 29
        }
      ]
    },
    {
      "cell_type": "code",
      "source": [
        "data3.이용금액.mean()"
      ],
      "metadata": {
        "colab": {
          "base_uri": "https://localhost:8080/"
        },
        "id": "cuP3spjwnqVp",
        "outputId": "8c6f4792-e708-4bf3-b22b-7bc5b1d567b7"
      },
      "execution_count": null,
      "outputs": [
        {
          "output_type": "execute_result",
          "data": {
            "text/plain": [
              "20130.66061763"
            ]
          },
          "metadata": {},
          "execution_count": 30
        }
      ]
    },
    {
      "cell_type": "code",
      "source": [
        "data6.이용금액.mean()"
      ],
      "metadata": {
        "colab": {
          "base_uri": "https://localhost:8080/"
        },
        "id": "h5E7DZxYnz-N",
        "outputId": "c9b5d695-45d8-4fc4-ed15-32aff8f2861b"
      },
      "execution_count": null,
      "outputs": [
        {
          "output_type": "execute_result",
          "data": {
            "text/plain": [
              "60811.79113153484"
            ]
          },
          "metadata": {},
          "execution_count": 32
        }
      ]
    },
    {
      "cell_type": "code",
      "source": [
        "data2.구매금액.mean()"
      ],
      "metadata": {
        "colab": {
          "base_uri": "https://localhost:8080/"
        },
        "id": "U4wI7Vt4n2q5",
        "outputId": "916753c3-a9f6-495f-8aaf-1f181e45ef68"
      },
      "execution_count": null,
      "outputs": [
        {
          "output_type": "execute_result",
          "data": {
            "text/plain": [
              "23212.53765841584"
            ]
          },
          "metadata": {},
          "execution_count": 33
        }
      ]
    },
    {
      "cell_type": "markdown",
      "source": [
        "#### 유통사 + 제휴사만 쓰는 고객 (엘페이 X) : 11051명 (36.9%)"
      ],
      "metadata": {
        "id": "ciuP7EGsoYv6"
      }
    },
    {
      "cell_type": "code",
      "source": [
        "cust23 = list(set(cust2) & set(cust3) - set(cust6)); len(cust23)"
      ],
      "metadata": {
        "colab": {
          "base_uri": "https://localhost:8080/"
        },
        "id": "wkU-4-A7pa1b",
        "outputId": "cc68f657-2f86-40bd-8d2d-51e4f78defb4"
      },
      "execution_count": null,
      "outputs": [
        {
          "output_type": "execute_result",
          "data": {
            "text/plain": [
              "11051"
            ]
          },
          "metadata": {},
          "execution_count": 43
        }
      ]
    },
    {
      "cell_type": "code",
      "source": [
        "print(len(list(set(cust2) | set(cust3))))\n",
        "print(len(list(set(cust2) | set(cust3) - set(cust6))))"
      ],
      "metadata": {
        "colab": {
          "base_uri": "https://localhost:8080/"
        },
        "id": "TzD2mEyAzbbo",
        "outputId": "32e9489d-fa8c-4440-fc37-6956300ae2ca"
      },
      "execution_count": null,
      "outputs": [
        {
          "output_type": "stream",
          "name": "stdout",
          "text": [
            "29756\n",
            "29544\n"
          ]
        }
      ]
    },
    {
      "cell_type": "markdown",
      "source": [
        "#### 유통사 + 엘페이 쓰는 고객 (제휴사 X) : 697명"
      ],
      "metadata": {
        "id": "mfB6UVcos96a"
      }
    },
    {
      "cell_type": "code",
      "source": [
        "cust26 = list(set(cust2) & set(cust6) - set(cust3)); len(cust26)"
      ],
      "metadata": {
        "colab": {
          "base_uri": "https://localhost:8080/"
        },
        "id": "F0_lSpvTtJBy",
        "outputId": "a1a07ea4-456e-493b-ff24-f4545b39d46d"
      },
      "execution_count": null,
      "outputs": [
        {
          "output_type": "execute_result",
          "data": {
            "text/plain": [
              "697"
            ]
          },
          "metadata": {},
          "execution_count": 49
        }
      ]
    },
    {
      "cell_type": "markdown",
      "source": [
        "#### 제휴사 + 엘페이 쓰는 고객 (유통사 X) : 212명"
      ],
      "metadata": {
        "id": "0uv5GXfutFd5"
      }
    },
    {
      "cell_type": "code",
      "source": [
        "cust36 = list(set(cust3) & set(cust6) - set(cust2)); len(cust36)"
      ],
      "metadata": {
        "colab": {
          "base_uri": "https://localhost:8080/"
        },
        "id": "3gMjLl1RtJYC",
        "outputId": "105e1949-a82d-4e54-fc8f-35df3d3c4228"
      },
      "execution_count": null,
      "outputs": [
        {
          "output_type": "execute_result",
          "data": {
            "text/plain": [
              "212"
            ]
          },
          "metadata": {},
          "execution_count": 50
        }
      ]
    },
    {
      "cell_type": "markdown",
      "source": [
        "#### 유통사만 쓰는 고객 : 7290명"
      ],
      "metadata": {
        "id": "C4bSjlANsz0K"
      }
    },
    {
      "cell_type": "code",
      "source": [
        "only2 = list(set(cust2)-set(cust3)-set(cust6)-set(ghost_cust)) ; len(only2)"
      ],
      "metadata": {
        "colab": {
          "base_uri": "https://localhost:8080/"
        },
        "id": "V9RkWLSwsL4O",
        "outputId": "e6da16f0-52e3-4cb2-a227-97d2a592e374"
      },
      "execution_count": null,
      "outputs": [
        {
          "output_type": "execute_result",
          "data": {
            "text/plain": [
              "7290"
            ]
          },
          "metadata": {},
          "execution_count": 46
        }
      ]
    },
    {
      "cell_type": "markdown",
      "source": [
        "#### 제휴사만 쓰는 고객 : 2627명"
      ],
      "metadata": {
        "id": "uFdOgLThs3RD"
      }
    },
    {
      "cell_type": "code",
      "source": [
        "only3 = list(set(cust3)-set(cust2)-set(cust6)-set(ghost_cust)) ; len(only3)"
      ],
      "metadata": {
        "colab": {
          "base_uri": "https://localhost:8080/"
        },
        "id": "0-2rUV1uskaS",
        "outputId": "992a85ea-184d-480c-e36f-f790cd79149f"
      },
      "execution_count": null,
      "outputs": [
        {
          "output_type": "execute_result",
          "data": {
            "text/plain": [
              "2627"
            ]
          },
          "metadata": {},
          "execution_count": 47
        }
      ]
    },
    {
      "cell_type": "markdown",
      "source": [
        "#### 엘페이만 쓰는 고객 : 118명"
      ],
      "metadata": {
        "id": "ft27U3gts6Yp"
      }
    },
    {
      "cell_type": "code",
      "source": [
        "only6 = list(set(cust6)-set(cust2)-set(cust3)-set(ghost_cust)) ; len(only6)"
      ],
      "metadata": {
        "colab": {
          "base_uri": "https://localhost:8080/"
        },
        "id": "MIQSO-VBsoVS",
        "outputId": "34261056-c677-44fc-d9de-363a3a4348e3"
      },
      "execution_count": null,
      "outputs": [
        {
          "output_type": "execute_result",
          "data": {
            "text/plain": [
              "118"
            ]
          },
          "metadata": {},
          "execution_count": 48
        }
      ]
    },
    {
      "cell_type": "markdown",
      "metadata": {
        "id": "Ikrt7uVGNy1d"
      },
      "source": [
        "## 데이터 전처리"
      ]
    },
    {
      "cell_type": "markdown",
      "metadata": {
        "id": "-NGNbIFXPB9s"
      },
      "source": [
        "### 데이터 개수"
      ]
    },
    {
      "cell_type": "code",
      "execution_count": null,
      "metadata": {
        "colab": {
          "base_uri": "https://localhost:8080/"
        },
        "id": "4UCP3cACNfh4",
        "outputId": "0f003674-09a5-40ec-a8e3-943d5f9c8025"
      },
      "outputs": [
        {
          "name": "stdout",
          "output_type": "stream",
          "text": [
            "(248304, 9)\n"
          ]
        }
      ],
      "source": [
        "print(data3.shape)"
      ]
    },
    {
      "cell_type": "markdown",
      "metadata": {
        "id": "QvQhthXfO9lM"
      },
      "source": [
        "### 결측치 확인 및 처리\n",
        "- 점포코드 열에 55개의 결측치 확인"
      ]
    },
    {
      "cell_type": "code",
      "execution_count": null,
      "metadata": {
        "colab": {
          "base_uri": "https://localhost:8080/"
        },
        "id": "tAneH0NKPMb4",
        "outputId": "5baa6f95-fda2-4ff3-8ee8-6f03dcafbe17"
      },
      "outputs": [
        {
          "data": {
            "text/plain": [
              "고객번호      0\n",
              "영수증번호     0\n",
              "제휴사       0\n",
              "점포코드     55\n",
              "채널        0\n",
              "이용일자      0\n",
              "방문일자      0\n",
              "이용시간      0\n",
              "이용금액      0\n",
              "dtype: int64"
            ]
          },
          "execution_count": 4,
          "metadata": {},
          "output_type": "execute_result"
        }
      ],
      "source": [
        "data3.isnull().sum()"
      ]
    },
    {
      "cell_type": "markdown",
      "metadata": {
        "id": "k4b3POo7PU47"
      },
      "source": [
        "- 결측치의 경우, 모두 채널이 **온라인**, 제휴사가 **E01** 으로 확인."
      ]
    },
    {
      "cell_type": "code",
      "execution_count": null,
      "metadata": {
        "colab": {
          "base_uri": "https://localhost:8080/"
        },
        "id": "clJbc4rkNmMQ",
        "outputId": "3cfe0a16-05fb-479e-a4af-540531610349"
      },
      "outputs": [
        {
          "data": {
            "text/plain": [
              "온라인    55\n",
              "Name: 채널, dtype: int64"
            ]
          },
          "execution_count": 5,
          "metadata": {},
          "output_type": "execute_result"
        }
      ],
      "source": [
        "data3.loc[data3.isnull().any(axis=1)]['채널'].value_counts()"
      ]
    },
    {
      "cell_type": "code",
      "execution_count": null,
      "metadata": {
        "colab": {
          "base_uri": "https://localhost:8080/"
        },
        "id": "yqG7CXk4RQ5h",
        "outputId": "ac40b560-f0b1-4886-c8a1-3d540a1f0153"
      },
      "outputs": [
        {
          "data": {
            "text/plain": [
              "E01    55\n",
              "Name: 제휴사, dtype: int64"
            ]
          },
          "execution_count": 6,
          "metadata": {},
          "output_type": "execute_result"
        }
      ],
      "source": [
        "data3.loc[data3.isnull().any(axis=1)]['제휴사'].value_counts()"
      ]
    },
    {
      "cell_type": "code",
      "execution_count": null,
      "metadata": {
        "colab": {
          "base_uri": "https://localhost:8080/"
        },
        "id": "xH9_PPjxdz50",
        "outputId": "386fd77a-1661-46ad-b510-bfe8f7376a27"
      },
      "outputs": [
        {
          "data": {
            "text/plain": [
              "0.02215026741413751"
            ]
          },
          "execution_count": 7,
          "metadata": {},
          "output_type": "execute_result"
        }
      ],
      "source": [
        "55/len(data3)*100"
      ]
    },
    {
      "cell_type": "markdown",
      "metadata": {
        "id": "A_A9GxG-djoB"
      },
      "source": [
        "- 0.02%의 데이터가 결측. 따라서 제거하고 진행\n",
        "> 왜 E01(렌탈업종)을 온라인에서 살 때 점포코드가 없을까??"
      ]
    },
    {
      "cell_type": "code",
      "execution_count": null,
      "metadata": {
        "colab": {
          "base_uri": "https://localhost:8080/"
        },
        "id": "u0RHczvJeLqW",
        "outputId": "0806ceab-8d88-4de5-900b-aed1dba87561"
      },
      "outputs": [
        {
          "data": {
            "text/plain": [
              "고객번호     0\n",
              "영수증번호    0\n",
              "제휴사      0\n",
              "점포코드     0\n",
              "채널       0\n",
              "이용일자     0\n",
              "방문일자     0\n",
              "이용시간     0\n",
              "이용금액     0\n",
              "dtype: int64"
            ]
          },
          "execution_count": 8,
          "metadata": {},
          "output_type": "execute_result"
        }
      ],
      "source": [
        "data3_nn = data3.loc[data3.notnull().all(axis=1)].reset_index(drop=True);data3_nn.isnull().sum()"
      ]
    },
    {
      "cell_type": "markdown",
      "metadata": {
        "id": "5ZAqUeIGNy1i"
      },
      "source": [
        "### 이상치 처리"
      ]
    },
    {
      "cell_type": "markdown",
      "metadata": {
        "id": "BZ7dTZDvNy1i"
      },
      "source": [
        "- 이용금액 : 비정상적으로 큰 5개의 데이터 삭제\n",
        "> 제휴사 B01(숙박업종) : 호텔 스위트룸 이용인가?"
      ]
    },
    {
      "cell_type": "code",
      "execution_count": null,
      "metadata": {
        "id": "Lg87obnXNy1j",
        "outputId": "1ee15b76-9500-453a-89dd-4b04a239a629"
      },
      "outputs": [
        {
          "data": {
            "text/html": [
              "<div>\n",
              "<style scoped>\n",
              "    .dataframe tbody tr th:only-of-type {\n",
              "        vertical-align: middle;\n",
              "    }\n",
              "\n",
              "    .dataframe tbody tr th {\n",
              "        vertical-align: top;\n",
              "    }\n",
              "\n",
              "    .dataframe thead th {\n",
              "        text-align: right;\n",
              "    }\n",
              "</style>\n",
              "<table border=\"1\" class=\"dataframe\">\n",
              "  <thead>\n",
              "    <tr style=\"text-align: right;\">\n",
              "      <th></th>\n",
              "      <th>이용시간</th>\n",
              "      <th>이용금액</th>\n",
              "    </tr>\n",
              "  </thead>\n",
              "  <tbody>\n",
              "    <tr>\n",
              "      <th>count</th>\n",
              "      <td>248249.000000</td>\n",
              "      <td>2.482490e+05</td>\n",
              "    </tr>\n",
              "    <tr>\n",
              "      <th>mean</th>\n",
              "      <td>14.737465</td>\n",
              "      <td>2.011594e+04</td>\n",
              "    </tr>\n",
              "    <tr>\n",
              "      <th>std</th>\n",
              "      <td>3.814015</td>\n",
              "      <td>2.430299e+05</td>\n",
              "    </tr>\n",
              "    <tr>\n",
              "      <th>min</th>\n",
              "      <td>0.000000</td>\n",
              "      <td>1.000000e+00</td>\n",
              "    </tr>\n",
              "    <tr>\n",
              "      <th>25%</th>\n",
              "      <td>12.000000</td>\n",
              "      <td>5.000000e+03</td>\n",
              "    </tr>\n",
              "    <tr>\n",
              "      <th>50%</th>\n",
              "      <td>15.000000</td>\n",
              "      <td>9.000000e+03</td>\n",
              "    </tr>\n",
              "    <tr>\n",
              "      <th>75%</th>\n",
              "      <td>18.000000</td>\n",
              "      <td>1.580000e+04</td>\n",
              "    </tr>\n",
              "    <tr>\n",
              "      <th>max</th>\n",
              "      <td>23.000000</td>\n",
              "      <td>7.009200e+07</td>\n",
              "    </tr>\n",
              "  </tbody>\n",
              "</table>\n",
              "</div>"
            ],
            "text/plain": [
              "                이용시간          이용금액\n",
              "count  248249.000000  2.482490e+05\n",
              "mean       14.737465  2.011594e+04\n",
              "std         3.814015  2.430299e+05\n",
              "min         0.000000  1.000000e+00\n",
              "25%        12.000000  5.000000e+03\n",
              "50%        15.000000  9.000000e+03\n",
              "75%        18.000000  1.580000e+04\n",
              "max        23.000000  7.009200e+07"
            ]
          },
          "execution_count": 146,
          "metadata": {},
          "output_type": "execute_result"
        }
      ],
      "source": [
        "data3_nn.describe()"
      ]
    },
    {
      "cell_type": "code",
      "execution_count": null,
      "metadata": {
        "id": "xoV9QMq4Ny1j",
        "outputId": "a1ce3d41-a2f4-4b60-d3d4-79480a06c2be"
      },
      "outputs": [
        {
          "data": {
            "image/png": "[encoded data removed]",
            "text/plain": [
              "<Figure size 432x288 with 1 Axes>"
            ]
          },
          "metadata": {
            "needs_background": "light"
          },
          "output_type": "display_data"
        }
      ],
      "source": [
        "data3_nn[['이용금액']].boxplot();plt.show()"
      ]
    },
    {
      "cell_type": "code",
      "execution_count": null,
      "metadata": {
        "id": "K7r2GA8fNy1j",
        "outputId": "b293e84e-3040-4e6d-eae1-618bbf69f375"
      },
      "outputs": [
        {
          "data": {
            "text/html": [
              "<div>\n",
              "<style scoped>\n",
              "    .dataframe tbody tr th:only-of-type {\n",
              "        vertical-align: middle;\n",
              "    }\n",
              "\n",
              "    .dataframe tbody tr th {\n",
              "        vertical-align: top;\n",
              "    }\n",
              "\n",
              "    .dataframe thead th {\n",
              "        text-align: right;\n",
              "    }\n",
              "</style>\n",
              "<table border=\"1\" class=\"dataframe\">\n",
              "  <thead>\n",
              "    <tr style=\"text-align: right;\">\n",
              "      <th></th>\n",
              "      <th>고객번호</th>\n",
              "      <th>영수증번호</th>\n",
              "      <th>제휴사</th>\n",
              "      <th>점포코드</th>\n",
              "      <th>채널</th>\n",
              "      <th>이용일자</th>\n",
              "      <th>방문일자</th>\n",
              "      <th>이용시간</th>\n",
              "      <th>이용금액</th>\n",
              "    </tr>\n",
              "  </thead>\n",
              "  <tbody>\n",
              "    <tr>\n",
              "      <th>1536</th>\n",
              "      <td>M034936927</td>\n",
              "      <td>21102420B014041708</td>\n",
              "      <td>B01</td>\n",
              "      <td>B010014</td>\n",
              "      <td>오프라인</td>\n",
              "      <td>2021-10-24</td>\n",
              "      <td>2021-10-24</td>\n",
              "      <td>20</td>\n",
              "      <td>46810900</td>\n",
              "    </tr>\n",
              "    <tr>\n",
              "      <th>68757</th>\n",
              "      <td>M867765456</td>\n",
              "      <td>21022719B010855120</td>\n",
              "      <td>B01</td>\n",
              "      <td>B010019</td>\n",
              "      <td>오프라인</td>\n",
              "      <td>2021-02-27</td>\n",
              "      <td>2021-02-27</td>\n",
              "      <td>19</td>\n",
              "      <td>59090000</td>\n",
              "    </tr>\n",
              "    <tr>\n",
              "      <th>130383</th>\n",
              "      <td>M414456394</td>\n",
              "      <td>21121214B015022577</td>\n",
              "      <td>B01</td>\n",
              "      <td>B010014</td>\n",
              "      <td>오프라인</td>\n",
              "      <td>2021-12-12</td>\n",
              "      <td>2021-12-12</td>\n",
              "      <td>14</td>\n",
              "      <td>23765600</td>\n",
              "    </tr>\n",
              "    <tr>\n",
              "      <th>215054</th>\n",
              "      <td>M439502359</td>\n",
              "      <td>21112714B010943839</td>\n",
              "      <td>B01</td>\n",
              "      <td>B010014</td>\n",
              "      <td>오프라인</td>\n",
              "      <td>2021-11-27</td>\n",
              "      <td>2021-11-27</td>\n",
              "      <td>14</td>\n",
              "      <td>44141200</td>\n",
              "    </tr>\n",
              "    <tr>\n",
              "      <th>216637</th>\n",
              "      <td>M481734389</td>\n",
              "      <td>21102320B015974616</td>\n",
              "      <td>B01</td>\n",
              "      <td>B010019</td>\n",
              "      <td>오프라인</td>\n",
              "      <td>2021-10-23</td>\n",
              "      <td>2021-10-23</td>\n",
              "      <td>20</td>\n",
              "      <td>70092000</td>\n",
              "    </tr>\n",
              "  </tbody>\n",
              "</table>\n",
              "</div>"
            ],
            "text/plain": [
              "              고객번호               영수증번호  제휴사     점포코드    채널       이용일자  \\\n",
              "1536    M034936927  21102420B014041708  B01  B010014  오프라인 2021-10-24   \n",
              "68757   M867765456  21022719B010855120  B01  B010019  오프라인 2021-02-27   \n",
              "130383  M414456394  21121214B015022577  B01  B010014  오프라인 2021-12-12   \n",
              "215054  M439502359  21112714B010943839  B01  B010014  오프라인 2021-11-27   \n",
              "216637  M481734389  21102320B015974616  B01  B010019  오프라인 2021-10-23   \n",
              "\n",
              "             방문일자  이용시간      이용금액  \n",
              "1536   2021-10-24    20  46810900  \n",
              "68757  2021-02-27    19  59090000  \n",
              "130383 2021-12-12    14  23765600  \n",
              "215054 2021-11-27    14  44141200  \n",
              "216637 2021-10-23    20  70092000  "
            ]
          },
          "execution_count": 148,
          "metadata": {},
          "output_type": "execute_result"
        }
      ],
      "source": [
        "data3_nn[data3_nn.이용금액>10000000]"
      ]
    },
    {
      "cell_type": "code",
      "execution_count": null,
      "metadata": {
        "id": "VWemPeLDNy1k"
      },
      "outputs": [],
      "source": [
        "data3_nn = data3_nn[data3_nn.이용금액<10000000]"
      ]
    },
    {
      "cell_type": "markdown",
      "metadata": {
        "id": "pPTrN9MHNy1k"
      },
      "source": [
        "- 이용시간 : 0인 데이터 1483개 (0.59%) 처리 어쩌죠?"
      ]
    },
    {
      "cell_type": "code",
      "execution_count": null,
      "metadata": {
        "id": "XcWRm_tkNy1k",
        "outputId": "79934670-e8b9-492c-98c9-d8933f39da54"
      },
      "outputs": [
        {
          "data": {
            "image/png": "[encoded data removed]",
            "text/plain": [
              "<Figure size 432x288 with 1 Axes>"
            ]
          },
          "metadata": {
            "needs_background": "light"
          },
          "output_type": "display_data"
        }
      ],
      "source": [
        "data3_nn[['이용시간']].boxplot();plt.show()"
      ]
    },
    {
      "cell_type": "code",
      "execution_count": null,
      "metadata": {
        "id": "AxHTWel1Ny1l",
        "outputId": "dc494b92-7360-438d-c15a-9b77633e916a"
      },
      "outputs": [
        {
          "data": {
            "text/plain": [
              "1483"
            ]
          },
          "execution_count": 259,
          "metadata": {},
          "output_type": "execute_result"
        }
      ],
      "source": [
        "len(data3_nn[data3_nn.이용시간==0])"
      ]
    },
    {
      "cell_type": "code",
      "execution_count": null,
      "metadata": {
        "id": "00WuIDgfNy1l",
        "outputId": "c943ce0f-12f5-4cd9-9bb9-0bdb500b16e5"
      },
      "outputs": [
        {
          "data": {
            "text/plain": [
              "0.5973961102785968"
            ]
          },
          "execution_count": 258,
          "metadata": {},
          "output_type": "execute_result"
        }
      ],
      "source": [
        "len(data3_nn[data3_nn.이용시간==0])/len(data3_nn)*100"
      ]
    },
    {
      "cell_type": "markdown",
      "metadata": {
        "id": "bBIgjFITeE_l"
      },
      "source": [
        "### 데이터 병합"
      ]
    },
    {
      "cell_type": "code",
      "execution_count": null,
      "metadata": {
        "colab": {
          "base_uri": "https://localhost:8080/",
          "height": 206
        },
        "id": "uTH9D1R2eGFM",
        "outputId": "43155db8-0595-4248-d5b4-92ec860df6b2"
      },
      "outputs": [
        {
          "data": {
            "text/html": [
              "<div>\n",
              "<style scoped>\n",
              "    .dataframe tbody tr th:only-of-type {\n",
              "        vertical-align: middle;\n",
              "    }\n",
              "\n",
              "    .dataframe tbody tr th {\n",
              "        vertical-align: top;\n",
              "    }\n",
              "\n",
              "    .dataframe thead th {\n",
              "        text-align: right;\n",
              "    }\n",
              "</style>\n",
              "<table border=\"1\" class=\"dataframe\">\n",
              "  <thead>\n",
              "    <tr style=\"text-align: right;\">\n",
              "      <th></th>\n",
              "      <th>고객번호</th>\n",
              "      <th>영수증번호</th>\n",
              "      <th>제휴사</th>\n",
              "      <th>점포코드</th>\n",
              "      <th>채널</th>\n",
              "      <th>이용일자</th>\n",
              "      <th>방문일자</th>\n",
              "      <th>이용시간</th>\n",
              "      <th>이용금액</th>\n",
              "      <th>성별</th>\n",
              "      <th>연령대</th>\n",
              "      <th>거주지</th>\n",
              "      <th>점포대분류</th>\n",
              "      <th>점포중분류</th>\n",
              "    </tr>\n",
              "  </thead>\n",
              "  <tbody>\n",
              "    <tr>\n",
              "      <th>0</th>\n",
              "      <td>M839993508</td>\n",
              "      <td>21102612B015763935</td>\n",
              "      <td>B01</td>\n",
              "      <td>B010012</td>\n",
              "      <td>오프라인</td>\n",
              "      <td>2021-10-26</td>\n",
              "      <td>2021-10-26</td>\n",
              "      <td>12</td>\n",
              "      <td>60000</td>\n",
              "      <td>남성</td>\n",
              "      <td>70대</td>\n",
              "      <td>Z17</td>\n",
              "      <td>Z17</td>\n",
              "      <td>Z17024</td>\n",
              "    </tr>\n",
              "    <tr>\n",
              "      <th>1</th>\n",
              "      <td>M839993508</td>\n",
              "      <td>21110610B014219744</td>\n",
              "      <td>B01</td>\n",
              "      <td>B010012</td>\n",
              "      <td>오프라인</td>\n",
              "      <td>2021-11-06</td>\n",
              "      <td>2021-11-06</td>\n",
              "      <td>10</td>\n",
              "      <td>17100</td>\n",
              "      <td>남성</td>\n",
              "      <td>70대</td>\n",
              "      <td>Z17</td>\n",
              "      <td>Z17</td>\n",
              "      <td>Z17024</td>\n",
              "    </tr>\n",
              "    <tr>\n",
              "      <th>2</th>\n",
              "      <td>M839993508</td>\n",
              "      <td>21021112B013419710</td>\n",
              "      <td>B01</td>\n",
              "      <td>B010012</td>\n",
              "      <td>오프라인</td>\n",
              "      <td>2021-02-11</td>\n",
              "      <td>2021-02-11</td>\n",
              "      <td>12</td>\n",
              "      <td>136500</td>\n",
              "      <td>남성</td>\n",
              "      <td>70대</td>\n",
              "      <td>Z17</td>\n",
              "      <td>Z17</td>\n",
              "      <td>Z17024</td>\n",
              "    </tr>\n",
              "    <tr>\n",
              "      <th>3</th>\n",
              "      <td>M839993508</td>\n",
              "      <td>21092010B012637545</td>\n",
              "      <td>B01</td>\n",
              "      <td>B010012</td>\n",
              "      <td>오프라인</td>\n",
              "      <td>2021-09-20</td>\n",
              "      <td>2021-09-20</td>\n",
              "      <td>10</td>\n",
              "      <td>34200</td>\n",
              "      <td>남성</td>\n",
              "      <td>70대</td>\n",
              "      <td>Z17</td>\n",
              "      <td>Z17</td>\n",
              "      <td>Z17024</td>\n",
              "    </tr>\n",
              "    <tr>\n",
              "      <th>4</th>\n",
              "      <td>M839993508</td>\n",
              "      <td>21062011B015813935</td>\n",
              "      <td>B01</td>\n",
              "      <td>B010012</td>\n",
              "      <td>오프라인</td>\n",
              "      <td>2021-06-20</td>\n",
              "      <td>2021-06-20</td>\n",
              "      <td>11</td>\n",
              "      <td>17100</td>\n",
              "      <td>남성</td>\n",
              "      <td>70대</td>\n",
              "      <td>Z17</td>\n",
              "      <td>Z17</td>\n",
              "      <td>Z17024</td>\n",
              "    </tr>\n",
              "  </tbody>\n",
              "</table>\n",
              "</div>"
            ],
            "text/plain": [
              "         고객번호               영수증번호  제휴사     점포코드    채널       이용일자       방문일자  \\\n",
              "0  M839993508  21102612B015763935  B01  B010012  오프라인 2021-10-26 2021-10-26   \n",
              "1  M839993508  21110610B014219744  B01  B010012  오프라인 2021-11-06 2021-11-06   \n",
              "2  M839993508  21021112B013419710  B01  B010012  오프라인 2021-02-11 2021-02-11   \n",
              "3  M839993508  21092010B012637545  B01  B010012  오프라인 2021-09-20 2021-09-20   \n",
              "4  M839993508  21062011B015813935  B01  B010012  오프라인 2021-06-20 2021-06-20   \n",
              "\n",
              "   이용시간    이용금액  성별  연령대  거주지 점포대분류   점포중분류  \n",
              "0    12   60000  남성  70대  Z17   Z17  Z17024  \n",
              "1    10   17100  남성  70대  Z17   Z17  Z17024  \n",
              "2    12  136500  남성  70대  Z17   Z17  Z17024  \n",
              "3    10   34200  남성  70대  Z17   Z17  Z17024  \n",
              "4    11   17100  남성  70대  Z17   Z17  Z17024  "
            ]
          },
          "execution_count": 150,
          "metadata": {},
          "output_type": "execute_result"
        }
      ],
      "source": [
        "df3 = pd.merge(data3_nn,data1).merge(data5);df3.head()"
      ]
    },
    {
      "cell_type": "markdown",
      "metadata": {
        "id": "DUlUPZKmNy1l"
      },
      "source": [
        "## 파생변수"
      ]
    },
    {
      "cell_type": "markdown",
      "metadata": {
        "id": "RDX12GvmNy1m"
      },
      "source": [
        "- 방문월, 방문계절, 결제 후 방문까지 소요시간 <br>\n",
        "(방문계절 : 이용일자는 결제일자고, 방문일자는 실제 이용한 날짜..?로 생각하고 방문일자로 계절 추출)"
      ]
    },
    {
      "cell_type": "code",
      "execution_count": null,
      "metadata": {
        "scrolled": true,
        "id": "FPh-t82ANy1m",
        "outputId": "517e2ab5-4c9a-4076-afba-9b83ea1141ed"
      },
      "outputs": [
        {
          "data": {
            "text/html": [
              "<div>\n",
              "<style scoped>\n",
              "    .dataframe tbody tr th:only-of-type {\n",
              "        vertical-align: middle;\n",
              "    }\n",
              "\n",
              "    .dataframe tbody tr th {\n",
              "        vertical-align: top;\n",
              "    }\n",
              "\n",
              "    .dataframe thead th {\n",
              "        text-align: right;\n",
              "    }\n",
              "</style>\n",
              "<table border=\"1\" class=\"dataframe\">\n",
              "  <thead>\n",
              "    <tr style=\"text-align: right;\">\n",
              "      <th></th>\n",
              "      <th>고객번호</th>\n",
              "      <th>영수증번호</th>\n",
              "      <th>제휴사</th>\n",
              "      <th>점포코드</th>\n",
              "      <th>채널</th>\n",
              "      <th>이용일자</th>\n",
              "      <th>방문일자</th>\n",
              "      <th>이용시간</th>\n",
              "      <th>이용금액</th>\n",
              "      <th>성별</th>\n",
              "      <th>연령대</th>\n",
              "      <th>거주지</th>\n",
              "      <th>점포대분류</th>\n",
              "      <th>점포중분류</th>\n",
              "      <th>결제후방문</th>\n",
              "      <th>방문월</th>\n",
              "    </tr>\n",
              "  </thead>\n",
              "  <tbody>\n",
              "    <tr>\n",
              "      <th>0</th>\n",
              "      <td>M839993508</td>\n",
              "      <td>21102612B015763935</td>\n",
              "      <td>B01</td>\n",
              "      <td>B010012</td>\n",
              "      <td>오프라인</td>\n",
              "      <td>2021-10-26</td>\n",
              "      <td>2021-10-26</td>\n",
              "      <td>12</td>\n",
              "      <td>60000</td>\n",
              "      <td>남성</td>\n",
              "      <td>70대</td>\n",
              "      <td>Z17</td>\n",
              "      <td>Z17</td>\n",
              "      <td>Z17024</td>\n",
              "      <td>0</td>\n",
              "      <td>10</td>\n",
              "    </tr>\n",
              "    <tr>\n",
              "      <th>1</th>\n",
              "      <td>M839993508</td>\n",
              "      <td>21110610B014219744</td>\n",
              "      <td>B01</td>\n",
              "      <td>B010012</td>\n",
              "      <td>오프라인</td>\n",
              "      <td>2021-11-06</td>\n",
              "      <td>2021-11-06</td>\n",
              "      <td>10</td>\n",
              "      <td>17100</td>\n",
              "      <td>남성</td>\n",
              "      <td>70대</td>\n",
              "      <td>Z17</td>\n",
              "      <td>Z17</td>\n",
              "      <td>Z17024</td>\n",
              "      <td>0</td>\n",
              "      <td>11</td>\n",
              "    </tr>\n",
              "    <tr>\n",
              "      <th>2</th>\n",
              "      <td>M839993508</td>\n",
              "      <td>21021112B013419710</td>\n",
              "      <td>B01</td>\n",
              "      <td>B010012</td>\n",
              "      <td>오프라인</td>\n",
              "      <td>2021-02-11</td>\n",
              "      <td>2021-02-11</td>\n",
              "      <td>12</td>\n",
              "      <td>136500</td>\n",
              "      <td>남성</td>\n",
              "      <td>70대</td>\n",
              "      <td>Z17</td>\n",
              "      <td>Z17</td>\n",
              "      <td>Z17024</td>\n",
              "      <td>0</td>\n",
              "      <td>2</td>\n",
              "    </tr>\n",
              "    <tr>\n",
              "      <th>3</th>\n",
              "      <td>M839993508</td>\n",
              "      <td>21092010B012637545</td>\n",
              "      <td>B01</td>\n",
              "      <td>B010012</td>\n",
              "      <td>오프라인</td>\n",
              "      <td>2021-09-20</td>\n",
              "      <td>2021-09-20</td>\n",
              "      <td>10</td>\n",
              "      <td>34200</td>\n",
              "      <td>남성</td>\n",
              "      <td>70대</td>\n",
              "      <td>Z17</td>\n",
              "      <td>Z17</td>\n",
              "      <td>Z17024</td>\n",
              "      <td>0</td>\n",
              "      <td>9</td>\n",
              "    </tr>\n",
              "    <tr>\n",
              "      <th>4</th>\n",
              "      <td>M839993508</td>\n",
              "      <td>21062011B015813935</td>\n",
              "      <td>B01</td>\n",
              "      <td>B010012</td>\n",
              "      <td>오프라인</td>\n",
              "      <td>2021-06-20</td>\n",
              "      <td>2021-06-20</td>\n",
              "      <td>11</td>\n",
              "      <td>17100</td>\n",
              "      <td>남성</td>\n",
              "      <td>70대</td>\n",
              "      <td>Z17</td>\n",
              "      <td>Z17</td>\n",
              "      <td>Z17024</td>\n",
              "      <td>0</td>\n",
              "      <td>6</td>\n",
              "    </tr>\n",
              "  </tbody>\n",
              "</table>\n",
              "</div>"
            ],
            "text/plain": [
              "         고객번호               영수증번호  제휴사     점포코드    채널       이용일자       방문일자  \\\n",
              "0  M839993508  21102612B015763935  B01  B010012  오프라인 2021-10-26 2021-10-26   \n",
              "1  M839993508  21110610B014219744  B01  B010012  오프라인 2021-11-06 2021-11-06   \n",
              "2  M839993508  21021112B013419710  B01  B010012  오프라인 2021-02-11 2021-02-11   \n",
              "3  M839993508  21092010B012637545  B01  B010012  오프라인 2021-09-20 2021-09-20   \n",
              "4  M839993508  21062011B015813935  B01  B010012  오프라인 2021-06-20 2021-06-20   \n",
              "\n",
              "   이용시간    이용금액  성별  연령대  거주지 점포대분류   점포중분류  결제후방문  방문월  \n",
              "0    12   60000  남성  70대  Z17   Z17  Z17024      0   10  \n",
              "1    10   17100  남성  70대  Z17   Z17  Z17024      0   11  \n",
              "2    12  136500  남성  70대  Z17   Z17  Z17024      0    2  \n",
              "3    10   34200  남성  70대  Z17   Z17  Z17024      0    9  \n",
              "4    11   17100  남성  70대  Z17   Z17  Z17024      0    6  "
            ]
          },
          "execution_count": 169,
          "metadata": {},
          "output_type": "execute_result"
        }
      ],
      "source": [
        "df3['방문월'] = df3.방문일자.dt.month;df3.head()"
      ]
    },
    {
      "cell_type": "code",
      "execution_count": null,
      "metadata": {
        "id": "5cXxBlXQNy1m",
        "outputId": "be2995bf-03dc-4cde-dda9-d51afcb3f20f"
      },
      "outputs": [
        {
          "data": {
            "text/html": [
              "<div>\n",
              "<style scoped>\n",
              "    .dataframe tbody tr th:only-of-type {\n",
              "        vertical-align: middle;\n",
              "    }\n",
              "\n",
              "    .dataframe tbody tr th {\n",
              "        vertical-align: top;\n",
              "    }\n",
              "\n",
              "    .dataframe thead th {\n",
              "        text-align: right;\n",
              "    }\n",
              "</style>\n",
              "<table border=\"1\" class=\"dataframe\">\n",
              "  <thead>\n",
              "    <tr style=\"text-align: right;\">\n",
              "      <th></th>\n",
              "      <th>고객번호</th>\n",
              "      <th>영수증번호</th>\n",
              "      <th>제휴사</th>\n",
              "      <th>점포코드</th>\n",
              "      <th>채널</th>\n",
              "      <th>이용일자</th>\n",
              "      <th>방문일자</th>\n",
              "      <th>이용시간</th>\n",
              "      <th>이용금액</th>\n",
              "      <th>성별</th>\n",
              "      <th>연령대</th>\n",
              "      <th>거주지</th>\n",
              "      <th>점포대분류</th>\n",
              "      <th>점포중분류</th>\n",
              "      <th>결제후방문</th>\n",
              "      <th>방문월</th>\n",
              "      <th>방문계절</th>\n",
              "    </tr>\n",
              "  </thead>\n",
              "  <tbody>\n",
              "    <tr>\n",
              "      <th>0</th>\n",
              "      <td>M839993508</td>\n",
              "      <td>21102612B015763935</td>\n",
              "      <td>B01</td>\n",
              "      <td>B010012</td>\n",
              "      <td>오프라인</td>\n",
              "      <td>2021-10-26</td>\n",
              "      <td>2021-10-26</td>\n",
              "      <td>12</td>\n",
              "      <td>60000</td>\n",
              "      <td>남성</td>\n",
              "      <td>70대</td>\n",
              "      <td>Z17</td>\n",
              "      <td>Z17</td>\n",
              "      <td>Z17024</td>\n",
              "      <td>0</td>\n",
              "      <td>10</td>\n",
              "      <td>가을</td>\n",
              "    </tr>\n",
              "    <tr>\n",
              "      <th>1</th>\n",
              "      <td>M839993508</td>\n",
              "      <td>21110610B014219744</td>\n",
              "      <td>B01</td>\n",
              "      <td>B010012</td>\n",
              "      <td>오프라인</td>\n",
              "      <td>2021-11-06</td>\n",
              "      <td>2021-11-06</td>\n",
              "      <td>10</td>\n",
              "      <td>17100</td>\n",
              "      <td>남성</td>\n",
              "      <td>70대</td>\n",
              "      <td>Z17</td>\n",
              "      <td>Z17</td>\n",
              "      <td>Z17024</td>\n",
              "      <td>0</td>\n",
              "      <td>11</td>\n",
              "      <td>가을</td>\n",
              "    </tr>\n",
              "    <tr>\n",
              "      <th>2</th>\n",
              "      <td>M839993508</td>\n",
              "      <td>21021112B013419710</td>\n",
              "      <td>B01</td>\n",
              "      <td>B010012</td>\n",
              "      <td>오프라인</td>\n",
              "      <td>2021-02-11</td>\n",
              "      <td>2021-02-11</td>\n",
              "      <td>12</td>\n",
              "      <td>136500</td>\n",
              "      <td>남성</td>\n",
              "      <td>70대</td>\n",
              "      <td>Z17</td>\n",
              "      <td>Z17</td>\n",
              "      <td>Z17024</td>\n",
              "      <td>0</td>\n",
              "      <td>2</td>\n",
              "      <td>겨울</td>\n",
              "    </tr>\n",
              "    <tr>\n",
              "      <th>3</th>\n",
              "      <td>M839993508</td>\n",
              "      <td>21092010B012637545</td>\n",
              "      <td>B01</td>\n",
              "      <td>B010012</td>\n",
              "      <td>오프라인</td>\n",
              "      <td>2021-09-20</td>\n",
              "      <td>2021-09-20</td>\n",
              "      <td>10</td>\n",
              "      <td>34200</td>\n",
              "      <td>남성</td>\n",
              "      <td>70대</td>\n",
              "      <td>Z17</td>\n",
              "      <td>Z17</td>\n",
              "      <td>Z17024</td>\n",
              "      <td>0</td>\n",
              "      <td>9</td>\n",
              "      <td>가을</td>\n",
              "    </tr>\n",
              "    <tr>\n",
              "      <th>4</th>\n",
              "      <td>M839993508</td>\n",
              "      <td>21062011B015813935</td>\n",
              "      <td>B01</td>\n",
              "      <td>B010012</td>\n",
              "      <td>오프라인</td>\n",
              "      <td>2021-06-20</td>\n",
              "      <td>2021-06-20</td>\n",
              "      <td>11</td>\n",
              "      <td>17100</td>\n",
              "      <td>남성</td>\n",
              "      <td>70대</td>\n",
              "      <td>Z17</td>\n",
              "      <td>Z17</td>\n",
              "      <td>Z17024</td>\n",
              "      <td>0</td>\n",
              "      <td>6</td>\n",
              "      <td>여름</td>\n",
              "    </tr>\n",
              "  </tbody>\n",
              "</table>\n",
              "</div>"
            ],
            "text/plain": [
              "         고객번호               영수증번호  제휴사     점포코드    채널       이용일자       방문일자  \\\n",
              "0  M839993508  21102612B015763935  B01  B010012  오프라인 2021-10-26 2021-10-26   \n",
              "1  M839993508  21110610B014219744  B01  B010012  오프라인 2021-11-06 2021-11-06   \n",
              "2  M839993508  21021112B013419710  B01  B010012  오프라인 2021-02-11 2021-02-11   \n",
              "3  M839993508  21092010B012637545  B01  B010012  오프라인 2021-09-20 2021-09-20   \n",
              "4  M839993508  21062011B015813935  B01  B010012  오프라인 2021-06-20 2021-06-20   \n",
              "\n",
              "   이용시간    이용금액  성별  연령대  거주지 점포대분류   점포중분류  결제후방문  방문월 방문계절  \n",
              "0    12   60000  남성  70대  Z17   Z17  Z17024      0   10   가을  \n",
              "1    10   17100  남성  70대  Z17   Z17  Z17024      0   11   가을  \n",
              "2    12  136500  남성  70대  Z17   Z17  Z17024      0    2   겨울  \n",
              "3    10   34200  남성  70대  Z17   Z17  Z17024      0    9   가을  \n",
              "4    11   17100  남성  70대  Z17   Z17  Z17024      0    6   여름  "
            ]
          },
          "execution_count": 170,
          "metadata": {},
          "output_type": "execute_result"
        }
      ],
      "source": [
        "def season(x):\n",
        "    if 3<=x<=5:\n",
        "        return \"봄\"\n",
        "    elif 6<=x<=8:\n",
        "        return \"여름\"\n",
        "    elif 9<=x<=11:\n",
        "        return \"가을\"\n",
        "    else:\n",
        "        return \"겨울\"\n",
        "    \n",
        "df3['방문계절'] = df3.방문월.apply(lambda x : season(x));df3.head()"
      ]
    },
    {
      "cell_type": "code",
      "execution_count": null,
      "metadata": {
        "id": "yDNGGhb5Ny1m",
        "outputId": "1f333305-4b37-4043-96d0-429c8b3c07f6"
      },
      "outputs": [
        {
          "data": {
            "text/html": [
              "<div>\n",
              "<style scoped>\n",
              "    .dataframe tbody tr th:only-of-type {\n",
              "        vertical-align: middle;\n",
              "    }\n",
              "\n",
              "    .dataframe tbody tr th {\n",
              "        vertical-align: top;\n",
              "    }\n",
              "\n",
              "    .dataframe thead th {\n",
              "        text-align: right;\n",
              "    }\n",
              "</style>\n",
              "<table border=\"1\" class=\"dataframe\">\n",
              "  <thead>\n",
              "    <tr style=\"text-align: right;\">\n",
              "      <th></th>\n",
              "      <th>고객번호</th>\n",
              "      <th>영수증번호</th>\n",
              "      <th>제휴사</th>\n",
              "      <th>점포코드</th>\n",
              "      <th>채널</th>\n",
              "      <th>이용일자</th>\n",
              "      <th>방문일자</th>\n",
              "      <th>이용시간</th>\n",
              "      <th>이용금액</th>\n",
              "      <th>성별</th>\n",
              "      <th>연령대</th>\n",
              "      <th>거주지</th>\n",
              "      <th>점포대분류</th>\n",
              "      <th>점포중분류</th>\n",
              "      <th>결제후방문</th>\n",
              "    </tr>\n",
              "  </thead>\n",
              "  <tbody>\n",
              "    <tr>\n",
              "      <th>0</th>\n",
              "      <td>M839993508</td>\n",
              "      <td>21102612B015763935</td>\n",
              "      <td>B01</td>\n",
              "      <td>B010012</td>\n",
              "      <td>오프라인</td>\n",
              "      <td>2021-10-26</td>\n",
              "      <td>2021-10-26</td>\n",
              "      <td>12</td>\n",
              "      <td>60000</td>\n",
              "      <td>남성</td>\n",
              "      <td>70대</td>\n",
              "      <td>Z17</td>\n",
              "      <td>Z17</td>\n",
              "      <td>Z17024</td>\n",
              "      <td>0</td>\n",
              "    </tr>\n",
              "    <tr>\n",
              "      <th>1</th>\n",
              "      <td>M839993508</td>\n",
              "      <td>21110610B014219744</td>\n",
              "      <td>B01</td>\n",
              "      <td>B010012</td>\n",
              "      <td>오프라인</td>\n",
              "      <td>2021-11-06</td>\n",
              "      <td>2021-11-06</td>\n",
              "      <td>10</td>\n",
              "      <td>17100</td>\n",
              "      <td>남성</td>\n",
              "      <td>70대</td>\n",
              "      <td>Z17</td>\n",
              "      <td>Z17</td>\n",
              "      <td>Z17024</td>\n",
              "      <td>0</td>\n",
              "    </tr>\n",
              "    <tr>\n",
              "      <th>2</th>\n",
              "      <td>M839993508</td>\n",
              "      <td>21021112B013419710</td>\n",
              "      <td>B01</td>\n",
              "      <td>B010012</td>\n",
              "      <td>오프라인</td>\n",
              "      <td>2021-02-11</td>\n",
              "      <td>2021-02-11</td>\n",
              "      <td>12</td>\n",
              "      <td>136500</td>\n",
              "      <td>남성</td>\n",
              "      <td>70대</td>\n",
              "      <td>Z17</td>\n",
              "      <td>Z17</td>\n",
              "      <td>Z17024</td>\n",
              "      <td>0</td>\n",
              "    </tr>\n",
              "    <tr>\n",
              "      <th>3</th>\n",
              "      <td>M839993508</td>\n",
              "      <td>21092010B012637545</td>\n",
              "      <td>B01</td>\n",
              "      <td>B010012</td>\n",
              "      <td>오프라인</td>\n",
              "      <td>2021-09-20</td>\n",
              "      <td>2021-09-20</td>\n",
              "      <td>10</td>\n",
              "      <td>34200</td>\n",
              "      <td>남성</td>\n",
              "      <td>70대</td>\n",
              "      <td>Z17</td>\n",
              "      <td>Z17</td>\n",
              "      <td>Z17024</td>\n",
              "      <td>0</td>\n",
              "    </tr>\n",
              "    <tr>\n",
              "      <th>4</th>\n",
              "      <td>M839993508</td>\n",
              "      <td>21062011B015813935</td>\n",
              "      <td>B01</td>\n",
              "      <td>B010012</td>\n",
              "      <td>오프라인</td>\n",
              "      <td>2021-06-20</td>\n",
              "      <td>2021-06-20</td>\n",
              "      <td>11</td>\n",
              "      <td>17100</td>\n",
              "      <td>남성</td>\n",
              "      <td>70대</td>\n",
              "      <td>Z17</td>\n",
              "      <td>Z17</td>\n",
              "      <td>Z17024</td>\n",
              "      <td>0</td>\n",
              "    </tr>\n",
              "  </tbody>\n",
              "</table>\n",
              "</div>"
            ],
            "text/plain": [
              "         고객번호               영수증번호  제휴사     점포코드    채널       이용일자       방문일자  \\\n",
              "0  M839993508  21102612B015763935  B01  B010012  오프라인 2021-10-26 2021-10-26   \n",
              "1  M839993508  21110610B014219744  B01  B010012  오프라인 2021-11-06 2021-11-06   \n",
              "2  M839993508  21021112B013419710  B01  B010012  오프라인 2021-02-11 2021-02-11   \n",
              "3  M839993508  21092010B012637545  B01  B010012  오프라인 2021-09-20 2021-09-20   \n",
              "4  M839993508  21062011B015813935  B01  B010012  오프라인 2021-06-20 2021-06-20   \n",
              "\n",
              "   이용시간    이용금액  성별  연령대  거주지 점포대분류   점포중분류  결제후방문  \n",
              "0    12   60000  남성  70대  Z17   Z17  Z17024      0  \n",
              "1    10   17100  남성  70대  Z17   Z17  Z17024      0  \n",
              "2    12  136500  남성  70대  Z17   Z17  Z17024      0  \n",
              "3    10   34200  남성  70대  Z17   Z17  Z17024      0  \n",
              "4    11   17100  남성  70대  Z17   Z17  Z17024      0  "
            ]
          },
          "execution_count": 151,
          "metadata": {},
          "output_type": "execute_result"
        }
      ],
      "source": [
        "df3['결제후방문']=(df3['방문일자']-df3['이용일자']).dt.days\n",
        "df3.head()"
      ]
    },
    {
      "cell_type": "markdown",
      "metadata": {
        "id": "QTYHRPBVasgj"
      },
      "source": [
        "## EDA"
      ]
    },
    {
      "cell_type": "markdown",
      "metadata": {
        "id": "IMAQIK1MNy1n"
      },
      "source": [
        "### 성별"
      ]
    },
    {
      "cell_type": "markdown",
      "metadata": {
        "id": "ZUqsi9kMNy1n"
      },
      "source": [
        "#### 1) 여성이 남성보다 많다."
      ]
    },
    {
      "cell_type": "code",
      "execution_count": null,
      "metadata": {
        "id": "Uf2qnfqyNy1n",
        "outputId": "d2dc7bd4-eeff-40b2-97c5-e70f84b67c19"
      },
      "outputs": [
        {
          "data": {
            "text/plain": [
              "여성    163727\n",
              "남성     84517\n",
              "Name: 성별, dtype: int64"
            ]
          },
          "execution_count": 152,
          "metadata": {},
          "output_type": "execute_result"
        }
      ],
      "source": [
        "df3.성별.value_counts()"
      ]
    },
    {
      "cell_type": "markdown",
      "metadata": {
        "id": "LvjW_wgnNy1n"
      },
      "source": [
        "#### 2) 성별 이용금액의 평균은 남성이 더 높다."
      ]
    },
    {
      "cell_type": "code",
      "execution_count": null,
      "metadata": {
        "id": "L8k2y3u7Ny1o",
        "outputId": "b13789c8-3330-4132-bef5-16da2afd1057"
      },
      "outputs": [
        {
          "data": {
            "text/plain": [
              "성별\n",
              "남성    21647.638913\n",
              "여성    17836.211095\n",
              "Name: 이용금액, dtype: float64"
            ]
          },
          "execution_count": 155,
          "metadata": {},
          "output_type": "execute_result"
        }
      ],
      "source": [
        "df3.groupby('성별')['이용금액'].mean()"
      ]
    },
    {
      "cell_type": "markdown",
      "metadata": {
        "id": "gEW80rUpNy1o"
      },
      "source": [
        "#### 3) 최대 이용금액은 여성이 더 높다.\n",
        "- BUT, 여성 이용금액의 이상치 (6,600,000 이후엔 300만원대)"
      ]
    },
    {
      "cell_type": "code",
      "execution_count": null,
      "metadata": {
        "id": "5EGpT05nNy1o",
        "outputId": "2df93e43-5cc5-4723-f427-e1f55ecb3ee3"
      },
      "outputs": [
        {
          "data": {
            "text/plain": [
              "성별\n",
              "남성    5614400\n",
              "여성    6600000\n",
              "Name: 이용금액, dtype: int64"
            ]
          },
          "execution_count": 154,
          "metadata": {},
          "output_type": "execute_result"
        }
      ],
      "source": [
        "df3.groupby('성별')['이용금액'].max()"
      ]
    },
    {
      "cell_type": "code",
      "execution_count": null,
      "metadata": {
        "id": "waqTpgMhNy1o",
        "outputId": "79303f1c-8698-40ad-f1b1-e49df974c4e9"
      },
      "outputs": [
        {
          "data": {
            "text/plain": [
              "<AxesSubplot:xlabel='성별', ylabel='이용금액'>"
            ]
          },
          "execution_count": 373,
          "metadata": {},
          "output_type": "execute_result"
        },
        {
          "data": {
            "image/png": "[encoded data removed]",
            "text/plain": [
              "<Figure size 432x288 with 1 Axes>"
            ]
          },
          "metadata": {
            "needs_background": "light"
          },
          "output_type": "display_data"
        }
      ],
      "source": [
        "sns.boxplot(x='성별',y='이용금액',data=df3)"
      ]
    },
    {
      "cell_type": "code",
      "execution_count": null,
      "metadata": {
        "id": "o_7QJKoHNy1o",
        "outputId": "db7f835a-6a19-427a-9b87-e455296a7a7e"
      },
      "outputs": [
        {
          "data": {
            "text/html": [
              "<div>\n",
              "<style scoped>\n",
              "    .dataframe tbody tr th:only-of-type {\n",
              "        vertical-align: middle;\n",
              "    }\n",
              "\n",
              "    .dataframe tbody tr th {\n",
              "        vertical-align: top;\n",
              "    }\n",
              "\n",
              "    .dataframe thead th {\n",
              "        text-align: right;\n",
              "    }\n",
              "</style>\n",
              "<table border=\"1\" class=\"dataframe\">\n",
              "  <thead>\n",
              "    <tr style=\"text-align: right;\">\n",
              "      <th></th>\n",
              "      <th>고객번호</th>\n",
              "      <th>영수증번호</th>\n",
              "      <th>제휴사</th>\n",
              "      <th>점포코드</th>\n",
              "      <th>채널</th>\n",
              "      <th>이용일자</th>\n",
              "      <th>방문일자</th>\n",
              "      <th>이용시간</th>\n",
              "      <th>이용금액</th>\n",
              "      <th>성별</th>\n",
              "      <th>연령대</th>\n",
              "      <th>거주지</th>\n",
              "      <th>점포대분류</th>\n",
              "      <th>점포중분류</th>\n",
              "      <th>결제후방문</th>\n",
              "      <th>방문월</th>\n",
              "      <th>방문계절</th>\n",
              "    </tr>\n",
              "  </thead>\n",
              "  <tbody>\n",
              "    <tr>\n",
              "      <th>118652</th>\n",
              "      <td>M732529318</td>\n",
              "      <td>21070913B015066158</td>\n",
              "      <td>B01</td>\n",
              "      <td>B010018</td>\n",
              "      <td>오프라인</td>\n",
              "      <td>2021-07-09</td>\n",
              "      <td>2021-07-09</td>\n",
              "      <td>13</td>\n",
              "      <td>6600000</td>\n",
              "      <td>여성</td>\n",
              "      <td>60대</td>\n",
              "      <td>Z16</td>\n",
              "      <td>Z16</td>\n",
              "      <td>Z16016</td>\n",
              "      <td>0</td>\n",
              "      <td>7</td>\n",
              "      <td>여름</td>\n",
              "    </tr>\n",
              "  </tbody>\n",
              "</table>\n",
              "</div>"
            ],
            "text/plain": [
              "              고객번호               영수증번호  제휴사     점포코드    채널       이용일자  \\\n",
              "118652  M732529318  21070913B015066158  B01  B010018  오프라인 2021-07-09   \n",
              "\n",
              "             방문일자  이용시간     이용금액  성별  연령대  거주지 점포대분류   점포중분류  결제후방문  방문월 방문계절  \n",
              "118652 2021-07-09    13  6600000  여성  60대  Z16   Z16  Z16016      0    7   여름  "
            ]
          },
          "execution_count": 376,
          "metadata": {},
          "output_type": "execute_result"
        }
      ],
      "source": [
        "df3.query('성별==\"여성\" & 이용금액 >6000000')"
      ]
    },
    {
      "cell_type": "markdown",
      "metadata": {
        "id": "huN0lIL8Ny1o"
      },
      "source": [
        "### 연령대"
      ]
    },
    {
      "cell_type": "markdown",
      "metadata": {
        "id": "7gP1BEt3Ny1o"
      },
      "source": [
        "#### 1) 3-40대가 가장 많고, 그 후로 50대와 20대 순으로 많음.\n",
        "<font color=red> **20대 유치 마케팅 전략 필요!** </font>"
      ]
    },
    {
      "cell_type": "code",
      "execution_count": null,
      "metadata": {
        "id": "-LjJX_3_Ny1p",
        "outputId": "65232565-6e2e-4776-e873-92b451caf8a7"
      },
      "outputs": [
        {
          "data": {
            "text/plain": [
              "40대    98245\n",
              "30대    73012\n",
              "50대    34666\n",
              "20대    33775\n",
              "60대     6797\n",
              "70대     1754\n",
              "Name: 연령대, dtype: int64"
            ]
          },
          "execution_count": 109,
          "metadata": {},
          "output_type": "execute_result"
        }
      ],
      "source": [
        "df3.연령대.value_counts()"
      ]
    },
    {
      "cell_type": "markdown",
      "metadata": {
        "id": "H1RvomL6Ny1p"
      },
      "source": [
        "#### 2) 연령대별 이용금액은 70대와 60대가 높다.\n",
        "<font color=green> (평균이라서 이상치 있나 확인해야댐) </font>"
      ]
    },
    {
      "cell_type": "code",
      "execution_count": null,
      "metadata": {
        "id": "5iIAUbssNy1p",
        "outputId": "1600c93a-e0a7-473d-8611-1df5c127eea0"
      },
      "outputs": [
        {
          "data": {
            "text/plain": [
              "연령대\n",
              "70대    36186.456100\n",
              "60대    22428.589906\n",
              "30대    20111.528113\n",
              "40대    19571.569810\n",
              "50대    18281.766421\n",
              "20대    15073.226528\n",
              "Name: 이용금액, dtype: float64"
            ]
          },
          "execution_count": 276,
          "metadata": {},
          "output_type": "execute_result"
        }
      ],
      "source": [
        "df3.groupby('연령대')['이용금액'].mean().sort_values(ascending=False)"
      ]
    },
    {
      "cell_type": "markdown",
      "metadata": {
        "id": "PcSmsGyvNy1p"
      },
      "source": [
        "### 계절"
      ]
    },
    {
      "cell_type": "markdown",
      "metadata": {
        "id": "2P3QIhTUNy1p"
      },
      "source": [
        "#### 1) 여름에 가장 많이 방문했다."
      ]
    },
    {
      "cell_type": "code",
      "execution_count": null,
      "metadata": {
        "scrolled": true,
        "id": "W7Ueg70FNy1p",
        "outputId": "4ff583c8-5aad-44e3-c8e7-92fd39120c70"
      },
      "outputs": [
        {
          "data": {
            "text/plain": [
              "여름    69831\n",
              "가을    64028\n",
              "봄     60329\n",
              "겨울    54056\n",
              "Name: 방문계절, dtype: int64"
            ]
          },
          "execution_count": 179,
          "metadata": {},
          "output_type": "execute_result"
        }
      ],
      "source": [
        "df3.방문계절.value_counts()"
      ]
    },
    {
      "cell_type": "markdown",
      "metadata": {
        "id": "N0VfMxNSNy1p"
      },
      "source": [
        "#### 2) 계절별 채널별 이용횟수 : 대부분 오프라인이 더 많음.\n",
        "<font color=green> - 오프라인 횟수가 많아서,,, 비율로 계산하면 달라질까? </font>"
      ]
    },
    {
      "cell_type": "code",
      "execution_count": null,
      "metadata": {
        "id": "1P8F_zmSNy1q",
        "outputId": "37746f40-0dbd-409e-e972-ed1611170502"
      },
      "outputs": [
        {
          "data": {
            "text/plain": [
              "방문계절  채널  \n",
              "가을    오프라인    54485\n",
              "      온라인      9543\n",
              "겨울    오프라인    47402\n",
              "      온라인      6654\n",
              "봄     오프라인    53688\n",
              "      온라인      6641\n",
              "여름    오프라인    57945\n",
              "      온라인     11886\n",
              "Name: 채널, dtype: int64"
            ]
          },
          "execution_count": 184,
          "metadata": {},
          "output_type": "execute_result"
        }
      ],
      "source": [
        "df3.groupby('방문계절')['채널'].value_counts()"
      ]
    },
    {
      "cell_type": "markdown",
      "metadata": {
        "id": "46CatX8JNy1q"
      },
      "source": [
        "#### 3) 평균 이용금액은 겨울에 가장 높음."
      ]
    },
    {
      "cell_type": "code",
      "execution_count": null,
      "metadata": {
        "id": "2OvitmbgNy1r",
        "outputId": "8075f7d7-c0fb-4ebf-f015-3379f3f0e7b0"
      },
      "outputs": [
        {
          "data": {
            "text/plain": [
              "방문계절\n",
              "겨울    19926.987328\n",
              "봄     19057.796400\n",
              "가을    19020.539264\n",
              "여름    18689.474846\n",
              "Name: 이용금액, dtype: float64"
            ]
          },
          "execution_count": 382,
          "metadata": {},
          "output_type": "execute_result"
        }
      ],
      "source": [
        "df3.groupby('방문계절').이용금액.mean().sort_values(ascending=False)"
      ]
    },
    {
      "cell_type": "markdown",
      "metadata": {
        "id": "O-oaEF10Ny1r"
      },
      "source": [
        "### 제휴사"
      ]
    },
    {
      "cell_type": "markdown",
      "metadata": {
        "id": "GwyeYX5cNy1r"
      },
      "source": [
        "#### 1) D01(F&B)을 가장 많이 이용한다."
      ]
    },
    {
      "cell_type": "code",
      "execution_count": null,
      "metadata": {
        "id": "uRoySInbNy1r",
        "outputId": "a0bc83b4-7c82-4906-876f-9a6a3ac03e9e"
      },
      "outputs": [
        {
          "data": {
            "text/plain": [
              "D01    112232\n",
              "C01     48323\n",
              "D02     43134\n",
              "C02     30258\n",
              "B01      8098\n",
              "E01      6199\n",
              "Name: 제휴사, dtype: int64"
            ]
          },
          "execution_count": 197,
          "metadata": {},
          "output_type": "execute_result"
        }
      ],
      "source": [
        "df3.제휴사.value_counts()"
      ]
    },
    {
      "cell_type": "markdown",
      "metadata": {
        "id": "7R0l_m-WNy1r"
      },
      "source": [
        "#### 2) B01(숙박업종)이 평균 이용금액이 가장 높다.\n",
        "- 호텔이 비싸니까?"
      ]
    },
    {
      "cell_type": "code",
      "execution_count": null,
      "metadata": {
        "id": "Vej5iyO-Ny1r",
        "outputId": "256baba0-cdff-4c7c-cb1f-564c7137519b"
      },
      "outputs": [
        {
          "data": {
            "text/plain": [
              "제휴사\n",
              "B01    216393.648555\n",
              "E01     34494.524923\n",
              "C02     20906.910437\n",
              "C01     11562.436107\n",
              "D01     10294.626933\n",
              "D02     10130.199842\n",
              "Name: 이용금액, dtype: float64"
            ]
          },
          "execution_count": 383,
          "metadata": {},
          "output_type": "execute_result"
        }
      ],
      "source": [
        "df3.groupby('제휴사')['이용금액'].mean().sort_values(ascending=False)"
      ]
    },
    {
      "cell_type": "markdown",
      "metadata": {
        "id": "p5TEm7HwNy1s"
      },
      "source": [
        "#### 3) E01(렌탈업종)을 가장 오래 이용한다."
      ]
    },
    {
      "cell_type": "code",
      "execution_count": null,
      "metadata": {
        "id": "FRHWE6SYNy1s",
        "outputId": "fe33d6da-c3e6-4047-9324-8c376c20a0f5"
      },
      "outputs": [
        {
          "data": {
            "text/plain": [
              "제휴사\n",
              "E01    15.082433\n",
              "D01    15.059502\n",
              "C02    14.828343\n",
              "C01    14.531921\n",
              "B01    14.393184\n",
              "D02    14.080818\n",
              "Name: 이용시간, dtype: float64"
            ]
          },
          "execution_count": 384,
          "metadata": {},
          "output_type": "execute_result"
        }
      ],
      "source": [
        "df3.groupby('제휴사')['이용시간'].mean().sort_values(ascending=False)"
      ]
    },
    {
      "cell_type": "markdown",
      "metadata": {
        "id": "gO8zcZTLNy1t"
      },
      "source": [
        "- 이용시간이 12시간 미만인 데이터는 전체의 18.3%\n",
        "- 전체적으로 이용시간이 길다. (이용시간 계산 어떻게 하는거지..?)"
      ]
    },
    {
      "cell_type": "code",
      "execution_count": null,
      "metadata": {
        "id": "OYjsJHefNy1t",
        "outputId": "8a3dcb38-695a-4214-b7e3-e80c181d6584"
      },
      "outputs": [
        {
          "data": {
            "text/plain": [
              "18.301348673079712"
            ]
          },
          "execution_count": 260,
          "metadata": {},
          "output_type": "execute_result"
        }
      ],
      "source": [
        "# 이용시간이 12시간 미만인 데이터 18.3%\n",
        "len(df3[df3.이용시간<12])/len(df3)*100"
      ]
    },
    {
      "cell_type": "markdown",
      "metadata": {
        "id": "Wza_ebEtNy1t"
      },
      "source": [
        "#### 4) 전체적으로 40대가 가장 많이 이용하지만, C02(엔터테인먼트)는 30대, E01(렌탈업종)은 20대가 가장 많이 이용한다."
      ]
    },
    {
      "cell_type": "code",
      "execution_count": null,
      "metadata": {
        "id": "cngyVA7BNy1t",
        "outputId": "38fbf266-1245-4bea-97fd-7dd14acd4b2d"
      },
      "outputs": [
        {
          "data": {
            "text/plain": [
              "제휴사\n",
              "B01    40대\n",
              "C01    40대\n",
              "C02    30대\n",
              "D01    40대\n",
              "D02    40대\n",
              "E01    20대\n",
              "Name: 연령대, dtype: object"
            ]
          },
          "execution_count": 205,
          "metadata": {},
          "output_type": "execute_result"
        }
      ],
      "source": [
        "df3.groupby('제휴사')['연령대'].agg(lambda x : x.value_counts().idxmax())"
      ]
    },
    {
      "cell_type": "markdown",
      "metadata": {
        "id": "PH3dpTGNNy1t"
      },
      "source": [
        "#### 5) 전체적으로 여성이 많이 이용하지만, E01(렌탈업종)은 남성이 많이 이용한다."
      ]
    },
    {
      "cell_type": "code",
      "execution_count": null,
      "metadata": {
        "id": "2lrTAoe_Ny1t",
        "outputId": "37070c12-28fa-4489-b6c0-18e1d6b9953b"
      },
      "outputs": [
        {
          "data": {
            "text/plain": [
              "제휴사\n",
              "B01    여성\n",
              "C01    여성\n",
              "C02    여성\n",
              "D01    여성\n",
              "D02    여성\n",
              "E01    남성\n",
              "Name: 성별, dtype: object"
            ]
          },
          "execution_count": 206,
          "metadata": {},
          "output_type": "execute_result"
        }
      ],
      "source": [
        "df3.groupby('제휴사')['성별'].agg(lambda x : x.value_counts().idxmax())"
      ]
    },
    {
      "cell_type": "markdown",
      "metadata": {
        "id": "IDQZtIk-Ny1u"
      },
      "source": [
        "#### 6) 여름은 B01, C01, D01 / 봄은 D02, E01 / 가을은 C02 가장 많이 이용한다."
      ]
    },
    {
      "cell_type": "code",
      "execution_count": null,
      "metadata": {
        "id": "cpmlvbzfNy1u",
        "outputId": "7f374495-2883-4f0d-c5b1-8c8a02a48756"
      },
      "outputs": [
        {
          "data": {
            "text/plain": [
              "제휴사\n",
              "B01    여름\n",
              "C01    여름\n",
              "C02    가을\n",
              "D01    여름\n",
              "D02     봄\n",
              "E01     봄\n",
              "Name: 방문계절, dtype: object"
            ]
          },
          "execution_count": 207,
          "metadata": {},
          "output_type": "execute_result"
        }
      ],
      "source": [
        "df3.groupby('제휴사')['방문계절'].agg(lambda x : x.value_counts().idxmax())"
      ]
    },
    {
      "cell_type": "markdown",
      "metadata": {
        "id": "-Cy0fZzvNy1u"
      },
      "source": [
        "#### 7) B01(숙박업종)은 11월 / C(엔터테인먼트) 8,10월 / D(F&B) 8,10월 / E01(렌탈업종)은 3월 에 가장 많이 이용한다."
      ]
    },
    {
      "cell_type": "code",
      "execution_count": null,
      "metadata": {
        "id": "fYGGmDYpNy1u",
        "outputId": "ce97f009-722d-4abc-ea4a-46c321ce093e"
      },
      "outputs": [
        {
          "data": {
            "text/plain": [
              "제휴사\n",
              "B01    11\n",
              "C01     8\n",
              "C02    10\n",
              "D01     8\n",
              "D02    10\n",
              "E01     3\n",
              "Name: 방문월, dtype: int64"
            ]
          },
          "execution_count": 208,
          "metadata": {},
          "output_type": "execute_result"
        }
      ],
      "source": [
        "df3.groupby('제휴사')['방문월'].agg(lambda x : x.value_counts().idxmax())"
      ]
    },
    {
      "cell_type": "markdown",
      "metadata": {
        "id": "fkU7ItaCNy1u"
      },
      "source": [
        "- B01(숙박업종)은 11-12월 연말에 가장 많이 이용한다."
      ]
    },
    {
      "cell_type": "code",
      "execution_count": null,
      "metadata": {
        "scrolled": true,
        "id": "bClmh7qnNy1u",
        "outputId": "82cd50e1-b958-4580-da1c-8202e45ed9b3"
      },
      "outputs": [
        {
          "data": {
            "text/html": [
              "<div>\n",
              "<style scoped>\n",
              "    .dataframe tbody tr th:only-of-type {\n",
              "        vertical-align: middle;\n",
              "    }\n",
              "\n",
              "    .dataframe tbody tr th {\n",
              "        vertical-align: top;\n",
              "    }\n",
              "\n",
              "    .dataframe thead th {\n",
              "        text-align: right;\n",
              "    }\n",
              "</style>\n",
              "<table border=\"1\" class=\"dataframe\">\n",
              "  <thead>\n",
              "    <tr style=\"text-align: right;\">\n",
              "      <th></th>\n",
              "      <th>제휴사</th>\n",
              "      <th>방문월</th>\n",
              "      <th>개수</th>\n",
              "    </tr>\n",
              "  </thead>\n",
              "  <tbody>\n",
              "    <tr>\n",
              "      <th>0</th>\n",
              "      <td>B01</td>\n",
              "      <td>11</td>\n",
              "      <td>839</td>\n",
              "    </tr>\n",
              "    <tr>\n",
              "      <th>1</th>\n",
              "      <td>B01</td>\n",
              "      <td>12</td>\n",
              "      <td>834</td>\n",
              "    </tr>\n",
              "    <tr>\n",
              "      <th>2</th>\n",
              "      <td>B01</td>\n",
              "      <td>8</td>\n",
              "      <td>773</td>\n",
              "    </tr>\n",
              "    <tr>\n",
              "      <th>3</th>\n",
              "      <td>B01</td>\n",
              "      <td>7</td>\n",
              "      <td>770</td>\n",
              "    </tr>\n",
              "    <tr>\n",
              "      <th>4</th>\n",
              "      <td>B01</td>\n",
              "      <td>5</td>\n",
              "      <td>732</td>\n",
              "    </tr>\n",
              "    <tr>\n",
              "      <th>5</th>\n",
              "      <td>B01</td>\n",
              "      <td>6</td>\n",
              "      <td>694</td>\n",
              "    </tr>\n",
              "    <tr>\n",
              "      <th>6</th>\n",
              "      <td>B01</td>\n",
              "      <td>10</td>\n",
              "      <td>688</td>\n",
              "    </tr>\n",
              "    <tr>\n",
              "      <th>7</th>\n",
              "      <td>B01</td>\n",
              "      <td>4</td>\n",
              "      <td>602</td>\n",
              "    </tr>\n",
              "    <tr>\n",
              "      <th>8</th>\n",
              "      <td>B01</td>\n",
              "      <td>9</td>\n",
              "      <td>592</td>\n",
              "    </tr>\n",
              "    <tr>\n",
              "      <th>9</th>\n",
              "      <td>B01</td>\n",
              "      <td>3</td>\n",
              "      <td>585</td>\n",
              "    </tr>\n",
              "    <tr>\n",
              "      <th>10</th>\n",
              "      <td>B01</td>\n",
              "      <td>2</td>\n",
              "      <td>526</td>\n",
              "    </tr>\n",
              "    <tr>\n",
              "      <th>11</th>\n",
              "      <td>B01</td>\n",
              "      <td>1</td>\n",
              "      <td>463</td>\n",
              "    </tr>\n",
              "  </tbody>\n",
              "</table>\n",
              "</div>"
            ],
            "text/plain": [
              "    제휴사  방문월   개수\n",
              "0   B01   11  839\n",
              "1   B01   12  834\n",
              "2   B01    8  773\n",
              "3   B01    7  770\n",
              "4   B01    5  732\n",
              "5   B01    6  694\n",
              "6   B01   10  688\n",
              "7   B01    4  602\n",
              "8   B01    9  592\n",
              "9   B01    3  585\n",
              "10  B01    2  526\n",
              "11  B01    1  463"
            ]
          },
          "execution_count": 230,
          "metadata": {},
          "output_type": "execute_result"
        }
      ],
      "source": [
        "pd.DataFrame(df3.groupby('제휴사')['방문월'].value_counts()).rename({'방문월':'개수'},axis=1).reset_index().query(\"제휴사=='B01'\")"
      ]
    },
    {
      "cell_type": "markdown",
      "metadata": {
        "id": "87uiyozANy1u"
      },
      "source": [
        "- E01(렌탈업종)은 봄에 가장 많이 이용한다.\n",
        "> 나들이 갈 때 차 빌리나?"
      ]
    },
    {
      "cell_type": "code",
      "execution_count": null,
      "metadata": {
        "scrolled": true,
        "id": "VVJ4glU6Ny1v",
        "outputId": "d0e9b6b2-17e6-412e-9ffb-47f7857962cb"
      },
      "outputs": [
        {
          "data": {
            "text/html": [
              "<div>\n",
              "<style scoped>\n",
              "    .dataframe tbody tr th:only-of-type {\n",
              "        vertical-align: middle;\n",
              "    }\n",
              "\n",
              "    .dataframe tbody tr th {\n",
              "        vertical-align: top;\n",
              "    }\n",
              "\n",
              "    .dataframe thead th {\n",
              "        text-align: right;\n",
              "    }\n",
              "</style>\n",
              "<table border=\"1\" class=\"dataframe\">\n",
              "  <thead>\n",
              "    <tr style=\"text-align: right;\">\n",
              "      <th></th>\n",
              "      <th>제휴사</th>\n",
              "      <th>방문월</th>\n",
              "      <th>개수</th>\n",
              "    </tr>\n",
              "  </thead>\n",
              "  <tbody>\n",
              "    <tr>\n",
              "      <th>60</th>\n",
              "      <td>E01</td>\n",
              "      <td>3</td>\n",
              "      <td>620</td>\n",
              "    </tr>\n",
              "    <tr>\n",
              "      <th>61</th>\n",
              "      <td>E01</td>\n",
              "      <td>4</td>\n",
              "      <td>599</td>\n",
              "    </tr>\n",
              "    <tr>\n",
              "      <th>62</th>\n",
              "      <td>E01</td>\n",
              "      <td>5</td>\n",
              "      <td>581</td>\n",
              "    </tr>\n",
              "    <tr>\n",
              "      <th>63</th>\n",
              "      <td>E01</td>\n",
              "      <td>6</td>\n",
              "      <td>574</td>\n",
              "    </tr>\n",
              "    <tr>\n",
              "      <th>64</th>\n",
              "      <td>E01</td>\n",
              "      <td>1</td>\n",
              "      <td>570</td>\n",
              "    </tr>\n",
              "    <tr>\n",
              "      <th>65</th>\n",
              "      <td>E01</td>\n",
              "      <td>2</td>\n",
              "      <td>562</td>\n",
              "    </tr>\n",
              "    <tr>\n",
              "      <th>66</th>\n",
              "      <td>E01</td>\n",
              "      <td>8</td>\n",
              "      <td>557</td>\n",
              "    </tr>\n",
              "    <tr>\n",
              "      <th>67</th>\n",
              "      <td>E01</td>\n",
              "      <td>7</td>\n",
              "      <td>552</td>\n",
              "    </tr>\n",
              "    <tr>\n",
              "      <th>68</th>\n",
              "      <td>E01</td>\n",
              "      <td>11</td>\n",
              "      <td>406</td>\n",
              "    </tr>\n",
              "    <tr>\n",
              "      <th>69</th>\n",
              "      <td>E01</td>\n",
              "      <td>10</td>\n",
              "      <td>405</td>\n",
              "    </tr>\n",
              "    <tr>\n",
              "      <th>70</th>\n",
              "      <td>E01</td>\n",
              "      <td>12</td>\n",
              "      <td>403</td>\n",
              "    </tr>\n",
              "    <tr>\n",
              "      <th>71</th>\n",
              "      <td>E01</td>\n",
              "      <td>9</td>\n",
              "      <td>370</td>\n",
              "    </tr>\n",
              "  </tbody>\n",
              "</table>\n",
              "</div>"
            ],
            "text/plain": [
              "    제휴사  방문월   개수\n",
              "60  E01    3  620\n",
              "61  E01    4  599\n",
              "62  E01    5  581\n",
              "63  E01    6  574\n",
              "64  E01    1  570\n",
              "65  E01    2  562\n",
              "66  E01    8  557\n",
              "67  E01    7  552\n",
              "68  E01   11  406\n",
              "69  E01   10  405\n",
              "70  E01   12  403\n",
              "71  E01    9  370"
            ]
          },
          "execution_count": 385,
          "metadata": {},
          "output_type": "execute_result"
        }
      ],
      "source": [
        "pd.DataFrame(df3.groupby('제휴사')['방문월'].value_counts()).rename({'방문월':'개수'},axis=1).reset_index().query(\"제휴사=='E01'\")"
      ]
    },
    {
      "cell_type": "markdown",
      "metadata": {
        "id": "_UPZv3EpNy1v"
      },
      "source": [
        "### 거주지"
      ]
    },
    {
      "cell_type": "markdown",
      "metadata": {
        "id": "tzw7-awSNy1v"
      },
      "source": [
        "#### 1) Z17 지역에 가장 많이 산다."
      ]
    },
    {
      "cell_type": "code",
      "execution_count": null,
      "metadata": {
        "scrolled": true,
        "id": "MNGFJgI-Ny1v",
        "outputId": "9573fb19-217e-4d22-d2e5-e854d06a0c65"
      },
      "outputs": [
        {
          "data": {
            "text/plain": [
              "Z17    81235\n",
              "Z10    64363\n",
              "Z16    22856\n",
              "Z11    14123\n",
              "Z04    13787\n",
              "Z06     8806\n",
              "Z13     7276\n",
              "Z14     6262\n",
              "Z08     5067\n",
              "Z15     4867\n",
              "Z12     4388\n",
              "Z03     4160\n",
              "Z09     3716\n",
              "Z05     3121\n",
              "Z01     2574\n",
              "Z07     1171\n",
              "Z02      472\n",
              "Name: 거주지, dtype: int64"
            ]
          },
          "execution_count": 396,
          "metadata": {},
          "output_type": "execute_result"
        }
      ],
      "source": [
        "df3.거주지.value_counts()"
      ]
    },
    {
      "cell_type": "markdown",
      "metadata": {
        "id": "jT_GrFtUNy1v"
      },
      "source": [
        "#### 2) 평균 이용금액은 Z07이 가장 높다.\n",
        "- 부자동네? or 상권 발달 지역?"
      ]
    },
    {
      "cell_type": "code",
      "execution_count": null,
      "metadata": {
        "scrolled": true,
        "id": "7r8Wt-M2Ny1w",
        "outputId": "b96413cc-27ab-405e-81cc-991c52634e85"
      },
      "outputs": [
        {
          "data": {
            "text/plain": [
              "거주지\n",
              "Z07    28507.122118\n",
              "Z17    21918.465243\n",
              "Z16    21622.197060\n",
              "Z01    19124.365967\n",
              "Z10    18976.683063\n",
              "Name: 이용금액, dtype: float64"
            ]
          },
          "execution_count": 243,
          "metadata": {},
          "output_type": "execute_result"
        }
      ],
      "source": [
        "df3.groupby('거주지')['이용금액'].mean().sort_values(ascending=False).head()"
      ]
    },
    {
      "cell_type": "markdown",
      "metadata": {
        "id": "ldpn0VBJNy1w"
      },
      "source": [
        "#### 3) 거주지별 연령대별 구매횟수\n",
        "<font color=green> - 40대가 데이터 자체가 많아서 비율로 따져야할듯</font>"
      ]
    },
    {
      "cell_type": "code",
      "execution_count": null,
      "metadata": {
        "id": "Ec2JxLJANy1w",
        "outputId": "2ff916e1-e07e-4086-dfb6-0accba56cb4f"
      },
      "outputs": [
        {
          "data": {
            "text/html": [
              "<div>\n",
              "<style scoped>\n",
              "    .dataframe tbody tr th:only-of-type {\n",
              "        vertical-align: middle;\n",
              "    }\n",
              "\n",
              "    .dataframe tbody tr th {\n",
              "        vertical-align: top;\n",
              "    }\n",
              "\n",
              "    .dataframe thead th {\n",
              "        text-align: right;\n",
              "    }\n",
              "</style>\n",
              "<table border=\"1\" class=\"dataframe\">\n",
              "  <thead>\n",
              "    <tr style=\"text-align: right;\">\n",
              "      <th>연령대</th>\n",
              "      <th>거주지</th>\n",
              "      <th>20대</th>\n",
              "      <th>30대</th>\n",
              "      <th>40대</th>\n",
              "      <th>50대</th>\n",
              "      <th>60대</th>\n",
              "      <th>70대</th>\n",
              "      <th>All</th>\n",
              "    </tr>\n",
              "  </thead>\n",
              "  <tbody>\n",
              "    <tr>\n",
              "      <th>0</th>\n",
              "      <td>Z01</td>\n",
              "      <td>406</td>\n",
              "      <td>870</td>\n",
              "      <td>950</td>\n",
              "      <td>310</td>\n",
              "      <td>29</td>\n",
              "      <td>9</td>\n",
              "      <td>2574</td>\n",
              "    </tr>\n",
              "    <tr>\n",
              "      <th>1</th>\n",
              "      <td>Z02</td>\n",
              "      <td>33</td>\n",
              "      <td>180</td>\n",
              "      <td>229</td>\n",
              "      <td>28</td>\n",
              "      <td>2</td>\n",
              "      <td>0</td>\n",
              "      <td>472</td>\n",
              "    </tr>\n",
              "    <tr>\n",
              "      <th>2</th>\n",
              "      <td>Z03</td>\n",
              "      <td>640</td>\n",
              "      <td>990</td>\n",
              "      <td>1723</td>\n",
              "      <td>553</td>\n",
              "      <td>254</td>\n",
              "      <td>0</td>\n",
              "      <td>4160</td>\n",
              "    </tr>\n",
              "    <tr>\n",
              "      <th>3</th>\n",
              "      <td>Z04</td>\n",
              "      <td>2244</td>\n",
              "      <td>4009</td>\n",
              "      <td>5571</td>\n",
              "      <td>1555</td>\n",
              "      <td>304</td>\n",
              "      <td>104</td>\n",
              "      <td>13787</td>\n",
              "    </tr>\n",
              "    <tr>\n",
              "      <th>4</th>\n",
              "      <td>Z05</td>\n",
              "      <td>397</td>\n",
              "      <td>901</td>\n",
              "      <td>1499</td>\n",
              "      <td>193</td>\n",
              "      <td>74</td>\n",
              "      <td>57</td>\n",
              "      <td>3121</td>\n",
              "    </tr>\n",
              "    <tr>\n",
              "      <th>5</th>\n",
              "      <td>Z06</td>\n",
              "      <td>947</td>\n",
              "      <td>2737</td>\n",
              "      <td>4148</td>\n",
              "      <td>861</td>\n",
              "      <td>86</td>\n",
              "      <td>27</td>\n",
              "      <td>8806</td>\n",
              "    </tr>\n",
              "    <tr>\n",
              "      <th>6</th>\n",
              "      <td>Z07</td>\n",
              "      <td>199</td>\n",
              "      <td>367</td>\n",
              "      <td>438</td>\n",
              "      <td>145</td>\n",
              "      <td>20</td>\n",
              "      <td>2</td>\n",
              "      <td>1171</td>\n",
              "    </tr>\n",
              "    <tr>\n",
              "      <th>7</th>\n",
              "      <td>Z08</td>\n",
              "      <td>822</td>\n",
              "      <td>1680</td>\n",
              "      <td>2027</td>\n",
              "      <td>473</td>\n",
              "      <td>62</td>\n",
              "      <td>3</td>\n",
              "      <td>5067</td>\n",
              "    </tr>\n",
              "    <tr>\n",
              "      <th>8</th>\n",
              "      <td>Z09</td>\n",
              "      <td>429</td>\n",
              "      <td>1028</td>\n",
              "      <td>1710</td>\n",
              "      <td>498</td>\n",
              "      <td>47</td>\n",
              "      <td>4</td>\n",
              "      <td>3716</td>\n",
              "    </tr>\n",
              "    <tr>\n",
              "      <th>9</th>\n",
              "      <td>Z10</td>\n",
              "      <td>8297</td>\n",
              "      <td>19808</td>\n",
              "      <td>25310</td>\n",
              "      <td>9244</td>\n",
              "      <td>1451</td>\n",
              "      <td>253</td>\n",
              "      <td>64363</td>\n",
              "    </tr>\n",
              "    <tr>\n",
              "      <th>10</th>\n",
              "      <td>Z11</td>\n",
              "      <td>1921</td>\n",
              "      <td>3660</td>\n",
              "      <td>6087</td>\n",
              "      <td>1879</td>\n",
              "      <td>517</td>\n",
              "      <td>59</td>\n",
              "      <td>14123</td>\n",
              "    </tr>\n",
              "    <tr>\n",
              "      <th>11</th>\n",
              "      <td>Z12</td>\n",
              "      <td>598</td>\n",
              "      <td>1306</td>\n",
              "      <td>1878</td>\n",
              "      <td>482</td>\n",
              "      <td>72</td>\n",
              "      <td>52</td>\n",
              "      <td>4388</td>\n",
              "    </tr>\n",
              "    <tr>\n",
              "      <th>12</th>\n",
              "      <td>Z13</td>\n",
              "      <td>1006</td>\n",
              "      <td>1555</td>\n",
              "      <td>3636</td>\n",
              "      <td>879</td>\n",
              "      <td>105</td>\n",
              "      <td>95</td>\n",
              "      <td>7276</td>\n",
              "    </tr>\n",
              "    <tr>\n",
              "      <th>13</th>\n",
              "      <td>Z14</td>\n",
              "      <td>988</td>\n",
              "      <td>1773</td>\n",
              "      <td>2511</td>\n",
              "      <td>819</td>\n",
              "      <td>139</td>\n",
              "      <td>32</td>\n",
              "      <td>6262</td>\n",
              "    </tr>\n",
              "    <tr>\n",
              "      <th>14</th>\n",
              "      <td>Z15</td>\n",
              "      <td>700</td>\n",
              "      <td>1509</td>\n",
              "      <td>1783</td>\n",
              "      <td>609</td>\n",
              "      <td>215</td>\n",
              "      <td>51</td>\n",
              "      <td>4867</td>\n",
              "    </tr>\n",
              "    <tr>\n",
              "      <th>15</th>\n",
              "      <td>Z16</td>\n",
              "      <td>2852</td>\n",
              "      <td>5325</td>\n",
              "      <td>9579</td>\n",
              "      <td>3745</td>\n",
              "      <td>1122</td>\n",
              "      <td>233</td>\n",
              "      <td>22856</td>\n",
              "    </tr>\n",
              "    <tr>\n",
              "      <th>16</th>\n",
              "      <td>Z17</td>\n",
              "      <td>11296</td>\n",
              "      <td>25311</td>\n",
              "      <td>29166</td>\n",
              "      <td>12392</td>\n",
              "      <td>2297</td>\n",
              "      <td>773</td>\n",
              "      <td>81235</td>\n",
              "    </tr>\n",
              "    <tr>\n",
              "      <th>17</th>\n",
              "      <td>All</td>\n",
              "      <td>33775</td>\n",
              "      <td>73009</td>\n",
              "      <td>98245</td>\n",
              "      <td>34665</td>\n",
              "      <td>6796</td>\n",
              "      <td>1754</td>\n",
              "      <td>248244</td>\n",
              "    </tr>\n",
              "  </tbody>\n",
              "</table>\n",
              "</div>"
            ],
            "text/plain": [
              "연령대  거주지    20대    30대    40대    50대   60대   70대     All\n",
              "0    Z01    406    870    950    310    29     9    2574\n",
              "1    Z02     33    180    229     28     2     0     472\n",
              "2    Z03    640    990   1723    553   254     0    4160\n",
              "3    Z04   2244   4009   5571   1555   304   104   13787\n",
              "4    Z05    397    901   1499    193    74    57    3121\n",
              "5    Z06    947   2737   4148    861    86    27    8806\n",
              "6    Z07    199    367    438    145    20     2    1171\n",
              "7    Z08    822   1680   2027    473    62     3    5067\n",
              "8    Z09    429   1028   1710    498    47     4    3716\n",
              "9    Z10   8297  19808  25310   9244  1451   253   64363\n",
              "10   Z11   1921   3660   6087   1879   517    59   14123\n",
              "11   Z12    598   1306   1878    482    72    52    4388\n",
              "12   Z13   1006   1555   3636    879   105    95    7276\n",
              "13   Z14    988   1773   2511    819   139    32    6262\n",
              "14   Z15    700   1509   1783    609   215    51    4867\n",
              "15   Z16   2852   5325   9579   3745  1122   233   22856\n",
              "16   Z17  11296  25311  29166  12392  2297   773   81235\n",
              "17   All  33775  73009  98245  34665  6796  1754  248244"
            ]
          },
          "execution_count": 269,
          "metadata": {},
          "output_type": "execute_result"
        }
      ],
      "source": [
        "pivot1 = pd.pivot_table(df3,index='거주지',columns='연령대',values='고객번호',aggfunc='count',fill_value = 0,margins=True).reset_index();pivot1"
      ]
    },
    {
      "cell_type": "markdown",
      "metadata": {
        "id": "7a8pS672Ny1w"
      },
      "source": [
        "### 점포대분류"
      ]
    },
    {
      "cell_type": "markdown",
      "metadata": {
        "id": "AVeLFWeSNy1y"
      },
      "source": [
        "#### 1) 지역별로 어떤 제휴사가 분포되어있는지\n",
        "- Z02에는 F&B 업종 밖에 없다.\n",
        "- Z17에는 모든 제휴사가 다 있다. (그래서 이용횟수가 많나?)"
      ]
    },
    {
      "cell_type": "code",
      "execution_count": null,
      "metadata": {
        "id": "LIQLbJ_8Ny1y",
        "outputId": "2c0f2d15-e240-4ff4-c8c6-23189c1f447a"
      },
      "outputs": [
        {
          "data": {
            "text/plain": [
              "점포대분류\n",
              "Z01         [B01, D01, D02, C01, E01]\n",
              "Z02                        [D01, D02]\n",
              "Z03         [B01, C01, D01, D02, E01]\n",
              "Z04                   [C01, D01, D02]\n",
              "Z05                   [D02, D01, E01]\n",
              "Z06              [C01, D02, D01, E01]\n",
              "Z07         [D01, B01, D02, E01, C01]\n",
              "Z08              [D01, B01, D02, C01]\n",
              "Z09                   [D01, D02, C01]\n",
              "Z10              [D01, C01, D02, E01]\n",
              "Z11         [C01, D02, D01, C02, E01]\n",
              "Z12              [D01, D02, C01, E01]\n",
              "Z13              [D01, C01, D02, E01]\n",
              "Z14              [D02, C01, D01, E01]\n",
              "Z15         [D01, C01, B01, D02, E01]\n",
              "Z16         [B01, C01, D02, D01, E01]\n",
              "Z17    [B01, D01, C01, D02, C02, E01]\n",
              "Name: 제휴사, dtype: object"
            ]
          },
          "execution_count": 310,
          "metadata": {},
          "output_type": "execute_result"
        }
      ],
      "source": [
        "df3.groupby('점포대분류')['제휴사'].unique()"
      ]
    },
    {
      "cell_type": "markdown",
      "metadata": {
        "id": "E8mUpAevNy1y"
      },
      "source": [
        "#### 2) Z07에는 D02가, Z17에는 C02가 가장 많다."
      ]
    },
    {
      "cell_type": "code",
      "execution_count": null,
      "metadata": {
        "id": "w0nhoocJNy1y",
        "outputId": "c755f8fd-a5c4-4892-a7fb-f2bfc25174c8"
      },
      "outputs": [
        {
          "data": {
            "text/plain": [
              "점포대분류\n",
              "Z01    D01\n",
              "Z02    D01\n",
              "Z03    D01\n",
              "Z04    D01\n",
              "Z05    D01\n",
              "Z06    D01\n",
              "Z07    D02\n",
              "Z08    D01\n",
              "Z09    D01\n",
              "Z10    D01\n",
              "Z11    D01\n",
              "Z12    D01\n",
              "Z13    D01\n",
              "Z14    D01\n",
              "Z15    D01\n",
              "Z16    D01\n",
              "Z17    C02\n",
              "Name: 제휴사, dtype: object"
            ]
          },
          "execution_count": 311,
          "metadata": {},
          "output_type": "execute_result"
        }
      ],
      "source": [
        "df3.groupby('점포대분류')['제휴사'].agg(lambda x : x.value_counts().idxmax())"
      ]
    },
    {
      "cell_type": "markdown",
      "metadata": {
        "id": "WKcLeOPlNy1z"
      },
      "source": [
        "#### 3) 지역별 제휴사 개수...?\n",
        "- C02는 Z11, Z17에만 있음."
      ]
    },
    {
      "cell_type": "code",
      "execution_count": null,
      "metadata": {
        "id": "2pUDf9HhNy1z",
        "outputId": "6454b87d-06e8-4bda-a021-9ffb136848d2"
      },
      "outputs": [
        {
          "data": {
            "text/html": [
              "<div>\n",
              "<style scoped>\n",
              "    .dataframe tbody tr th:only-of-type {\n",
              "        vertical-align: middle;\n",
              "    }\n",
              "\n",
              "    .dataframe tbody tr th {\n",
              "        vertical-align: top;\n",
              "    }\n",
              "\n",
              "    .dataframe thead th {\n",
              "        text-align: right;\n",
              "    }\n",
              "</style>\n",
              "<table border=\"1\" class=\"dataframe\">\n",
              "  <thead>\n",
              "    <tr style=\"text-align: right;\">\n",
              "      <th>제휴사</th>\n",
              "      <th>B01</th>\n",
              "      <th>C01</th>\n",
              "      <th>C02</th>\n",
              "      <th>D01</th>\n",
              "      <th>D02</th>\n",
              "      <th>E01</th>\n",
              "    </tr>\n",
              "    <tr>\n",
              "      <th>점포대분류</th>\n",
              "      <th></th>\n",
              "      <th></th>\n",
              "      <th></th>\n",
              "      <th></th>\n",
              "      <th></th>\n",
              "      <th></th>\n",
              "    </tr>\n",
              "  </thead>\n",
              "  <tbody>\n",
              "    <tr>\n",
              "      <th>Z01</th>\n",
              "      <td>898</td>\n",
              "      <td>300</td>\n",
              "      <td>0</td>\n",
              "      <td>2951</td>\n",
              "      <td>628</td>\n",
              "      <td>13</td>\n",
              "    </tr>\n",
              "    <tr>\n",
              "      <th>Z02</th>\n",
              "      <td>0</td>\n",
              "      <td>0</td>\n",
              "      <td>0</td>\n",
              "      <td>330</td>\n",
              "      <td>33</td>\n",
              "      <td>0</td>\n",
              "    </tr>\n",
              "    <tr>\n",
              "      <th>Z03</th>\n",
              "      <td>115</td>\n",
              "      <td>1147</td>\n",
              "      <td>0</td>\n",
              "      <td>1929</td>\n",
              "      <td>610</td>\n",
              "      <td>25</td>\n",
              "    </tr>\n",
              "    <tr>\n",
              "      <th>Z04</th>\n",
              "      <td>0</td>\n",
              "      <td>1436</td>\n",
              "      <td>0</td>\n",
              "      <td>6117</td>\n",
              "      <td>1684</td>\n",
              "      <td>0</td>\n",
              "    </tr>\n",
              "    <tr>\n",
              "      <th>Z05</th>\n",
              "      <td>0</td>\n",
              "      <td>0</td>\n",
              "      <td>0</td>\n",
              "      <td>4305</td>\n",
              "      <td>1105</td>\n",
              "      <td>34</td>\n",
              "    </tr>\n",
              "    <tr>\n",
              "      <th>Z06</th>\n",
              "      <td>0</td>\n",
              "      <td>1629</td>\n",
              "      <td>0</td>\n",
              "      <td>5233</td>\n",
              "      <td>1288</td>\n",
              "      <td>12</td>\n",
              "    </tr>\n",
              "    <tr>\n",
              "      <th>Z07</th>\n",
              "      <td>664</td>\n",
              "      <td>256</td>\n",
              "      <td>0</td>\n",
              "      <td>969</td>\n",
              "      <td>2138</td>\n",
              "      <td>177</td>\n",
              "    </tr>\n",
              "    <tr>\n",
              "      <th>Z08</th>\n",
              "      <td>338</td>\n",
              "      <td>454</td>\n",
              "      <td>0</td>\n",
              "      <td>4011</td>\n",
              "      <td>951</td>\n",
              "      <td>0</td>\n",
              "    </tr>\n",
              "    <tr>\n",
              "      <th>Z09</th>\n",
              "      <td>0</td>\n",
              "      <td>511</td>\n",
              "      <td>0</td>\n",
              "      <td>3419</td>\n",
              "      <td>499</td>\n",
              "      <td>0</td>\n",
              "    </tr>\n",
              "    <tr>\n",
              "      <th>Z10</th>\n",
              "      <td>0</td>\n",
              "      <td>11374</td>\n",
              "      <td>0</td>\n",
              "      <td>26532</td>\n",
              "      <td>5357</td>\n",
              "      <td>30</td>\n",
              "    </tr>\n",
              "    <tr>\n",
              "      <th>Z11</th>\n",
              "      <td>0</td>\n",
              "      <td>2814</td>\n",
              "      <td>264</td>\n",
              "      <td>6137</td>\n",
              "      <td>3441</td>\n",
              "      <td>8</td>\n",
              "    </tr>\n",
              "    <tr>\n",
              "      <th>Z12</th>\n",
              "      <td>0</td>\n",
              "      <td>675</td>\n",
              "      <td>0</td>\n",
              "      <td>4233</td>\n",
              "      <td>1246</td>\n",
              "      <td>8</td>\n",
              "    </tr>\n",
              "    <tr>\n",
              "      <th>Z13</th>\n",
              "      <td>0</td>\n",
              "      <td>1215</td>\n",
              "      <td>0</td>\n",
              "      <td>2098</td>\n",
              "      <td>1200</td>\n",
              "      <td>10</td>\n",
              "    </tr>\n",
              "    <tr>\n",
              "      <th>Z14</th>\n",
              "      <td>0</td>\n",
              "      <td>1694</td>\n",
              "      <td>0</td>\n",
              "      <td>4086</td>\n",
              "      <td>1465</td>\n",
              "      <td>5</td>\n",
              "    </tr>\n",
              "    <tr>\n",
              "      <th>Z15</th>\n",
              "      <td>131</td>\n",
              "      <td>1024</td>\n",
              "      <td>0</td>\n",
              "      <td>3569</td>\n",
              "      <td>1541</td>\n",
              "      <td>8</td>\n",
              "    </tr>\n",
              "    <tr>\n",
              "      <th>Z16</th>\n",
              "      <td>1845</td>\n",
              "      <td>6165</td>\n",
              "      <td>0</td>\n",
              "      <td>9748</td>\n",
              "      <td>4279</td>\n",
              "      <td>36</td>\n",
              "    </tr>\n",
              "    <tr>\n",
              "      <th>Z17</th>\n",
              "      <td>4107</td>\n",
              "      <td>17629</td>\n",
              "      <td>29994</td>\n",
              "      <td>26565</td>\n",
              "      <td>15669</td>\n",
              "      <td>5833</td>\n",
              "    </tr>\n",
              "  </tbody>\n",
              "</table>\n",
              "</div>"
            ],
            "text/plain": [
              "제휴사     B01    C01    C02    D01    D02   E01\n",
              "점포대분류                                        \n",
              "Z01     898    300      0   2951    628    13\n",
              "Z02       0      0      0    330     33     0\n",
              "Z03     115   1147      0   1929    610    25\n",
              "Z04       0   1436      0   6117   1684     0\n",
              "Z05       0      0      0   4305   1105    34\n",
              "Z06       0   1629      0   5233   1288    12\n",
              "Z07     664    256      0    969   2138   177\n",
              "Z08     338    454      0   4011    951     0\n",
              "Z09       0    511      0   3419    499     0\n",
              "Z10       0  11374      0  26532   5357    30\n",
              "Z11       0   2814    264   6137   3441     8\n",
              "Z12       0    675      0   4233   1246     8\n",
              "Z13       0   1215      0   2098   1200    10\n",
              "Z14       0   1694      0   4086   1465     5\n",
              "Z15     131   1024      0   3569   1541     8\n",
              "Z16    1845   6165      0   9748   4279    36\n",
              "Z17    4107  17629  29994  26565  15669  5833"
            ]
          },
          "execution_count": 313,
          "metadata": {},
          "output_type": "execute_result"
        }
      ],
      "source": [
        "pd.pivot_table(df3,index='점포대분류',columns='제휴사',values='점포코드',aggfunc='count',fill_value = 0)"
      ]
    },
    {
      "cell_type": "markdown",
      "metadata": {
        "id": "ZpSI_SwNNy1z"
      },
      "source": [
        "### 채널"
      ]
    },
    {
      "cell_type": "markdown",
      "metadata": {
        "id": "Hzuj6_OMNy1z"
      },
      "source": [
        "#### 1) 오프라인으로 더 많이 이용한다."
      ]
    },
    {
      "cell_type": "code",
      "execution_count": null,
      "metadata": {
        "colab": {
          "base_uri": "https://localhost:8080/"
        },
        "id": "qafKpiOyOja5",
        "outputId": "c142ef34-ad3e-45b5-9b15-fe75114e4283"
      },
      "outputs": [
        {
          "data": {
            "text/plain": [
              "오프라인    213525\n",
              "온라인      34724\n",
              "Name: 채널, dtype: int64"
            ]
          },
          "execution_count": 11,
          "metadata": {},
          "output_type": "execute_result"
        }
      ],
      "source": [
        "df3.채널.value_counts()"
      ]
    },
    {
      "cell_type": "markdown",
      "metadata": {
        "id": "dR1WjswENy1z"
      },
      "source": [
        "#### 2) 온라인으로 이용할 때, C01(엔터테인먼트)가 가장 많다."
      ]
    },
    {
      "cell_type": "code",
      "execution_count": null,
      "metadata": {
        "id": "BcUzbl3bNy1z",
        "outputId": "563013c2-5bf2-4ed1-b830-3f8b99ad4a46"
      },
      "outputs": [
        {
          "data": {
            "text/plain": [
              "C01    33345\n",
              "D01     1024\n",
              "C02      355\n",
              "Name: 제휴사, dtype: int64"
            ]
          },
          "execution_count": 12,
          "metadata": {},
          "output_type": "execute_result"
        }
      ],
      "source": [
        "df3[df3.채널=='온라인'].제휴사.value_counts() # E01 55개 제외"
      ]
    },
    {
      "cell_type": "markdown",
      "metadata": {
        "id": "qzd4zzDvNy1z"
      },
      "source": [
        "#### 3) 오프라인으로 이용할 때, D(F&B)가 가장 많다.\n",
        "- B01(숙박업종) , D02는 only 오프라인\n",
        "> 음식은 오프라인으로 Lpoint 적립 하는듯,,, 배달주문에는 적립 잘 안하나봄..?"
      ]
    },
    {
      "cell_type": "code",
      "execution_count": null,
      "metadata": {
        "id": "wqgNFk2INy10",
        "outputId": "37e9b912-682c-4540-9df1-d36f3cde7507"
      },
      "outputs": [
        {
          "data": {
            "text/plain": [
              "D01    111208\n",
              "D02     43134\n",
              "C02     29903\n",
              "C01     14978\n",
              "B01      8103\n",
              "E01      6199\n",
              "Name: 제휴사, dtype: int64"
            ]
          },
          "execution_count": 13,
          "metadata": {},
          "output_type": "execute_result"
        }
      ],
      "source": [
        "df3[df3.채널=='오프라인'].제휴사.value_counts()"
      ]
    },
    {
      "cell_type": "markdown",
      "metadata": {
        "id": "wn01w-RaNy10"
      },
      "source": [
        "#### 4) 연령대는 모두 40대가 가장 많다."
      ]
    },
    {
      "cell_type": "code",
      "execution_count": null,
      "metadata": {
        "id": "J7xrVOsea-XA",
        "scrolled": true,
        "outputId": "7d5ac8f3-73f2-4441-ac71-e073d9e9b16a"
      },
      "outputs": [
        {
          "data": {
            "text/plain": [
              "채널\n",
              "오프라인    40대\n",
              "온라인     40대\n",
              "Name: 연령대, dtype: object"
            ]
          },
          "execution_count": 379,
          "metadata": {},
          "output_type": "execute_result"
        }
      ],
      "source": [
        "df3.groupby('채널')['연령대'].agg(lambda x : x.value_counts().idxmax())"
      ]
    },
    {
      "cell_type": "markdown",
      "metadata": {
        "id": "CiGLHzX7Ny10"
      },
      "source": [
        "- 비율로 따졌을 때, 온라인 이용 비율은 **50대, 20대, 60대** 순으로 높음."
      ]
    },
    {
      "cell_type": "code",
      "execution_count": null,
      "metadata": {
        "id": "ljEua0McNy10",
        "outputId": "92ee9198-3156-4398-859f-d462284074c2"
      },
      "outputs": [
        {
          "data": {
            "text/html": [
              "<div>\n",
              "<style scoped>\n",
              "    .dataframe tbody tr th:only-of-type {\n",
              "        vertical-align: middle;\n",
              "    }\n",
              "\n",
              "    .dataframe tbody tr th {\n",
              "        vertical-align: top;\n",
              "    }\n",
              "\n",
              "    .dataframe thead th {\n",
              "        text-align: right;\n",
              "    }\n",
              "</style>\n",
              "<table border=\"1\" class=\"dataframe\">\n",
              "  <thead>\n",
              "    <tr style=\"text-align: right;\">\n",
              "      <th>채널</th>\n",
              "      <th>오프라인</th>\n",
              "      <th>온라인</th>\n",
              "      <th>All</th>\n",
              "    </tr>\n",
              "    <tr>\n",
              "      <th>연령대</th>\n",
              "      <th></th>\n",
              "      <th></th>\n",
              "      <th></th>\n",
              "    </tr>\n",
              "  </thead>\n",
              "  <tbody>\n",
              "    <tr>\n",
              "      <th>20대</th>\n",
              "      <td>28096</td>\n",
              "      <td>5679</td>\n",
              "      <td>33775</td>\n",
              "    </tr>\n",
              "    <tr>\n",
              "      <th>30대</th>\n",
              "      <td>64105</td>\n",
              "      <td>8904</td>\n",
              "      <td>73009</td>\n",
              "    </tr>\n",
              "    <tr>\n",
              "      <th>40대</th>\n",
              "      <td>85254</td>\n",
              "      <td>12991</td>\n",
              "      <td>98245</td>\n",
              "    </tr>\n",
              "    <tr>\n",
              "      <th>50대</th>\n",
              "      <td>28689</td>\n",
              "      <td>5976</td>\n",
              "      <td>34665</td>\n",
              "    </tr>\n",
              "    <tr>\n",
              "      <th>60대</th>\n",
              "      <td>5772</td>\n",
              "      <td>1024</td>\n",
              "      <td>6796</td>\n",
              "    </tr>\n",
              "    <tr>\n",
              "      <th>70대</th>\n",
              "      <td>1604</td>\n",
              "      <td>150</td>\n",
              "      <td>1754</td>\n",
              "    </tr>\n",
              "    <tr>\n",
              "      <th>All</th>\n",
              "      <td>213520</td>\n",
              "      <td>34724</td>\n",
              "      <td>248244</td>\n",
              "    </tr>\n",
              "  </tbody>\n",
              "</table>\n",
              "</div>"
            ],
            "text/plain": [
              "채널     오프라인    온라인     All\n",
              "연령대                       \n",
              "20대   28096   5679   33775\n",
              "30대   64105   8904   73009\n",
              "40대   85254  12991   98245\n",
              "50대   28689   5976   34665\n",
              "60대    5772   1024    6796\n",
              "70대    1604    150    1754\n",
              "All  213520  34724  248244"
            ]
          },
          "execution_count": 283,
          "metadata": {},
          "output_type": "execute_result"
        }
      ],
      "source": [
        "pivot2 = pd.pivot_table(df3,index='채널',columns='연령대',values='고객번호',aggfunc='count',margins=True).T;pivot2"
      ]
    },
    {
      "cell_type": "code",
      "execution_count": null,
      "metadata": {
        "id": "gV7R13i-Ny10",
        "outputId": "7f5d36be-fd93-4db5-b5d5-31f6345c37e6"
      },
      "outputs": [
        {
          "data": {
            "text/plain": [
              "연령대\n",
              "50대    0.172393\n",
              "20대    0.168142\n",
              "60대    0.150677\n",
              "40대    0.132231\n",
              "30대    0.121958\n",
              "70대    0.085519\n",
              "dtype: float64"
            ]
          },
          "execution_count": 294,
          "metadata": {},
          "output_type": "execute_result"
        }
      ],
      "source": [
        "pivot2 = pivot2.loc[pivot2.index != 'All']\n",
        "(pivot2.온라인/pivot2.All).sort_values(ascending=False)"
      ]
    },
    {
      "cell_type": "markdown",
      "metadata": {
        "id": "FgIcYy6BNy10"
      },
      "source": [
        "#### 5) 성별은 모두 여성이 가장 많다."
      ]
    },
    {
      "cell_type": "code",
      "execution_count": null,
      "metadata": {
        "scrolled": true,
        "id": "hFKSE7LuNy11",
        "outputId": "370464c1-f674-43d0-b8f0-3f98223a404c"
      },
      "outputs": [
        {
          "data": {
            "text/plain": [
              "채널\n",
              "오프라인    여성\n",
              "온라인     여성\n",
              "Name: 성별, dtype: object"
            ]
          },
          "execution_count": 304,
          "metadata": {},
          "output_type": "execute_result"
        }
      ],
      "source": [
        "df3.groupby('채널')['성별'].agg(lambda x : x.value_counts().idxmax())"
      ]
    },
    {
      "cell_type": "markdown",
      "metadata": {
        "id": "TS-oi_VxNy11"
      },
      "source": [
        "- 비율로 따졌을 때, **남성은 온라인, 여성은 오프라인**으로 많이 이용한다."
      ]
    },
    {
      "cell_type": "code",
      "execution_count": null,
      "metadata": {
        "id": "xIZWhCQONy11",
        "outputId": "fc3d97ab-8b9e-414a-bad9-b7e66952e50b"
      },
      "outputs": [
        {
          "data": {
            "text/html": [
              "<div>\n",
              "<style scoped>\n",
              "    .dataframe tbody tr th:only-of-type {\n",
              "        vertical-align: middle;\n",
              "    }\n",
              "\n",
              "    .dataframe tbody tr th {\n",
              "        vertical-align: top;\n",
              "    }\n",
              "\n",
              "    .dataframe thead th {\n",
              "        text-align: right;\n",
              "    }\n",
              "</style>\n",
              "<table border=\"1\" class=\"dataframe\">\n",
              "  <thead>\n",
              "    <tr style=\"text-align: right;\">\n",
              "      <th>채널</th>\n",
              "      <th>오프라인</th>\n",
              "      <th>온라인</th>\n",
              "      <th>All</th>\n",
              "    </tr>\n",
              "    <tr>\n",
              "      <th>성별</th>\n",
              "      <th></th>\n",
              "      <th></th>\n",
              "      <th></th>\n",
              "    </tr>\n",
              "  </thead>\n",
              "  <tbody>\n",
              "    <tr>\n",
              "      <th>남성</th>\n",
              "      <td>71165</td>\n",
              "      <td>13352</td>\n",
              "      <td>84517</td>\n",
              "    </tr>\n",
              "    <tr>\n",
              "      <th>여성</th>\n",
              "      <td>142355</td>\n",
              "      <td>21372</td>\n",
              "      <td>163727</td>\n",
              "    </tr>\n",
              "    <tr>\n",
              "      <th>All</th>\n",
              "      <td>213520</td>\n",
              "      <td>34724</td>\n",
              "      <td>248244</td>\n",
              "    </tr>\n",
              "  </tbody>\n",
              "</table>\n",
              "</div>"
            ],
            "text/plain": [
              "채널     오프라인    온라인     All\n",
              "성별                        \n",
              "남성    71165  13352   84517\n",
              "여성   142355  21372  163727\n",
              "All  213520  34724  248244"
            ]
          },
          "execution_count": 305,
          "metadata": {},
          "output_type": "execute_result"
        }
      ],
      "source": [
        "pivot2 = pd.pivot_table(df3,index='채널',columns='성별',values='고객번호',aggfunc='count',margins=True).T;pivot2"
      ]
    },
    {
      "cell_type": "code",
      "execution_count": null,
      "metadata": {
        "id": "CfaU87AlNy11",
        "outputId": "49cd3425-27d2-4125-f634-2f76da86aa61"
      },
      "outputs": [
        {
          "data": {
            "text/plain": [
              "성별\n",
              "남성    0.157980\n",
              "여성    0.130534\n",
              "dtype: float64"
            ]
          },
          "execution_count": 306,
          "metadata": {},
          "output_type": "execute_result"
        }
      ],
      "source": [
        "pivot2 = pivot2.loc[pivot2.index != 'All']\n",
        "(pivot2.온라인/pivot2.All).sort_values(ascending=False)"
      ]
    },
    {
      "cell_type": "code",
      "execution_count": null,
      "metadata": {
        "id": "5EEE136DNy11",
        "outputId": "56100c2d-1d06-4766-d4a3-281a9c0a9647"
      },
      "outputs": [
        {
          "data": {
            "text/plain": [
              "성별\n",
              "여성    0.869466\n",
              "남성    0.842020\n",
              "dtype: float64"
            ]
          },
          "execution_count": 307,
          "metadata": {},
          "output_type": "execute_result"
        }
      ],
      "source": [
        "(pivot2.오프라인/pivot2.All).sort_values(ascending=False)"
      ]
    },
    {
      "cell_type": "markdown",
      "metadata": {
        "id": "CkAEVvdRNy12"
      },
      "source": [
        "#### 채널별 이용시간"
      ]
    },
    {
      "cell_type": "markdown",
      "metadata": {
        "id": "lBYgNxRVNy12"
      },
      "source": [
        "#### 6) 오프라인일 때, 이용시간이 더 길다."
      ]
    },
    {
      "cell_type": "code",
      "execution_count": null,
      "metadata": {
        "id": "78-y6Sl6Ny12",
        "outputId": "f6ec6742-164b-4db7-b4c9-a3edb07ba775"
      },
      "outputs": [
        {
          "data": {
            "text/plain": [
              "채널\n",
              "오프라인    14.796127\n",
              "온라인     14.376368\n",
              "Name: 이용시간, dtype: float64"
            ]
          },
          "execution_count": 297,
          "metadata": {},
          "output_type": "execute_result"
        }
      ],
      "source": [
        "df3.groupby('채널')['이용시간'].mean()"
      ]
    },
    {
      "cell_type": "markdown",
      "metadata": {
        "id": "-NOHLrR-Ny12"
      },
      "source": [
        "#### 7) 오프라인일 때, 이용금액이 더 높다."
      ]
    },
    {
      "cell_type": "code",
      "execution_count": null,
      "metadata": {
        "id": "T-4KQM8gNy12",
        "outputId": "9b1a38fb-c987-46f9-df7a-cd048076e984"
      },
      "outputs": [
        {
          "data": {
            "text/plain": [
              "채널\n",
              "오프라인    20249.227061\n",
              "온라인     12275.310160\n",
              "Name: 이용금액, dtype: float64"
            ]
          },
          "execution_count": 301,
          "metadata": {},
          "output_type": "execute_result"
        }
      ],
      "source": [
        "df3.groupby('채널')['이용금액'].mean()"
      ]
    },
    {
      "cell_type": "markdown",
      "metadata": {
        "id": "uKXGxtjKNy12"
      },
      "source": [
        "#### 8) 채널별 방문계절 : 오프라인일 때는 봄이 많고, 온라인일 때는 겨울이 많다."
      ]
    },
    {
      "cell_type": "code",
      "execution_count": null,
      "metadata": {
        "scrolled": false,
        "id": "BUiXZxf-Ny12",
        "outputId": "8c3a7e3d-b4ce-40ea-9d35-2529507d1d2f"
      },
      "outputs": [
        {
          "data": {
            "text/plain": [
              "채널\n",
              "오프라인    [여름, 가을, 봄, 겨울]\n",
              "온라인     [여름, 가을, 겨울, 봄]\n",
              "Name: 방문계절, dtype: object"
            ]
          },
          "execution_count": 380,
          "metadata": {},
          "output_type": "execute_result"
        }
      ],
      "source": [
        "df3.groupby('채널')['방문계절'].agg(lambda x : x.value_counts().index)"
      ]
    },
    {
      "cell_type": "markdown",
      "metadata": {
        "id": "_V17dgZXNy13"
      },
      "source": [
        "### 거주지와 이용점포의 지역이 다른 경우"
      ]
    },
    {
      "cell_type": "code",
      "execution_count": null,
      "metadata": {
        "scrolled": true,
        "id": "chHTpBsKNy13",
        "outputId": "732acb4d-3d80-4171-aae7-59070ced519a"
      },
      "outputs": [
        {
          "data": {
            "text/html": [
              "<div>\n",
              "<style scoped>\n",
              "    .dataframe tbody tr th:only-of-type {\n",
              "        vertical-align: middle;\n",
              "    }\n",
              "\n",
              "    .dataframe tbody tr th {\n",
              "        vertical-align: top;\n",
              "    }\n",
              "\n",
              "    .dataframe thead th {\n",
              "        text-align: right;\n",
              "    }\n",
              "</style>\n",
              "<table border=\"1\" class=\"dataframe\">\n",
              "  <thead>\n",
              "    <tr style=\"text-align: right;\">\n",
              "      <th></th>\n",
              "      <th>고객번호</th>\n",
              "      <th>영수증번호</th>\n",
              "      <th>제휴사</th>\n",
              "      <th>점포코드</th>\n",
              "      <th>채널</th>\n",
              "      <th>이용일자</th>\n",
              "      <th>방문일자</th>\n",
              "      <th>이용시간</th>\n",
              "      <th>이용금액</th>\n",
              "      <th>성별</th>\n",
              "      <th>연령대</th>\n",
              "      <th>거주지</th>\n",
              "      <th>점포대분류</th>\n",
              "      <th>점포중분류</th>\n",
              "      <th>결제후방문</th>\n",
              "      <th>방문월</th>\n",
              "      <th>방문계절</th>\n",
              "    </tr>\n",
              "  </thead>\n",
              "  <tbody>\n",
              "    <tr>\n",
              "      <th>75</th>\n",
              "      <td>M168750156</td>\n",
              "      <td>21011920B014045731</td>\n",
              "      <td>B01</td>\n",
              "      <td>B010012</td>\n",
              "      <td>오프라인</td>\n",
              "      <td>2021-01-19</td>\n",
              "      <td>2021-01-19</td>\n",
              "      <td>20</td>\n",
              "      <td>47597</td>\n",
              "      <td>여성</td>\n",
              "      <td>70대</td>\n",
              "      <td>Z05</td>\n",
              "      <td>Z17</td>\n",
              "      <td>Z17024</td>\n",
              "      <td>0</td>\n",
              "      <td>1</td>\n",
              "      <td>겨울</td>\n",
              "    </tr>\n",
              "    <tr>\n",
              "      <th>76</th>\n",
              "      <td>M168750156</td>\n",
              "      <td>21112611B013628561</td>\n",
              "      <td>B01</td>\n",
              "      <td>B010012</td>\n",
              "      <td>오프라인</td>\n",
              "      <td>2021-11-26</td>\n",
              "      <td>2021-11-26</td>\n",
              "      <td>11</td>\n",
              "      <td>230788</td>\n",
              "      <td>여성</td>\n",
              "      <td>70대</td>\n",
              "      <td>Z05</td>\n",
              "      <td>Z17</td>\n",
              "      <td>Z17024</td>\n",
              "      <td>0</td>\n",
              "      <td>11</td>\n",
              "      <td>가을</td>\n",
              "    </tr>\n",
              "    <tr>\n",
              "      <th>77</th>\n",
              "      <td>M168750156</td>\n",
              "      <td>21120910B012220720</td>\n",
              "      <td>B01</td>\n",
              "      <td>B010012</td>\n",
              "      <td>오프라인</td>\n",
              "      <td>2021-12-09</td>\n",
              "      <td>2021-12-09</td>\n",
              "      <td>10</td>\n",
              "      <td>23999</td>\n",
              "      <td>여성</td>\n",
              "      <td>70대</td>\n",
              "      <td>Z05</td>\n",
              "      <td>Z17</td>\n",
              "      <td>Z17024</td>\n",
              "      <td>0</td>\n",
              "      <td>12</td>\n",
              "      <td>겨울</td>\n",
              "    </tr>\n",
              "    <tr>\n",
              "      <th>78</th>\n",
              "      <td>M168750156</td>\n",
              "      <td>21082712B011081380</td>\n",
              "      <td>B01</td>\n",
              "      <td>B010012</td>\n",
              "      <td>오프라인</td>\n",
              "      <td>2021-08-27</td>\n",
              "      <td>2021-08-27</td>\n",
              "      <td>12</td>\n",
              "      <td>80753</td>\n",
              "      <td>여성</td>\n",
              "      <td>70대</td>\n",
              "      <td>Z05</td>\n",
              "      <td>Z17</td>\n",
              "      <td>Z17024</td>\n",
              "      <td>0</td>\n",
              "      <td>8</td>\n",
              "      <td>여름</td>\n",
              "    </tr>\n",
              "    <tr>\n",
              "      <th>79</th>\n",
              "      <td>M168750156</td>\n",
              "      <td>21032411B010216650</td>\n",
              "      <td>B01</td>\n",
              "      <td>B010012</td>\n",
              "      <td>오프라인</td>\n",
              "      <td>2021-03-24</td>\n",
              "      <td>2021-03-24</td>\n",
              "      <td>11</td>\n",
              "      <td>19796</td>\n",
              "      <td>여성</td>\n",
              "      <td>70대</td>\n",
              "      <td>Z05</td>\n",
              "      <td>Z17</td>\n",
              "      <td>Z17024</td>\n",
              "      <td>0</td>\n",
              "      <td>3</td>\n",
              "      <td>봄</td>\n",
              "    </tr>\n",
              "    <tr>\n",
              "      <th>...</th>\n",
              "      <td>...</td>\n",
              "      <td>...</td>\n",
              "      <td>...</td>\n",
              "      <td>...</td>\n",
              "      <td>...</td>\n",
              "      <td>...</td>\n",
              "      <td>...</td>\n",
              "      <td>...</td>\n",
              "      <td>...</td>\n",
              "      <td>...</td>\n",
              "      <td>...</td>\n",
              "      <td>...</td>\n",
              "      <td>...</td>\n",
              "      <td>...</td>\n",
              "      <td>...</td>\n",
              "      <td>...</td>\n",
              "      <td>...</td>\n",
              "    </tr>\n",
              "    <tr>\n",
              "      <th>248238</th>\n",
              "      <td>M997006721</td>\n",
              "      <td>21032512D024924490</td>\n",
              "      <td>D02</td>\n",
              "      <td>D020080</td>\n",
              "      <td>오프라인</td>\n",
              "      <td>2021-03-25</td>\n",
              "      <td>2021-03-25</td>\n",
              "      <td>12</td>\n",
              "      <td>24700</td>\n",
              "      <td>남성</td>\n",
              "      <td>60대</td>\n",
              "      <td>Z04</td>\n",
              "      <td>Z01</td>\n",
              "      <td>Z01012</td>\n",
              "      <td>0</td>\n",
              "      <td>3</td>\n",
              "      <td>봄</td>\n",
              "    </tr>\n",
              "    <tr>\n",
              "      <th>248239</th>\n",
              "      <td>M291740940</td>\n",
              "      <td>21091714D022311015</td>\n",
              "      <td>D02</td>\n",
              "      <td>D020229</td>\n",
              "      <td>오프라인</td>\n",
              "      <td>2021-09-17</td>\n",
              "      <td>2021-09-17</td>\n",
              "      <td>14</td>\n",
              "      <td>10100</td>\n",
              "      <td>여성</td>\n",
              "      <td>20대</td>\n",
              "      <td>Z10</td>\n",
              "      <td>Z17</td>\n",
              "      <td>Z17025</td>\n",
              "      <td>0</td>\n",
              "      <td>9</td>\n",
              "      <td>가을</td>\n",
              "    </tr>\n",
              "    <tr>\n",
              "      <th>248240</th>\n",
              "      <td>M914963204</td>\n",
              "      <td>21111914D025560961</td>\n",
              "      <td>D02</td>\n",
              "      <td>D020229</td>\n",
              "      <td>오프라인</td>\n",
              "      <td>2021-11-19</td>\n",
              "      <td>2021-11-19</td>\n",
              "      <td>14</td>\n",
              "      <td>6500</td>\n",
              "      <td>남성</td>\n",
              "      <td>20대</td>\n",
              "      <td>Z04</td>\n",
              "      <td>Z17</td>\n",
              "      <td>Z17025</td>\n",
              "      <td>0</td>\n",
              "      <td>11</td>\n",
              "      <td>가을</td>\n",
              "    </tr>\n",
              "    <tr>\n",
              "      <th>248241</th>\n",
              "      <td>M914963204</td>\n",
              "      <td>21111915D021355121</td>\n",
              "      <td>D02</td>\n",
              "      <td>D020229</td>\n",
              "      <td>오프라인</td>\n",
              "      <td>2021-11-19</td>\n",
              "      <td>2021-11-19</td>\n",
              "      <td>15</td>\n",
              "      <td>5800</td>\n",
              "      <td>남성</td>\n",
              "      <td>20대</td>\n",
              "      <td>Z04</td>\n",
              "      <td>Z17</td>\n",
              "      <td>Z17025</td>\n",
              "      <td>0</td>\n",
              "      <td>11</td>\n",
              "      <td>가을</td>\n",
              "    </tr>\n",
              "    <tr>\n",
              "      <th>248242</th>\n",
              "      <td>M984669135</td>\n",
              "      <td>21100212D023114470</td>\n",
              "      <td>D02</td>\n",
              "      <td>D020196</td>\n",
              "      <td>오프라인</td>\n",
              "      <td>2021-10-02</td>\n",
              "      <td>2021-10-02</td>\n",
              "      <td>12</td>\n",
              "      <td>11280</td>\n",
              "      <td>여성</td>\n",
              "      <td>30대</td>\n",
              "      <td>Z13</td>\n",
              "      <td>Z05</td>\n",
              "      <td>Z05014</td>\n",
              "      <td>0</td>\n",
              "      <td>10</td>\n",
              "      <td>가을</td>\n",
              "    </tr>\n",
              "  </tbody>\n",
              "</table>\n",
              "<p>100394 rows × 17 columns</p>\n",
              "</div>"
            ],
            "text/plain": [
              "              고객번호               영수증번호  제휴사     점포코드    채널       이용일자  \\\n",
              "75      M168750156  21011920B014045731  B01  B010012  오프라인 2021-01-19   \n",
              "76      M168750156  21112611B013628561  B01  B010012  오프라인 2021-11-26   \n",
              "77      M168750156  21120910B012220720  B01  B010012  오프라인 2021-12-09   \n",
              "78      M168750156  21082712B011081380  B01  B010012  오프라인 2021-08-27   \n",
              "79      M168750156  21032411B010216650  B01  B010012  오프라인 2021-03-24   \n",
              "...            ...                 ...  ...      ...   ...        ...   \n",
              "248238  M997006721  21032512D024924490  D02  D020080  오프라인 2021-03-25   \n",
              "248239  M291740940  21091714D022311015  D02  D020229  오프라인 2021-09-17   \n",
              "248240  M914963204  21111914D025560961  D02  D020229  오프라인 2021-11-19   \n",
              "248241  M914963204  21111915D021355121  D02  D020229  오프라인 2021-11-19   \n",
              "248242  M984669135  21100212D023114470  D02  D020196  오프라인 2021-10-02   \n",
              "\n",
              "             방문일자  이용시간    이용금액  성별  연령대  거주지 점포대분류   점포중분류  결제후방문  방문월 방문계절  \n",
              "75     2021-01-19    20   47597  여성  70대  Z05   Z17  Z17024      0    1   겨울  \n",
              "76     2021-11-26    11  230788  여성  70대  Z05   Z17  Z17024      0   11   가을  \n",
              "77     2021-12-09    10   23999  여성  70대  Z05   Z17  Z17024      0   12   겨울  \n",
              "78     2021-08-27    12   80753  여성  70대  Z05   Z17  Z17024      0    8   여름  \n",
              "79     2021-03-24    11   19796  여성  70대  Z05   Z17  Z17024      0    3    봄  \n",
              "...           ...   ...     ...  ..  ...  ...   ...     ...    ...  ...  ...  \n",
              "248238 2021-03-25    12   24700  남성  60대  Z04   Z01  Z01012      0    3    봄  \n",
              "248239 2021-09-17    14   10100  여성  20대  Z10   Z17  Z17025      0    9   가을  \n",
              "248240 2021-11-19    14    6500  남성  20대  Z04   Z17  Z17025      0   11   가을  \n",
              "248241 2021-11-19    15    5800  남성  20대  Z04   Z17  Z17025      0   11   가을  \n",
              "248242 2021-10-02    12   11280  여성  30대  Z13   Z05  Z05014      0   10   가을  \n",
              "\n",
              "[100394 rows x 17 columns]"
            ]
          },
          "execution_count": 235,
          "metadata": {},
          "output_type": "execute_result"
        }
      ],
      "source": [
        "df3[df3.거주지 != df3.점포대분류]"
      ]
    },
    {
      "cell_type": "markdown",
      "metadata": {
        "id": "BKNImO3LNy13"
      },
      "source": [
        "#### 데이터 개수에 영향을 받은 결과로 추정. <font color=green>비율로 계산해야함.</font>\n",
        "- 채널 : 오프라인\n",
        "- 연령대 : 40대\n",
        "- 계절 : 여름\n",
        "- 제휴사 : D01\n",
        "- 성별 : 여성"
      ]
    },
    {
      "cell_type": "code",
      "execution_count": null,
      "metadata": {
        "id": "VmtkzUvmNy13",
        "outputId": "efb91171-fd3a-4b3d-aabd-d6e9eab33008"
      },
      "outputs": [
        {
          "data": {
            "text/plain": [
              "오프라인    94380\n",
              "온라인      6014\n",
              "Name: 채널, dtype: int64"
            ]
          },
          "execution_count": 234,
          "metadata": {},
          "output_type": "execute_result"
        }
      ],
      "source": [
        "df3[df3.거주지 != df3.점포대분류].채널.value_counts()"
      ]
    },
    {
      "cell_type": "code",
      "execution_count": null,
      "metadata": {
        "id": "90CgY3VgNy13",
        "outputId": "61ff19f3-375e-4e1c-ccfd-2297be3e030d"
      },
      "outputs": [
        {
          "data": {
            "text/plain": [
              "40대    38590\n",
              "30대    30850\n",
              "20대    15249\n",
              "50대    12830\n",
              "60대     2242\n",
              "70대      633\n",
              "Name: 연령대, dtype: int64"
            ]
          },
          "execution_count": 367,
          "metadata": {},
          "output_type": "execute_result"
        }
      ],
      "source": [
        "df3[df3.거주지 != df3.점포대분류].연령대.value_counts()"
      ]
    },
    {
      "cell_type": "code",
      "execution_count": null,
      "metadata": {
        "id": "LQvuFhL1Ny14",
        "outputId": "21c40dc7-85ba-4a99-944b-f68669320193"
      },
      "outputs": [
        {
          "data": {
            "text/plain": [
              "여름    27477\n",
              "가을    25618\n",
              "봄     25076\n",
              "겨울    22223\n",
              "Name: 방문계절, dtype: int64"
            ]
          },
          "execution_count": 369,
          "metadata": {},
          "output_type": "execute_result"
        }
      ],
      "source": [
        "df3[df3.거주지 != df3.점포대분류].방문계절.value_counts()"
      ]
    },
    {
      "cell_type": "code",
      "execution_count": null,
      "metadata": {
        "id": "bBfNivPANy14",
        "outputId": "0443d987-7bf7-4b0f-d3a4-f6bebf588cf3"
      },
      "outputs": [
        {
          "data": {
            "text/plain": [
              "D01    47769\n",
              "D02    23916\n",
              "C02    12805\n",
              "C01     7878\n",
              "B01     4202\n",
              "E01     3824\n",
              "Name: 제휴사, dtype: int64"
            ]
          },
          "execution_count": 370,
          "metadata": {},
          "output_type": "execute_result"
        }
      ],
      "source": [
        "df3[df3.거주지 != df3.점포대분류].제휴사.value_counts()"
      ]
    },
    {
      "cell_type": "code",
      "execution_count": null,
      "metadata": {
        "id": "eGZwnSSsNy14",
        "outputId": "d1603dd4-a51d-41ee-9a81-253c202da464"
      },
      "outputs": [
        {
          "data": {
            "text/plain": [
              "여성    65263\n",
              "남성    35131\n",
              "Name: 성별, dtype: int64"
            ]
          },
          "execution_count": 371,
          "metadata": {},
          "output_type": "execute_result"
        }
      ],
      "source": [
        "df3[df3.거주지 != df3.점포대분류].성별.value_counts()"
      ]
    },
    {
      "cell_type": "markdown",
      "metadata": {
        "id": "rUcAjNwqNy14"
      },
      "source": [
        "#### 거주지와 다른 곳에 가서 이용한 고객"
      ]
    },
    {
      "cell_type": "markdown",
      "metadata": {
        "id": "K1U4sQ28Ny15"
      },
      "source": [
        "<font color=green> - 전체에서 몇 % 차지하는지 비율 계산해야함..! </font>"
      ]
    },
    {
      "cell_type": "code",
      "execution_count": null,
      "metadata": {
        "id": "JOztKSClNy15",
        "outputId": "0518ba33-20d3-4471-dbcc-f8fb7636d2d4"
      },
      "outputs": [
        {
          "data": {
            "text/plain": [
              "M724456397    122\n",
              "M685408649     96\n",
              "M528274658     89\n",
              "M311626438     89\n",
              "M157996287     87\n",
              "             ... \n",
              "M507849282      1\n",
              "M947069333      1\n",
              "M583697389      1\n",
              "M271036357      1\n",
              "M291740940      1\n",
              "Name: 고객번호, Length: 15498, dtype: int64"
            ]
          },
          "execution_count": 366,
          "metadata": {},
          "output_type": "execute_result"
        }
      ],
      "source": [
        "df3[df3.거주지 != df3.점포대분류].고객번호.value_counts()"
      ]
    },
    {
      "cell_type": "code",
      "execution_count": null,
      "metadata": {
        "id": "MZkZoYpNNy15",
        "outputId": "a5ba9367-b7a2-4c0f-affa-4fde1a95e4ac"
      },
      "outputs": [
        {
          "data": {
            "text/plain": [
              "15498"
            ]
          },
          "execution_count": 357,
          "metadata": {},
          "output_type": "execute_result"
        }
      ],
      "source": [
        "cust_list = df3[df3.거주지 != df3.점포대분류].고객번호.unique().tolist()\n",
        "len(cust_list)"
      ]
    },
    {
      "cell_type": "code",
      "execution_count": null,
      "metadata": {
        "scrolled": true,
        "id": "z6TwF_V-Ny16",
        "outputId": "fd2e3634-6908-4e78-ae3c-6c45c3de7376"
      },
      "outputs": [
        {
          "data": {
            "text/plain": [
              "M223630342    261\n",
              "M295053802    130\n",
              "M724456397    123\n",
              "M710368459    115\n",
              "M678207187     98\n",
              "             ... \n",
              "M512628399      1\n",
              "M281725764      1\n",
              "M213469988      1\n",
              "M399736261      1\n",
              "M286034230      1\n",
              "Name: 고객번호, Length: 21768, dtype: int64"
            ]
          },
          "execution_count": 363,
          "metadata": {},
          "output_type": "execute_result"
        }
      ],
      "source": [
        "#비율...나타내보자\n",
        "df3.고객번호.value_counts()"
      ]
    },
    {
      "cell_type": "markdown",
      "metadata": {
        "id": "zul9RiseNy16"
      },
      "source": [
        "### 이용일자와 방문일자가 다른 경우\n",
        "- **C01** 엔터테인먼트 : 미리 **온라인**으로 예약을 해놓고 방문하는 경우로 추정."
      ]
    },
    {
      "cell_type": "markdown",
      "metadata": {
        "id": "2uA7WqgtNy16"
      },
      "source": [
        "#### 1) 모두 제휴사 C01이다."
      ]
    },
    {
      "cell_type": "code",
      "execution_count": null,
      "metadata": {
        "colab": {
          "base_uri": "https://localhost:8080/"
        },
        "id": "2vHD1iZAahBI",
        "outputId": "71accaf0-0766-4bf4-e73d-6a777d6d1bac"
      },
      "outputs": [
        {
          "data": {
            "text/plain": [
              "C01    15572\n",
              "Name: 제휴사, dtype: int64"
            ]
          },
          "execution_count": 79,
          "metadata": {},
          "output_type": "execute_result"
        }
      ],
      "source": [
        "df3[df3.이용일자!=df3.방문일자].제휴사.value_counts()"
      ]
    },
    {
      "cell_type": "markdown",
      "metadata": {
        "id": "K9GANbpsNy17"
      },
      "source": [
        "#### 2) 온라인의 비중이 높다."
      ]
    },
    {
      "cell_type": "code",
      "execution_count": null,
      "metadata": {
        "colab": {
          "base_uri": "https://localhost:8080/"
        },
        "id": "OXjh6BI4a5Mp",
        "outputId": "36645c5f-0e51-4e1b-d0a2-b46c81be7524"
      },
      "outputs": [
        {
          "data": {
            "text/plain": [
              "온라인     14889\n",
              "오프라인      683\n",
              "Name: 채널, dtype: int64"
            ]
          },
          "execution_count": 80,
          "metadata": {},
          "output_type": "execute_result"
        }
      ],
      "source": [
        "df3[df3.이용일자!=df3.방문일자].채널.value_counts()"
      ]
    },
    {
      "cell_type": "markdown",
      "metadata": {
        "id": "lHQ82EL3Ny18"
      },
      "source": [
        "#### * 오프라인으로 이용하는 점포\n",
        "<font color=green> - 특징 뭔지 모르겠음."
      ]
    },
    {
      "cell_type": "code",
      "execution_count": null,
      "metadata": {
        "colab": {
          "base_uri": "https://localhost:8080/",
          "height": 393
        },
        "id": "Ku3DgkS_bHRm",
        "outputId": "5cdc41fa-5ba6-468c-a75b-3a00b1e68f2b"
      },
      "outputs": [
        {
          "data": {
            "text/html": [
              "<div>\n",
              "<style scoped>\n",
              "    .dataframe tbody tr th:only-of-type {\n",
              "        vertical-align: middle;\n",
              "    }\n",
              "\n",
              "    .dataframe tbody tr th {\n",
              "        vertical-align: top;\n",
              "    }\n",
              "\n",
              "    .dataframe thead th {\n",
              "        text-align: right;\n",
              "    }\n",
              "</style>\n",
              "<table border=\"1\" class=\"dataframe\">\n",
              "  <thead>\n",
              "    <tr style=\"text-align: right;\">\n",
              "      <th>점포코드</th>\n",
              "      <th>C010001</th>\n",
              "      <th>C010002</th>\n",
              "      <th>C010003</th>\n",
              "      <th>C010004</th>\n",
              "      <th>C010005</th>\n",
              "      <th>C010006</th>\n",
              "      <th>C010007</th>\n",
              "      <th>C010008</th>\n",
              "      <th>C010009</th>\n",
              "      <th>C010010</th>\n",
              "      <th>...</th>\n",
              "      <th>C010134</th>\n",
              "      <th>C010135</th>\n",
              "      <th>C010136</th>\n",
              "      <th>C010137</th>\n",
              "      <th>C010138</th>\n",
              "      <th>C010139</th>\n",
              "      <th>C010140</th>\n",
              "      <th>C010141</th>\n",
              "      <th>C010142</th>\n",
              "      <th>C010143</th>\n",
              "    </tr>\n",
              "    <tr>\n",
              "      <th>채널</th>\n",
              "      <th></th>\n",
              "      <th></th>\n",
              "      <th></th>\n",
              "      <th></th>\n",
              "      <th></th>\n",
              "      <th></th>\n",
              "      <th></th>\n",
              "      <th></th>\n",
              "      <th></th>\n",
              "      <th></th>\n",
              "      <th></th>\n",
              "      <th></th>\n",
              "      <th></th>\n",
              "      <th></th>\n",
              "      <th></th>\n",
              "      <th></th>\n",
              "      <th></th>\n",
              "      <th></th>\n",
              "      <th></th>\n",
              "      <th></th>\n",
              "      <th></th>\n",
              "    </tr>\n",
              "  </thead>\n",
              "  <tbody>\n",
              "    <tr>\n",
              "      <th>오프라인</th>\n",
              "      <td>2</td>\n",
              "      <td>48</td>\n",
              "      <td>0</td>\n",
              "      <td>2</td>\n",
              "      <td>3</td>\n",
              "      <td>0</td>\n",
              "      <td>0</td>\n",
              "      <td>0</td>\n",
              "      <td>0</td>\n",
              "      <td>2</td>\n",
              "      <td>...</td>\n",
              "      <td>0</td>\n",
              "      <td>0</td>\n",
              "      <td>0</td>\n",
              "      <td>0</td>\n",
              "      <td>0</td>\n",
              "      <td>0</td>\n",
              "      <td>0</td>\n",
              "      <td>0</td>\n",
              "      <td>0</td>\n",
              "      <td>0</td>\n",
              "    </tr>\n",
              "    <tr>\n",
              "      <th>온라인</th>\n",
              "      <td>108</td>\n",
              "      <td>0</td>\n",
              "      <td>512</td>\n",
              "      <td>372</td>\n",
              "      <td>319</td>\n",
              "      <td>109</td>\n",
              "      <td>108</td>\n",
              "      <td>137</td>\n",
              "      <td>90</td>\n",
              "      <td>409</td>\n",
              "      <td>...</td>\n",
              "      <td>58</td>\n",
              "      <td>30</td>\n",
              "      <td>19</td>\n",
              "      <td>14</td>\n",
              "      <td>80</td>\n",
              "      <td>30</td>\n",
              "      <td>48</td>\n",
              "      <td>30</td>\n",
              "      <td>103</td>\n",
              "      <td>36</td>\n",
              "    </tr>\n",
              "  </tbody>\n",
              "</table>\n",
              "<p>2 rows × 139 columns</p>\n",
              "</div>"
            ],
            "text/plain": [
              "점포코드  C010001  C010002  C010003  C010004  C010005  C010006  C010007  C010008  \\\n",
              "채널                                                                             \n",
              "오프라인        2       48        0        2        3        0        0        0   \n",
              "온라인       108        0      512      372      319      109      108      137   \n",
              "\n",
              "점포코드  C010009  C010010  ...  C010134  C010135  C010136  C010137  C010138  \\\n",
              "채널                      ...                                                \n",
              "오프라인        0        2  ...        0        0        0        0        0   \n",
              "온라인        90      409  ...       58       30       19       14       80   \n",
              "\n",
              "점포코드  C010139  C010140  C010141  C010142  C010143  \n",
              "채널                                                 \n",
              "오프라인        0        0        0        0        0  \n",
              "온라인        30       48       30      103       36  \n",
              "\n",
              "[2 rows x 139 columns]"
            ]
          },
          "execution_count": 81,
          "metadata": {},
          "output_type": "execute_result"
        }
      ],
      "source": [
        "pd.pivot_table(df3[df3.이용일자!=df3.방문일자],columns='점포코드',index='채널',values='고객번호',aggfunc='count',fill_value=0)"
      ]
    },
    {
      "cell_type": "code",
      "execution_count": null,
      "metadata": {
        "colab": {
          "base_uri": "https://localhost:8080/",
          "height": 424
        },
        "id": "24v7GXFIa-eC",
        "outputId": "604d276e-e4ab-42f5-e71e-605c4b9a71c0",
        "scrolled": true
      },
      "outputs": [
        {
          "data": {
            "text/html": [
              "<div>\n",
              "<style scoped>\n",
              "    .dataframe tbody tr th:only-of-type {\n",
              "        vertical-align: middle;\n",
              "    }\n",
              "\n",
              "    .dataframe tbody tr th {\n",
              "        vertical-align: top;\n",
              "    }\n",
              "\n",
              "    .dataframe thead th {\n",
              "        text-align: right;\n",
              "    }\n",
              "</style>\n",
              "<table border=\"1\" class=\"dataframe\">\n",
              "  <thead>\n",
              "    <tr style=\"text-align: right;\">\n",
              "      <th></th>\n",
              "      <th>고객번호</th>\n",
              "      <th>영수증번호</th>\n",
              "      <th>제휴사</th>\n",
              "      <th>점포코드</th>\n",
              "      <th>채널</th>\n",
              "      <th>이용일자</th>\n",
              "      <th>방문일자</th>\n",
              "      <th>이용시간</th>\n",
              "      <th>이용금액</th>\n",
              "      <th>성별</th>\n",
              "      <th>연령대</th>\n",
              "      <th>거주지</th>\n",
              "      <th>점포대분류</th>\n",
              "      <th>점포중분류</th>\n",
              "      <th>결제후방문</th>\n",
              "    </tr>\n",
              "  </thead>\n",
              "  <tbody>\n",
              "    <tr>\n",
              "      <th>7570</th>\n",
              "      <td>M293436446</td>\n",
              "      <td>21052522C010352740</td>\n",
              "      <td>C01</td>\n",
              "      <td>C010011</td>\n",
              "      <td>오프라인</td>\n",
              "      <td>2021-05-25</td>\n",
              "      <td>2021-05-26</td>\n",
              "      <td>22</td>\n",
              "      <td>5000</td>\n",
              "      <td>여성</td>\n",
              "      <td>60대</td>\n",
              "      <td>Z17</td>\n",
              "      <td>Z17</td>\n",
              "      <td>Z17018</td>\n",
              "      <td>1</td>\n",
              "    </tr>\n",
              "    <tr>\n",
              "      <th>7573</th>\n",
              "      <td>M293436446</td>\n",
              "      <td>21052522C013954354</td>\n",
              "      <td>C01</td>\n",
              "      <td>C010011</td>\n",
              "      <td>오프라인</td>\n",
              "      <td>2021-05-25</td>\n",
              "      <td>2021-05-26</td>\n",
              "      <td>22</td>\n",
              "      <td>5000</td>\n",
              "      <td>여성</td>\n",
              "      <td>60대</td>\n",
              "      <td>Z17</td>\n",
              "      <td>Z17</td>\n",
              "      <td>Z17018</td>\n",
              "      <td>1</td>\n",
              "    </tr>\n",
              "    <tr>\n",
              "      <th>7576</th>\n",
              "      <td>M293436446</td>\n",
              "      <td>21112317C015166220</td>\n",
              "      <td>C01</td>\n",
              "      <td>C010011</td>\n",
              "      <td>오프라인</td>\n",
              "      <td>2021-11-23</td>\n",
              "      <td>2021-11-24</td>\n",
              "      <td>17</td>\n",
              "      <td>6000</td>\n",
              "      <td>여성</td>\n",
              "      <td>60대</td>\n",
              "      <td>Z17</td>\n",
              "      <td>Z17</td>\n",
              "      <td>Z17018</td>\n",
              "      <td>1</td>\n",
              "    </tr>\n",
              "    <tr>\n",
              "      <th>7577</th>\n",
              "      <td>M293436446</td>\n",
              "      <td>21112317C013060810</td>\n",
              "      <td>C01</td>\n",
              "      <td>C010011</td>\n",
              "      <td>오프라인</td>\n",
              "      <td>2021-11-23</td>\n",
              "      <td>2021-11-24</td>\n",
              "      <td>17</td>\n",
              "      <td>6000</td>\n",
              "      <td>여성</td>\n",
              "      <td>60대</td>\n",
              "      <td>Z17</td>\n",
              "      <td>Z17</td>\n",
              "      <td>Z17018</td>\n",
              "      <td>1</td>\n",
              "    </tr>\n",
              "    <tr>\n",
              "      <th>7729</th>\n",
              "      <td>M042800296</td>\n",
              "      <td>21061218C014528031</td>\n",
              "      <td>C01</td>\n",
              "      <td>C010011</td>\n",
              "      <td>오프라인</td>\n",
              "      <td>2021-06-12</td>\n",
              "      <td>2021-06-13</td>\n",
              "      <td>18</td>\n",
              "      <td>26000</td>\n",
              "      <td>여성</td>\n",
              "      <td>50대</td>\n",
              "      <td>Z17</td>\n",
              "      <td>Z17</td>\n",
              "      <td>Z17018</td>\n",
              "      <td>1</td>\n",
              "    </tr>\n",
              "    <tr>\n",
              "      <th>...</th>\n",
              "      <td>...</td>\n",
              "      <td>...</td>\n",
              "      <td>...</td>\n",
              "      <td>...</td>\n",
              "      <td>...</td>\n",
              "      <td>...</td>\n",
              "      <td>...</td>\n",
              "      <td>...</td>\n",
              "      <td>...</td>\n",
              "      <td>...</td>\n",
              "      <td>...</td>\n",
              "      <td>...</td>\n",
              "      <td>...</td>\n",
              "      <td>...</td>\n",
              "      <td>...</td>\n",
              "    </tr>\n",
              "    <tr>\n",
              "      <th>212166</th>\n",
              "      <td>M202097889</td>\n",
              "      <td>21122523C010015229</td>\n",
              "      <td>C01</td>\n",
              "      <td>C010029</td>\n",
              "      <td>오프라인</td>\n",
              "      <td>2021-12-25</td>\n",
              "      <td>2021-12-26</td>\n",
              "      <td>23</td>\n",
              "      <td>15000</td>\n",
              "      <td>남성</td>\n",
              "      <td>30대</td>\n",
              "      <td>Z17</td>\n",
              "      <td>Z10</td>\n",
              "      <td>Z10018</td>\n",
              "      <td>1</td>\n",
              "    </tr>\n",
              "    <tr>\n",
              "      <th>212167</th>\n",
              "      <td>M290090668</td>\n",
              "      <td>21080721C011417520</td>\n",
              "      <td>C01</td>\n",
              "      <td>C010029</td>\n",
              "      <td>오프라인</td>\n",
              "      <td>2021-08-07</td>\n",
              "      <td>2021-08-08</td>\n",
              "      <td>21</td>\n",
              "      <td>16000</td>\n",
              "      <td>남성</td>\n",
              "      <td>20대</td>\n",
              "      <td>Z10</td>\n",
              "      <td>Z10</td>\n",
              "      <td>Z10018</td>\n",
              "      <td>1</td>\n",
              "    </tr>\n",
              "    <tr>\n",
              "      <th>216377</th>\n",
              "      <td>M282024254</td>\n",
              "      <td>21041917C013019721</td>\n",
              "      <td>C01</td>\n",
              "      <td>C010109</td>\n",
              "      <td>오프라인</td>\n",
              "      <td>2021-04-19</td>\n",
              "      <td>2021-04-24</td>\n",
              "      <td>17</td>\n",
              "      <td>13500</td>\n",
              "      <td>여성</td>\n",
              "      <td>40대</td>\n",
              "      <td>Z11</td>\n",
              "      <td>Z11</td>\n",
              "      <td>Z11019</td>\n",
              "      <td>5</td>\n",
              "    </tr>\n",
              "    <tr>\n",
              "      <th>241117</th>\n",
              "      <td>M318434546</td>\n",
              "      <td>21072814C011810482</td>\n",
              "      <td>C01</td>\n",
              "      <td>C010110</td>\n",
              "      <td>오프라인</td>\n",
              "      <td>2021-07-28</td>\n",
              "      <td>2021-07-29</td>\n",
              "      <td>14</td>\n",
              "      <td>14000</td>\n",
              "      <td>여성</td>\n",
              "      <td>30대</td>\n",
              "      <td>Z11</td>\n",
              "      <td>Z11</td>\n",
              "      <td>Z11008</td>\n",
              "      <td>1</td>\n",
              "    </tr>\n",
              "    <tr>\n",
              "      <th>241118</th>\n",
              "      <td>M318434546</td>\n",
              "      <td>21072814C010314440</td>\n",
              "      <td>C01</td>\n",
              "      <td>C010110</td>\n",
              "      <td>오프라인</td>\n",
              "      <td>2021-07-28</td>\n",
              "      <td>2021-07-29</td>\n",
              "      <td>14</td>\n",
              "      <td>13000</td>\n",
              "      <td>여성</td>\n",
              "      <td>30대</td>\n",
              "      <td>Z11</td>\n",
              "      <td>Z11</td>\n",
              "      <td>Z11008</td>\n",
              "      <td>1</td>\n",
              "    </tr>\n",
              "  </tbody>\n",
              "</table>\n",
              "<p>683 rows × 15 columns</p>\n",
              "</div>"
            ],
            "text/plain": [
              "              고객번호               영수증번호  제휴사     점포코드    채널       이용일자  \\\n",
              "7570    M293436446  21052522C010352740  C01  C010011  오프라인 2021-05-25   \n",
              "7573    M293436446  21052522C013954354  C01  C010011  오프라인 2021-05-25   \n",
              "7576    M293436446  21112317C015166220  C01  C010011  오프라인 2021-11-23   \n",
              "7577    M293436446  21112317C013060810  C01  C010011  오프라인 2021-11-23   \n",
              "7729    M042800296  21061218C014528031  C01  C010011  오프라인 2021-06-12   \n",
              "...            ...                 ...  ...      ...   ...        ...   \n",
              "212166  M202097889  21122523C010015229  C01  C010029  오프라인 2021-12-25   \n",
              "212167  M290090668  21080721C011417520  C01  C010029  오프라인 2021-08-07   \n",
              "216377  M282024254  21041917C013019721  C01  C010109  오프라인 2021-04-19   \n",
              "241117  M318434546  21072814C011810482  C01  C010110  오프라인 2021-07-28   \n",
              "241118  M318434546  21072814C010314440  C01  C010110  오프라인 2021-07-28   \n",
              "\n",
              "             방문일자  이용시간   이용금액  성별  연령대  거주지 점포대분류   점포중분류  결제후방문  \n",
              "7570   2021-05-26    22   5000  여성  60대  Z17   Z17  Z17018      1  \n",
              "7573   2021-05-26    22   5000  여성  60대  Z17   Z17  Z17018      1  \n",
              "7576   2021-11-24    17   6000  여성  60대  Z17   Z17  Z17018      1  \n",
              "7577   2021-11-24    17   6000  여성  60대  Z17   Z17  Z17018      1  \n",
              "7729   2021-06-13    18  26000  여성  50대  Z17   Z17  Z17018      1  \n",
              "...           ...   ...    ...  ..  ...  ...   ...     ...    ...  \n",
              "212166 2021-12-26    23  15000  남성  30대  Z17   Z10  Z10018      1  \n",
              "212167 2021-08-08    21  16000  남성  20대  Z10   Z10  Z10018      1  \n",
              "216377 2021-04-24    17  13500  여성  40대  Z11   Z11  Z11019      5  \n",
              "241117 2021-07-29    14  14000  여성  30대  Z11   Z11  Z11008      1  \n",
              "241118 2021-07-29    14  13000  여성  30대  Z11   Z11  Z11008      1  \n",
              "\n",
              "[683 rows x 15 columns]"
            ]
          },
          "execution_count": 97,
          "metadata": {},
          "output_type": "execute_result"
        }
      ],
      "source": [
        "df3[df3.이용일자!=df3.방문일자].query('채널 == \"오프라인\"')"
      ]
    },
    {
      "cell_type": "markdown",
      "metadata": {
        "id": "HB3dTn72a-ZD"
      },
      "source": [
        "### 고객별 통계"
      ]
    },
    {
      "cell_type": "markdown",
      "metadata": {
        "id": "Qri13bT-Ny19"
      },
      "source": [
        "#### 1) 고객별 평균 이용금액"
      ]
    },
    {
      "cell_type": "code",
      "execution_count": null,
      "metadata": {
        "id": "63ccwF5oa-Up",
        "outputId": "a020a24a-f205-4f2a-8419-e5002e815261"
      },
      "outputs": [
        {
          "data": {
            "text/plain": [
              "고객번호\n",
              "M000034966     3900.0\n",
              "M000059535    46000.0\n",
              "M000136117    15827.0\n",
              "M000225114    31620.0\n",
              "M000261625    23250.0\n",
              "               ...   \n",
              "M999708287    30000.0\n",
              "M999770689    15717.0\n",
              "M999849895    15000.0\n",
              "M999926092    18500.0\n",
              "M999962961    16285.0\n",
              "Name: 이용금액, Length: 21769, dtype: float64"
            ]
          },
          "execution_count": 59,
          "metadata": {},
          "output_type": "execute_result"
        }
      ],
      "source": [
        "round(df3.groupby('고객번호')['이용금액'].mean())"
      ]
    },
    {
      "cell_type": "markdown",
      "metadata": {
        "id": "jqlNq3mINy19"
      },
      "source": [
        "#### 2) 고객별 최대 이용금액"
      ]
    },
    {
      "cell_type": "code",
      "execution_count": null,
      "metadata": {
        "id": "kwdevsB-a-Mx",
        "outputId": "71cba84d-645e-48a5-e77a-edd8d67116d2"
      },
      "outputs": [
        {
          "data": {
            "text/plain": [
              "고객번호\n",
              "M000034966      3900\n",
              "M000059535     46000\n",
              "M000136117     20500\n",
              "M000225114    109000\n",
              "M000261625     23250\n",
              "               ...  \n",
              "M999708287     34000\n",
              "M999770689     26000\n",
              "M999849895     15000\n",
              "M999926092     29100\n",
              "M999962961     49000\n",
              "Name: 이용금액, Length: 21769, dtype: int64"
            ]
          },
          "execution_count": 61,
          "metadata": {},
          "output_type": "execute_result"
        }
      ],
      "source": [
        "df3.groupby('고객번호')['이용금액'].max()"
      ]
    },
    {
      "cell_type": "markdown",
      "metadata": {
        "id": "z4maPf6mNy19"
      },
      "source": [
        "#### 3) 고객별 최다 구매 제휴사"
      ]
    },
    {
      "cell_type": "code",
      "execution_count": null,
      "metadata": {
        "scrolled": true,
        "id": "tuMgfkszNy19",
        "outputId": "49ed7a7f-54ea-4e15-9d8a-4422916a4c7f"
      },
      "outputs": [
        {
          "data": {
            "text/plain": [
              "고객번호\n",
              "M000034966    D01\n",
              "M000059535    C01\n",
              "M000136117    D01\n",
              "M000225114    C02\n",
              "M000261625    D01\n",
              "             ... \n",
              "M999708287    C01\n",
              "M999770689    B01\n",
              "M999849895    D01\n",
              "M999926092    D02\n",
              "M999962961    C02\n",
              "Name: 제휴사, Length: 21769, dtype: object"
            ]
          },
          "execution_count": 52,
          "metadata": {},
          "output_type": "execute_result"
        }
      ],
      "source": [
        "df3.groupby('고객번호')['제휴사'].agg(lambda x : x.value_counts().idxmax())"
      ]
    },
    {
      "cell_type": "markdown",
      "metadata": {
        "id": "5hkNp46pNy19"
      },
      "source": [
        "#### 4) 고객별 제휴사별 구매횟수"
      ]
    },
    {
      "cell_type": "code",
      "execution_count": null,
      "metadata": {
        "id": "DWoXnI7UNy1-",
        "outputId": "b5a3741e-8c8d-4e17-dbd5-d112412f6193"
      },
      "outputs": [
        {
          "data": {
            "text/html": [
              "<div>\n",
              "<style scoped>\n",
              "    .dataframe tbody tr th:only-of-type {\n",
              "        vertical-align: middle;\n",
              "    }\n",
              "\n",
              "    .dataframe tbody tr th {\n",
              "        vertical-align: top;\n",
              "    }\n",
              "\n",
              "    .dataframe thead th {\n",
              "        text-align: right;\n",
              "    }\n",
              "</style>\n",
              "<table border=\"1\" class=\"dataframe\">\n",
              "  <thead>\n",
              "    <tr style=\"text-align: right;\">\n",
              "      <th>제휴사</th>\n",
              "      <th>B01</th>\n",
              "      <th>C01</th>\n",
              "      <th>C02</th>\n",
              "      <th>D01</th>\n",
              "      <th>D02</th>\n",
              "      <th>E01</th>\n",
              "    </tr>\n",
              "    <tr>\n",
              "      <th>고객번호</th>\n",
              "      <th></th>\n",
              "      <th></th>\n",
              "      <th></th>\n",
              "      <th></th>\n",
              "      <th></th>\n",
              "      <th></th>\n",
              "    </tr>\n",
              "  </thead>\n",
              "  <tbody>\n",
              "    <tr>\n",
              "      <th>M000034966</th>\n",
              "      <td>0</td>\n",
              "      <td>0</td>\n",
              "      <td>0</td>\n",
              "      <td>1</td>\n",
              "      <td>0</td>\n",
              "      <td>0</td>\n",
              "    </tr>\n",
              "    <tr>\n",
              "      <th>M000059535</th>\n",
              "      <td>0</td>\n",
              "      <td>1</td>\n",
              "      <td>0</td>\n",
              "      <td>0</td>\n",
              "      <td>0</td>\n",
              "      <td>0</td>\n",
              "    </tr>\n",
              "    <tr>\n",
              "      <th>M000136117</th>\n",
              "      <td>0</td>\n",
              "      <td>0</td>\n",
              "      <td>0</td>\n",
              "      <td>15</td>\n",
              "      <td>0</td>\n",
              "      <td>0</td>\n",
              "    </tr>\n",
              "    <tr>\n",
              "      <th>M000225114</th>\n",
              "      <td>0</td>\n",
              "      <td>1</td>\n",
              "      <td>7</td>\n",
              "      <td>0</td>\n",
              "      <td>2</td>\n",
              "      <td>0</td>\n",
              "    </tr>\n",
              "    <tr>\n",
              "      <th>M000261625</th>\n",
              "      <td>0</td>\n",
              "      <td>0</td>\n",
              "      <td>0</td>\n",
              "      <td>1</td>\n",
              "      <td>0</td>\n",
              "      <td>0</td>\n",
              "    </tr>\n",
              "    <tr>\n",
              "      <th>...</th>\n",
              "      <td>...</td>\n",
              "      <td>...</td>\n",
              "      <td>...</td>\n",
              "      <td>...</td>\n",
              "      <td>...</td>\n",
              "      <td>...</td>\n",
              "    </tr>\n",
              "    <tr>\n",
              "      <th>M999708287</th>\n",
              "      <td>0</td>\n",
              "      <td>2</td>\n",
              "      <td>0</td>\n",
              "      <td>0</td>\n",
              "      <td>0</td>\n",
              "      <td>0</td>\n",
              "    </tr>\n",
              "    <tr>\n",
              "      <th>M999770689</th>\n",
              "      <td>9</td>\n",
              "      <td>0</td>\n",
              "      <td>0</td>\n",
              "      <td>2</td>\n",
              "      <td>4</td>\n",
              "      <td>0</td>\n",
              "    </tr>\n",
              "    <tr>\n",
              "      <th>M999849895</th>\n",
              "      <td>0</td>\n",
              "      <td>0</td>\n",
              "      <td>0</td>\n",
              "      <td>1</td>\n",
              "      <td>0</td>\n",
              "      <td>0</td>\n",
              "    </tr>\n",
              "    <tr>\n",
              "      <th>M999926092</th>\n",
              "      <td>0</td>\n",
              "      <td>1</td>\n",
              "      <td>0</td>\n",
              "      <td>2</td>\n",
              "      <td>4</td>\n",
              "      <td>0</td>\n",
              "    </tr>\n",
              "    <tr>\n",
              "      <th>M999962961</th>\n",
              "      <td>0</td>\n",
              "      <td>6</td>\n",
              "      <td>9</td>\n",
              "      <td>6</td>\n",
              "      <td>2</td>\n",
              "      <td>0</td>\n",
              "    </tr>\n",
              "  </tbody>\n",
              "</table>\n",
              "<p>21768 rows × 6 columns</p>\n",
              "</div>"
            ],
            "text/plain": [
              "제휴사         B01  C01  C02  D01  D02  E01\n",
              "고객번호                                    \n",
              "M000034966    0    0    0    1    0    0\n",
              "M000059535    0    1    0    0    0    0\n",
              "M000136117    0    0    0   15    0    0\n",
              "M000225114    0    1    7    0    2    0\n",
              "M000261625    0    0    0    1    0    0\n",
              "...         ...  ...  ...  ...  ...  ...\n",
              "M999708287    0    2    0    0    0    0\n",
              "M999770689    9    0    0    2    4    0\n",
              "M999849895    0    0    0    1    0    0\n",
              "M999926092    0    1    0    2    4    0\n",
              "M999962961    0    6    9    6    2    0\n",
              "\n",
              "[21768 rows x 6 columns]"
            ]
          },
          "execution_count": 309,
          "metadata": {},
          "output_type": "execute_result"
        }
      ],
      "source": [
        "pd.pivot_table(df3,index='고객번호',columns='제휴사',values='영수증번호',aggfunc='count',fill_value=0)"
      ]
    },
    {
      "cell_type": "markdown",
      "metadata": {
        "id": "ADDlO1xsNy1-"
      },
      "source": [
        "#### 5) 고객별 제휴사별 이용금액 합계"
      ]
    },
    {
      "cell_type": "code",
      "execution_count": null,
      "metadata": {
        "id": "TZnPuLwkNy1-",
        "outputId": "4aae4733-a255-4cfd-e33e-0384607938bb"
      },
      "outputs": [
        {
          "data": {
            "text/html": [
              "<div>\n",
              "<style scoped>\n",
              "    .dataframe tbody tr th:only-of-type {\n",
              "        vertical-align: middle;\n",
              "    }\n",
              "\n",
              "    .dataframe tbody tr th {\n",
              "        vertical-align: top;\n",
              "    }\n",
              "\n",
              "    .dataframe thead th {\n",
              "        text-align: right;\n",
              "    }\n",
              "</style>\n",
              "<table border=\"1\" class=\"dataframe\">\n",
              "  <thead>\n",
              "    <tr style=\"text-align: right;\">\n",
              "      <th>제휴사</th>\n",
              "      <th>B01</th>\n",
              "      <th>C01</th>\n",
              "      <th>C02</th>\n",
              "      <th>D01</th>\n",
              "      <th>D02</th>\n",
              "      <th>E01</th>\n",
              "    </tr>\n",
              "    <tr>\n",
              "      <th>고객번호</th>\n",
              "      <th></th>\n",
              "      <th></th>\n",
              "      <th></th>\n",
              "      <th></th>\n",
              "      <th></th>\n",
              "      <th></th>\n",
              "    </tr>\n",
              "  </thead>\n",
              "  <tbody>\n",
              "    <tr>\n",
              "      <th>M000034966</th>\n",
              "      <td>0</td>\n",
              "      <td>0</td>\n",
              "      <td>0</td>\n",
              "      <td>3900</td>\n",
              "      <td>0</td>\n",
              "      <td>0</td>\n",
              "    </tr>\n",
              "    <tr>\n",
              "      <th>M000059535</th>\n",
              "      <td>0</td>\n",
              "      <td>46000</td>\n",
              "      <td>0</td>\n",
              "      <td>0</td>\n",
              "      <td>0</td>\n",
              "      <td>0</td>\n",
              "    </tr>\n",
              "    <tr>\n",
              "      <th>M000136117</th>\n",
              "      <td>0</td>\n",
              "      <td>0</td>\n",
              "      <td>0</td>\n",
              "      <td>237400</td>\n",
              "      <td>0</td>\n",
              "      <td>0</td>\n",
              "    </tr>\n",
              "    <tr>\n",
              "      <th>M000225114</th>\n",
              "      <td>0</td>\n",
              "      <td>11000</td>\n",
              "      <td>287000</td>\n",
              "      <td>0</td>\n",
              "      <td>18200</td>\n",
              "      <td>0</td>\n",
              "    </tr>\n",
              "    <tr>\n",
              "      <th>M000261625</th>\n",
              "      <td>0</td>\n",
              "      <td>0</td>\n",
              "      <td>0</td>\n",
              "      <td>23250</td>\n",
              "      <td>0</td>\n",
              "      <td>0</td>\n",
              "    </tr>\n",
              "    <tr>\n",
              "      <th>...</th>\n",
              "      <td>...</td>\n",
              "      <td>...</td>\n",
              "      <td>...</td>\n",
              "      <td>...</td>\n",
              "      <td>...</td>\n",
              "      <td>...</td>\n",
              "    </tr>\n",
              "    <tr>\n",
              "      <th>M999708287</th>\n",
              "      <td>0</td>\n",
              "      <td>60000</td>\n",
              "      <td>0</td>\n",
              "      <td>0</td>\n",
              "      <td>0</td>\n",
              "      <td>0</td>\n",
              "    </tr>\n",
              "    <tr>\n",
              "      <th>M999770689</th>\n",
              "      <td>169650</td>\n",
              "      <td>0</td>\n",
              "      <td>0</td>\n",
              "      <td>15100</td>\n",
              "      <td>51000</td>\n",
              "      <td>0</td>\n",
              "    </tr>\n",
              "    <tr>\n",
              "      <th>M999849895</th>\n",
              "      <td>0</td>\n",
              "      <td>0</td>\n",
              "      <td>0</td>\n",
              "      <td>15000</td>\n",
              "      <td>0</td>\n",
              "      <td>0</td>\n",
              "    </tr>\n",
              "    <tr>\n",
              "      <th>M999926092</th>\n",
              "      <td>0</td>\n",
              "      <td>10000</td>\n",
              "      <td>0</td>\n",
              "      <td>34700</td>\n",
              "      <td>84800</td>\n",
              "      <td>0</td>\n",
              "    </tr>\n",
              "    <tr>\n",
              "      <th>M999962961</th>\n",
              "      <td>0</td>\n",
              "      <td>156000</td>\n",
              "      <td>161650</td>\n",
              "      <td>43400</td>\n",
              "      <td>13500</td>\n",
              "      <td>0</td>\n",
              "    </tr>\n",
              "  </tbody>\n",
              "</table>\n",
              "<p>21768 rows × 6 columns</p>\n",
              "</div>"
            ],
            "text/plain": [
              "제휴사            B01     C01     C02     D01    D02  E01\n",
              "고객번호                                                  \n",
              "M000034966       0       0       0    3900      0    0\n",
              "M000059535       0   46000       0       0      0    0\n",
              "M000136117       0       0       0  237400      0    0\n",
              "M000225114       0   11000  287000       0  18200    0\n",
              "M000261625       0       0       0   23250      0    0\n",
              "...            ...     ...     ...     ...    ...  ...\n",
              "M999708287       0   60000       0       0      0    0\n",
              "M999770689  169650       0       0   15100  51000    0\n",
              "M999849895       0       0       0   15000      0    0\n",
              "M999926092       0   10000       0   34700  84800    0\n",
              "M999962961       0  156000  161650   43400  13500    0\n",
              "\n",
              "[21768 rows x 6 columns]"
            ]
          },
          "execution_count": 308,
          "metadata": {},
          "output_type": "execute_result"
        }
      ],
      "source": [
        "pd.pivot_table(df3,index='고객번호',columns='제휴사',values='이용금액',aggfunc='sum',fill_value=0)"
      ]
    },
    {
      "cell_type": "markdown",
      "metadata": {
        "id": "ifXOchTZNy1-"
      },
      "source": [
        "#### 6) 고객별 제휴사별 이용금액 평균\n",
        "- 어떤 제휴사에서 한 번 살 때 비싸게 사는지?"
      ]
    },
    {
      "cell_type": "code",
      "execution_count": null,
      "metadata": {
        "id": "ufiZwPsBNy1-",
        "outputId": "611fc701-9d42-4816-c156-c848529bc939"
      },
      "outputs": [
        {
          "data": {
            "text/html": [
              "<div>\n",
              "<style scoped>\n",
              "    .dataframe tbody tr th:only-of-type {\n",
              "        vertical-align: middle;\n",
              "    }\n",
              "\n",
              "    .dataframe tbody tr th {\n",
              "        vertical-align: top;\n",
              "    }\n",
              "\n",
              "    .dataframe thead th {\n",
              "        text-align: right;\n",
              "    }\n",
              "</style>\n",
              "<table border=\"1\" class=\"dataframe\">\n",
              "  <thead>\n",
              "    <tr style=\"text-align: right;\">\n",
              "      <th>제휴사</th>\n",
              "      <th>고객번호</th>\n",
              "      <th>B01</th>\n",
              "      <th>C01</th>\n",
              "      <th>C02</th>\n",
              "      <th>D01</th>\n",
              "      <th>D02</th>\n",
              "      <th>E01</th>\n",
              "    </tr>\n",
              "  </thead>\n",
              "  <tbody>\n",
              "    <tr>\n",
              "      <th>0</th>\n",
              "      <td>M000034966</td>\n",
              "      <td>0.0</td>\n",
              "      <td>0.0</td>\n",
              "      <td>0.000000</td>\n",
              "      <td>3900.000000</td>\n",
              "      <td>0.0</td>\n",
              "      <td>0.0</td>\n",
              "    </tr>\n",
              "    <tr>\n",
              "      <th>1</th>\n",
              "      <td>M000059535</td>\n",
              "      <td>0.0</td>\n",
              "      <td>46000.0</td>\n",
              "      <td>0.000000</td>\n",
              "      <td>0.000000</td>\n",
              "      <td>0.0</td>\n",
              "      <td>0.0</td>\n",
              "    </tr>\n",
              "    <tr>\n",
              "      <th>2</th>\n",
              "      <td>M000136117</td>\n",
              "      <td>0.0</td>\n",
              "      <td>0.0</td>\n",
              "      <td>0.000000</td>\n",
              "      <td>15826.666667</td>\n",
              "      <td>0.0</td>\n",
              "      <td>0.0</td>\n",
              "    </tr>\n",
              "    <tr>\n",
              "      <th>3</th>\n",
              "      <td>M000225114</td>\n",
              "      <td>0.0</td>\n",
              "      <td>11000.0</td>\n",
              "      <td>41000.000000</td>\n",
              "      <td>0.000000</td>\n",
              "      <td>9100.0</td>\n",
              "      <td>0.0</td>\n",
              "    </tr>\n",
              "    <tr>\n",
              "      <th>4</th>\n",
              "      <td>M000261625</td>\n",
              "      <td>0.0</td>\n",
              "      <td>0.0</td>\n",
              "      <td>0.000000</td>\n",
              "      <td>23250.000000</td>\n",
              "      <td>0.0</td>\n",
              "      <td>0.0</td>\n",
              "    </tr>\n",
              "    <tr>\n",
              "      <th>...</th>\n",
              "      <td>...</td>\n",
              "      <td>...</td>\n",
              "      <td>...</td>\n",
              "      <td>...</td>\n",
              "      <td>...</td>\n",
              "      <td>...</td>\n",
              "      <td>...</td>\n",
              "    </tr>\n",
              "    <tr>\n",
              "      <th>21764</th>\n",
              "      <td>M999708287</td>\n",
              "      <td>0.0</td>\n",
              "      <td>30000.0</td>\n",
              "      <td>0.000000</td>\n",
              "      <td>0.000000</td>\n",
              "      <td>0.0</td>\n",
              "      <td>0.0</td>\n",
              "    </tr>\n",
              "    <tr>\n",
              "      <th>21765</th>\n",
              "      <td>M999770689</td>\n",
              "      <td>18850.0</td>\n",
              "      <td>0.0</td>\n",
              "      <td>0.000000</td>\n",
              "      <td>7550.000000</td>\n",
              "      <td>12750.0</td>\n",
              "      <td>0.0</td>\n",
              "    </tr>\n",
              "    <tr>\n",
              "      <th>21766</th>\n",
              "      <td>M999849895</td>\n",
              "      <td>0.0</td>\n",
              "      <td>0.0</td>\n",
              "      <td>0.000000</td>\n",
              "      <td>15000.000000</td>\n",
              "      <td>0.0</td>\n",
              "      <td>0.0</td>\n",
              "    </tr>\n",
              "    <tr>\n",
              "      <th>21767</th>\n",
              "      <td>M999926092</td>\n",
              "      <td>0.0</td>\n",
              "      <td>10000.0</td>\n",
              "      <td>0.000000</td>\n",
              "      <td>17350.000000</td>\n",
              "      <td>21200.0</td>\n",
              "      <td>0.0</td>\n",
              "    </tr>\n",
              "    <tr>\n",
              "      <th>21768</th>\n",
              "      <td>M999962961</td>\n",
              "      <td>0.0</td>\n",
              "      <td>26000.0</td>\n",
              "      <td>17961.111111</td>\n",
              "      <td>7233.333333</td>\n",
              "      <td>6750.0</td>\n",
              "      <td>0.0</td>\n",
              "    </tr>\n",
              "  </tbody>\n",
              "</table>\n",
              "<p>21769 rows × 7 columns</p>\n",
              "</div>"
            ],
            "text/plain": [
              "제휴사          고객번호      B01      C01           C02           D01      D02  E01\n",
              "0      M000034966      0.0      0.0      0.000000   3900.000000      0.0  0.0\n",
              "1      M000059535      0.0  46000.0      0.000000      0.000000      0.0  0.0\n",
              "2      M000136117      0.0      0.0      0.000000  15826.666667      0.0  0.0\n",
              "3      M000225114      0.0  11000.0  41000.000000      0.000000   9100.0  0.0\n",
              "4      M000261625      0.0      0.0      0.000000  23250.000000      0.0  0.0\n",
              "...           ...      ...      ...           ...           ...      ...  ...\n",
              "21764  M999708287      0.0  30000.0      0.000000      0.000000      0.0  0.0\n",
              "21765  M999770689  18850.0      0.0      0.000000   7550.000000  12750.0  0.0\n",
              "21766  M999849895      0.0      0.0      0.000000  15000.000000      0.0  0.0\n",
              "21767  M999926092      0.0  10000.0      0.000000  17350.000000  21200.0  0.0\n",
              "21768  M999962961      0.0  26000.0  17961.111111   7233.333333   6750.0  0.0\n",
              "\n",
              "[21769 rows x 7 columns]"
            ]
          },
          "execution_count": 67,
          "metadata": {},
          "output_type": "execute_result"
        }
      ],
      "source": [
        "pd.pivot_table(df3,index='고객번호',columns='제휴사',values='이용금액',aggfunc='mean',fill_value=0).reset_index()"
      ]
    },
    {
      "cell_type": "markdown",
      "metadata": {
        "id": "VDaOoLJGNy1_"
      },
      "source": [
        "#### 7) 고객별 선호 채널"
      ]
    },
    {
      "cell_type": "code",
      "execution_count": null,
      "metadata": {
        "id": "oYDapeO0Ny1_",
        "outputId": "8a579c50-274c-4718-8d49-038e9f0ddf6f"
      },
      "outputs": [
        {
          "data": {
            "text/plain": [
              "고객번호\n",
              "M000034966    오프라인\n",
              "M000059535     온라인\n",
              "M000136117    오프라인\n",
              "M000225114    오프라인\n",
              "M000261625    오프라인\n",
              "              ... \n",
              "M999708287     온라인\n",
              "M999770689    오프라인\n",
              "M999849895    오프라인\n",
              "M999926092    오프라인\n",
              "M999962961    오프라인\n",
              "Name: 채널, Length: 21769, dtype: object"
            ]
          },
          "execution_count": 53,
          "metadata": {},
          "output_type": "execute_result"
        }
      ],
      "source": [
        "df3.groupby('고객번호')['채널'].agg(lambda x : x.value_counts().idxmax())"
      ]
    },
    {
      "cell_type": "markdown",
      "metadata": {
        "id": "KVOZbES6Ny1_"
      },
      "source": [
        "#### 8) 고객별 결제 후 방문까지 걸린 평균 시간"
      ]
    },
    {
      "cell_type": "code",
      "execution_count": null,
      "metadata": {
        "scrolled": false,
        "id": "x-rC5St2Ny1_",
        "outputId": "60f4dceb-ceeb-4820-cdde-7969132ccc0c"
      },
      "outputs": [
        {
          "data": {
            "text/plain": [
              "고객번호\n",
              "M000034966    0.000000\n",
              "M000059535    2.000000\n",
              "M000136117    0.000000\n",
              "M000225114    0.000000\n",
              "M000261625    0.000000\n",
              "                ...   \n",
              "M999708287    1.000000\n",
              "M999770689    0.000000\n",
              "M999849895    0.000000\n",
              "M999926092    0.142857\n",
              "M999962961    0.173913\n",
              "Name: 결제후방문, Length: 21769, dtype: float64"
            ]
          },
          "execution_count": 106,
          "metadata": {},
          "output_type": "execute_result"
        }
      ],
      "source": [
        "df3.groupby('고객번호')['결제후방문'].mean()"
      ]
    },
    {
      "cell_type": "markdown",
      "metadata": {
        "id": "MvgB968hNy2B"
      },
      "source": [
        "#### 9) 고객별 결제 후 방문까지 걸린 최대 시간"
      ]
    },
    {
      "cell_type": "code",
      "execution_count": null,
      "metadata": {
        "scrolled": false,
        "id": "VCC0CTbdNy2B",
        "outputId": "f1d06812-4fbf-4a56-b566-a51b4e5975ca"
      },
      "outputs": [
        {
          "data": {
            "text/plain": [
              "고객번호\n",
              "M000034966    0\n",
              "M000059535    2\n",
              "M000136117    0\n",
              "M000225114    0\n",
              "M000261625    0\n",
              "             ..\n",
              "M999708287    1\n",
              "M999770689    0\n",
              "M999849895    0\n",
              "M999926092    1\n",
              "M999962961    2\n",
              "Name: 결제후방문, Length: 21769, dtype: int64"
            ]
          },
          "execution_count": 107,
          "metadata": {},
          "output_type": "execute_result"
        }
      ],
      "source": [
        "df3.groupby('고객번호')['결제후방문'].max()"
      ]
    },
    {
      "cell_type": "markdown",
      "metadata": {
        "id": "9iuCRmlLNy2B"
      },
      "source": [
        "#### 10) 고객별 하루 결제 횟수?"
      ]
    },
    {
      "cell_type": "markdown",
      "metadata": {
        "id": "0XZ5K1R-Ny2C"
      },
      "source": [
        "- 하루에 한 점포에서 결제 2번 => 분할결제??"
      ]
    },
    {
      "cell_type": "code",
      "execution_count": null,
      "metadata": {
        "id": "d6bG-PMnNy2C",
        "outputId": "f597d142-4613-4d92-8872-b3bc0f067cbb"
      },
      "outputs": [
        {
          "data": {
            "text/plain": [
              "고객번호        이용일자        점포코드   \n",
              "M000034966  2021-10-30  D011011    1\n",
              "M000059535  2021-03-03  C010085    1\n",
              "M000136117  2021-02-26  D010062    1\n",
              "            2021-03-18  D010062    1\n",
              "            2021-03-29  D010062    1\n",
              "                                  ..\n",
              "M999962961  2021-10-10  C010011    1\n",
              "            2021-10-19  D010968    1\n",
              "            2021-12-16  D010884    2\n",
              "            2021-12-19  C010011    1\n",
              "            2021-12-23  D010884    1\n",
              "Name: 영수증번호, Length: 212527, dtype: int64"
            ]
          },
          "execution_count": 345,
          "metadata": {},
          "output_type": "execute_result"
        }
      ],
      "source": [
        "df3.groupby(['고객번호','이용일자','점포코드']).영수증번호.nunique()"
      ]
    },
    {
      "cell_type": "markdown",
      "metadata": {
        "id": "f68Xg4aCNy2C"
      },
      "source": [
        "#### 11) 고객별 하루 방문점포 개수?"
      ]
    },
    {
      "cell_type": "code",
      "execution_count": null,
      "metadata": {
        "id": "DmjDdW9mNy2C",
        "outputId": "ad12969b-67ff-49b7-e401-cac6679cb06d"
      },
      "outputs": [
        {
          "data": {
            "text/plain": [
              "고객번호        이용일자      \n",
              "M000034966  2021-10-30    1\n",
              "M000059535  2021-03-03    1\n",
              "M000136117  2021-02-26    1\n",
              "            2021-03-18    1\n",
              "            2021-03-29    1\n",
              "                         ..\n",
              "M999962961  2021-10-10    1\n",
              "            2021-10-19    1\n",
              "            2021-12-16    1\n",
              "            2021-12-19    1\n",
              "            2021-12-23    1\n",
              "Name: 점포코드, Length: 207576, dtype: int64"
            ]
          },
          "execution_count": 344,
          "metadata": {},
          "output_type": "execute_result"
        }
      ],
      "source": [
        "df3.groupby(['고객번호','이용일자']).점포코드.nunique()"
      ]
    },
    {
      "cell_type": "markdown",
      "metadata": {
        "id": "EoyoBN42Ny2C"
      },
      "source": [
        "<font color=green>ex) 고객번호, 이용일자, 점포코드 모두 동일 / 영수증번호 다름. -> 2번 결제"
      ]
    },
    {
      "cell_type": "code",
      "execution_count": null,
      "metadata": {
        "id": "Rm1G8g61Ny2C",
        "outputId": "edbb51fe-a9a4-4af6-89c7-0b47a9cac26a"
      },
      "outputs": [
        {
          "data": {
            "text/html": [
              "<div>\n",
              "<style scoped>\n",
              "    .dataframe tbody tr th:only-of-type {\n",
              "        vertical-align: middle;\n",
              "    }\n",
              "\n",
              "    .dataframe tbody tr th {\n",
              "        vertical-align: top;\n",
              "    }\n",
              "\n",
              "    .dataframe thead th {\n",
              "        text-align: right;\n",
              "    }\n",
              "</style>\n",
              "<table border=\"1\" class=\"dataframe\">\n",
              "  <thead>\n",
              "    <tr style=\"text-align: right;\">\n",
              "      <th></th>\n",
              "      <th>고객번호</th>\n",
              "      <th>영수증번호</th>\n",
              "      <th>제휴사</th>\n",
              "      <th>점포코드</th>\n",
              "      <th>채널</th>\n",
              "      <th>이용일자</th>\n",
              "      <th>방문일자</th>\n",
              "      <th>이용시간</th>\n",
              "      <th>이용금액</th>\n",
              "      <th>성별</th>\n",
              "      <th>연령대</th>\n",
              "      <th>거주지</th>\n",
              "      <th>점포대분류</th>\n",
              "      <th>점포중분류</th>\n",
              "      <th>결제후방문</th>\n",
              "      <th>방문월</th>\n",
              "      <th>방문계절</th>\n",
              "    </tr>\n",
              "  </thead>\n",
              "  <tbody>\n",
              "    <tr>\n",
              "      <th>75416</th>\n",
              "      <td>M999962961</td>\n",
              "      <td>21121617D014753175</td>\n",
              "      <td>D01</td>\n",
              "      <td>D010884</td>\n",
              "      <td>오프라인</td>\n",
              "      <td>2021-12-16</td>\n",
              "      <td>2021-12-16</td>\n",
              "      <td>17</td>\n",
              "      <td>500</td>\n",
              "      <td>여성</td>\n",
              "      <td>50대</td>\n",
              "      <td>Z17</td>\n",
              "      <td>Z17</td>\n",
              "      <td>Z17004</td>\n",
              "      <td>0</td>\n",
              "      <td>12</td>\n",
              "      <td>겨울</td>\n",
              "    </tr>\n",
              "    <tr>\n",
              "      <th>75417</th>\n",
              "      <td>M999962961</td>\n",
              "      <td>21121617D015515514</td>\n",
              "      <td>D01</td>\n",
              "      <td>D010884</td>\n",
              "      <td>오프라인</td>\n",
              "      <td>2021-12-16</td>\n",
              "      <td>2021-12-16</td>\n",
              "      <td>17</td>\n",
              "      <td>14000</td>\n",
              "      <td>여성</td>\n",
              "      <td>50대</td>\n",
              "      <td>Z17</td>\n",
              "      <td>Z17</td>\n",
              "      <td>Z17004</td>\n",
              "      <td>0</td>\n",
              "      <td>12</td>\n",
              "      <td>겨울</td>\n",
              "    </tr>\n",
              "  </tbody>\n",
              "</table>\n",
              "</div>"
            ],
            "text/plain": [
              "             고객번호               영수증번호  제휴사     점포코드    채널       이용일자  \\\n",
              "75416  M999962961  21121617D014753175  D01  D010884  오프라인 2021-12-16   \n",
              "75417  M999962961  21121617D015515514  D01  D010884  오프라인 2021-12-16   \n",
              "\n",
              "            방문일자  이용시간   이용금액  성별  연령대  거주지 점포대분류   점포중분류  결제후방문  방문월 방문계절  \n",
              "75416 2021-12-16    17    500  여성  50대  Z17   Z17  Z17004      0   12   겨울  \n",
              "75417 2021-12-16    17  14000  여성  50대  Z17   Z17  Z17004      0   12   겨울  "
            ]
          },
          "execution_count": 340,
          "metadata": {},
          "output_type": "execute_result"
        }
      ],
      "source": [
        "df3.query(\"고객번호=='M999962961' and 이용일자=='2021-12-16'\")"
      ]
    }
  ],
  "metadata": {
    "colab": {
      "collapsed_sections": [
        "AfrfQDZ0jphG",
        "avPkmpkhoWIS",
        "B5VIs1AvoQzH",
        "ciuP7EGsoYv6",
        "mfB6UVcos96a",
        "0uv5GXfutFd5",
        "C4bSjlANsz0K",
        "Ikrt7uVGNy1d",
        "-NGNbIFXPB9s",
        "QvQhthXfO9lM",
        "5ZAqUeIGNy1i",
        "bBIgjFITeE_l",
        "DUlUPZKmNy1l",
        "QTYHRPBVasgj"
      ],
      "name": "롯데멤버스_현정EDA_제휴사Data.ipynb",
      "provenance": [],
      "include_colab_link": true
    },
    "kernelspec": {
      "display_name": "Python 3 (ipykernel)",
      "language": "python",
      "name": "python3"
    },
    "language_info": {
      "codemirror_mode": {
        "name": "ipython",
        "version": 3
      },
      "file_extension": ".py",
      "mimetype": "text/x-python",
      "name": "python",
      "nbconvert_exporter": "python",
      "pygments_lexer": "ipython3",
      "version": "3.9.12"
    },
    "accelerator": "GPU",
    "gpuClass": "standard"
  },
  "nbformat": 4,
  "nbformat_minor": 0
}